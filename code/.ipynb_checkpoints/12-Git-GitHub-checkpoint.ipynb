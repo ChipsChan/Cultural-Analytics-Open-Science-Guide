{
 "cells": [
  {
   "cell_type": "markdown",
   "metadata": {},
   "source": [
    "# Git and GitHub"
   ]
  },
  {
   "cell_type": "markdown",
   "metadata": {},
   "source": [
    "## What is Git? \n",
    "Git is a version control system, which helps you keep track of the changes that you make in a project. It's a bit like Google Docs or MS Word's Track Changes, except it's typically used for code.\n",
    "\n",
    "## Why is Git Useful? \n",
    "Even though Git is mostly used for code, it's useful to think about Git in relationship to writing projects, which you might be more familiar with.\n",
    "\n",
    "Let's say you're halfway through writing an essay when suddenly you come up with a brilliant idea for a different opening paragraph. Maybe you're tempted to delete the opening paragraph that you've already written and start a new one, but you're scared that the new paragraph won't be quite as brilliant as it seems in your head.\n",
    "\n",
    "With a version control system like Git, you would be able to save the current version of the essay, create another version of the essay with the seemingly brilliant new opening paragraph, and compare them. If you ended up liking the version with the new opening paragraph better, you could easily merge it into the main version of the essay. Even if you changed your mind the next day, you could still revert back to the version with the original opening paragraph. All the changes and updates would be carefully tracked and easily navigable.\n",
    "\n",
    "These are some of the things that make Git so useful, especially when you start working on bigger projects and complicated code.\n",
    "\n",
    "## What is GitHub? \n",
    "GitHub is a website/social network that's built on top of the Git version control software. It allows you to store and easily publish projects. GitHub has become a primary place for people to publish datasets and share code. Remember The Pudding's film dialogue data? They published it [on GitHub](https://github.com/matthewfdaniels/scripts/)!"
   ]
  },
  {
   "cell_type": "markdown",
   "metadata": {},
   "source": [
    "## Negative Critiques of GitHub"
   ]
  },
  {
   "cell_type": "markdown",
   "metadata": {},
   "source": [
    "<a href=\"https://www.theatlantic.com/technology/archive/2020/01/ice-contract-github-sparks-developer-protests/604339/\" ><img src=\"../images/GitHub-ICE-protest.png\" width=100% ></a >"
   ]
  },
  {
   "cell_type": "markdown",
   "metadata": {},
   "source": [
    "It's also important to foreground some recent backlash against GitHub regarding their decision to renew a contract with U.S. Immigrations and Customs Enforcement (ICE). This decision has motivated some employees, developers, and GitHub users to protest and/or boycott the platform.\n",
    "\n",
    "You can read more about the controversy in [\"The Schism at the Heart of the Open-Source Movement\"](https://www.theatlantic.com/technology/archive/2020/01/ice-contract-github-sparks-developer-protests/604339/) and [Dear GitHub](https://github.com/drop-ice/dear-github-2.0/blob/master/README.md)."
   ]
  },
  {
   "cell_type": "markdown",
   "metadata": {},
   "source": [
    "## Anatomy of a GitHub Page"
   ]
  },
  {
   "cell_type": "markdown",
   "metadata": {},
   "source": [
    "<img src=\"../images/GitHub-Anatomy.png\" width=100% >"
   ]
  },
  {
   "cell_type": "markdown",
   "metadata": {},
   "source": [
    "## Install Git"
   ]
  },
  {
   "cell_type": "markdown",
   "metadata": {},
   "source": [
    "To use Git, you first need to install Git. Instructions for [installing Git can be found here](https://git-scm.com/book/en/v2/Getting-Started-Installing-Git).\n",
    "\n",
    "To install Git on a Windows computer, you need to install something called Git for Windows (which comes with something called Git Bash). The Digital Humanities Research Institute offers [helpful step-by-step instructions](https://github.com/DHRI-Curriculum/install/blob/master/sections/git.md#windows) here."
   ]
  },
  {
   "cell_type": "code",
   "execution_count": 1,
   "metadata": {
    "ExecuteTime": {
     "end_time": "2022-11-07T11:01:54.835487Z",
     "start_time": "2022-11-07T11:01:54.661337Z"
    },
    "tags": [
     "command_line"
    ]
   },
   "outputs": [
    {
     "name": "stdout",
     "output_type": "stream",
     "text": [
      "git version 2.38.0\r\n"
     ]
    }
   ],
   "source": [
    "!git --version"
   ]
  },
  {
   "cell_type": "markdown",
   "metadata": {},
   "source": [
    "## Download a GitHub Repository"
   ]
  },
  {
   "cell_type": "markdown",
   "metadata": {},
   "source": [
    "To download an entire GitHub repository, first click the green \"Clone or download button\" and then copy the URL."
   ]
  },
  {
   "cell_type": "markdown",
   "metadata": {},
   "source": [
    "<img src=\"../images/clone-button.png\" width=100% >"
   ]
  },
  {
   "cell_type": "markdown",
   "metadata": {},
   "source": [
    "Then, from the command line (or from Git Bash), type `git clone` and paste the URL for the desired GitHub repo."
   ]
  },
  {
   "cell_type": "code",
   "execution_count": 2,
   "metadata": {
    "ExecuteTime": {
     "end_time": "2022-11-07T11:01:56.852264Z",
     "start_time": "2022-11-07T11:01:55.937192Z"
    },
    "tags": [
     "command_line"
    ]
   },
   "outputs": [
    {
     "name": "stdout",
     "output_type": "stream",
     "text": [
      "Cloning into 'Intro-Cultural-Analytics-Notebooks'...\n",
      "remote: Repository not found.\n",
      "fatal: repository 'https://github.com/melaniewalsh/Intro-Cultural-Analytics-Notebooks.git/' not found\n"
     ]
    }
   ],
   "source": [
    "!git clone https://github.com/melaniewalsh/Intro-Cultural-Analytics-Notebooks.git"
   ]
  },
  {
   "cell_type": "markdown",
   "metadata": {},
   "source": [
    "This `git clone` command should download a folder called \"Intro-Cultural-Analytics-Notebooks,\" which contains all the files and folders in the repository."
   ]
  },
  {
   "cell_type": "markdown",
   "metadata": {},
   "source": [
    "If you navigate into that folder and list its contents, you can see that it matches the GitHub website."
   ]
  },
  {
   "cell_type": "code",
   "execution_count": 3,
   "metadata": {
    "ExecuteTime": {
     "end_time": "2022-11-07T11:01:56.874553Z",
     "start_time": "2022-11-07T11:01:56.868102Z"
    },
    "tags": [
     "command_line"
    ]
   },
   "outputs": [
    {
     "name": "stdout",
     "output_type": "stream",
     "text": [
      "[Errno 2] No such file or directory: 'Intro-Cultural-Analytics-Notebooks/'\n",
      "/Users/paschalis/Documents/MA_DH/textbook/Cultural-Analytics-OS-Guide/code\n"
     ]
    }
   ],
   "source": [
    "cd Intro-Cultural-Analytics-Notebooks/"
   ]
  },
  {
   "cell_type": "code",
   "execution_count": 4,
   "metadata": {
    "ExecuteTime": {
     "end_time": "2022-11-07T11:01:57.042883Z",
     "start_time": "2022-11-07T11:01:56.887758Z"
    },
    "tags": [
     "command_line"
    ]
   },
   "outputs": [
    {
     "name": "stdout",
     "output_type": "stream",
     "text": [
      "00-Datasets.ipynb\r\n",
      "01-The-Command-Line.ipynb\r\n",
      "02-Data-Analysis.ipynb\r\n",
      "03-Pandas-Basics-Part1.ipynb\r\n",
      "03.5-Pandas-Basics-Part1-WORKBOOK.ipynb\r\n",
      "04-Pandas-Basics-Part2.ipynb\r\n",
      "04.5-Pandas-Basics-Part2-WORKBOOK.ipynb\r\n",
      "05-Pandas-Basics-Part3.ipynb\r\n",
      "05.5-Pandas-Basics-Part3-WORKBOOK.ipynb\r\n",
      "06-Pandas-Basics-More-Methods-WORKBOOK.ipynb\r\n",
      "07-Pandas-Merge-Datasets.ipynb\r\n",
      "08-Data-Collection.ipynb\r\n",
      "09-User-Ethics-Legal-Concerns.ipynb\r\n",
      "10-Web-Scraping-Part1.ipynb\r\n",
      "10.5-Web-Scraping-Part1-WORKBOOK.ipynb\r\n",
      "11-Web-Scraping-Part2.ipynb\r\n",
      "11.5-Web-Scraping-Part2-Workbook.ipynb\r\n",
      "12-Git-GitHub.ipynb\r\n",
      "13-What-Is-API.ipynb\r\n",
      "13.5-APIs-WORKBOOK.ipynb\r\n",
      "14-Song-Genius.ipynb\r\n",
      "15-Genius-API.ipynb\r\n",
      "16-Collect-Genius-Lyrics.ipynb\r\n",
      "17-Lyrics-Analysis.ipynb\r\n",
      "18-Twitter.ipynb\r\n",
      "19-Twitter-API-Setup.ipynb\r\n",
      "20-Twitter-Data.ipynb\r\n",
      "21-Twitter-Data-Sharing.ipynb\r\n",
      "22-Reddit-Data.ipynb\r\n",
      "Bellevue-professions_pie-chart.pdf\r\n",
      "Bellevue.png\r\n",
      "Bellevue_women.csv\r\n",
      "Missy-Elliott-Lyrics.txt\r\n",
      "Trans-Atlantic-Slave-Trade_Gender-Info.png\r\n",
      "top20_women.png\r\n"
     ]
    }
   ],
   "source": [
    "ls"
   ]
  },
  {
   "cell_type": "markdown",
   "metadata": {},
   "source": [
    "## Update a GitHub Repository"
   ]
  },
  {
   "cell_type": "markdown",
   "metadata": {},
   "source": [
    "Ok here's where Git will be very convenient. If I update the \"Introduction to Cultural Analytics\" repository with new files, you can update your copy of the repository and get those new files with a single command `git pull`, which \"pulls\" down the updates from GitHub."
   ]
  },
  {
   "cell_type": "markdown",
   "metadata": {},
   "source": [
    "For example, I just added a new file called \"something_newer.txt\", and if you run the `git pull` command..."
   ]
  },
  {
   "cell_type": "code",
   "execution_count": 5,
   "metadata": {
    "ExecuteTime": {
     "end_time": "2022-11-07T11:01:58.729640Z",
     "start_time": "2022-11-07T11:01:57.744118Z"
    },
    "tags": [
     "command_line"
    ]
   },
   "outputs": [
    {
     "name": "stdout",
     "output_type": "stream",
     "text": [
      "Already up to date.\r\n"
     ]
    }
   ],
   "source": [
    "!git pull"
   ]
  },
  {
   "cell_type": "markdown",
   "metadata": {},
   "source": [
    "then it will update the repository and download that file into the right place. To double check, you can run `ls` and see that \"something_newer.txt\" is now there."
   ]
  },
  {
   "cell_type": "code",
   "execution_count": 6,
   "metadata": {
    "ExecuteTime": {
     "end_time": "2022-11-07T11:01:58.893767Z",
     "start_time": "2022-11-07T11:01:58.744362Z"
    },
    "tags": [
     "command_line"
    ]
   },
   "outputs": [
    {
     "name": "stdout",
     "output_type": "stream",
     "text": [
      "00-Datasets.ipynb\r\n",
      "01-The-Command-Line.ipynb\r\n",
      "02-Data-Analysis.ipynb\r\n",
      "03-Pandas-Basics-Part1.ipynb\r\n",
      "03.5-Pandas-Basics-Part1-WORKBOOK.ipynb\r\n",
      "04-Pandas-Basics-Part2.ipynb\r\n",
      "04.5-Pandas-Basics-Part2-WORKBOOK.ipynb\r\n",
      "05-Pandas-Basics-Part3.ipynb\r\n",
      "05.5-Pandas-Basics-Part3-WORKBOOK.ipynb\r\n",
      "06-Pandas-Basics-More-Methods-WORKBOOK.ipynb\r\n",
      "07-Pandas-Merge-Datasets.ipynb\r\n",
      "08-Data-Collection.ipynb\r\n",
      "09-User-Ethics-Legal-Concerns.ipynb\r\n",
      "10-Web-Scraping-Part1.ipynb\r\n",
      "10.5-Web-Scraping-Part1-WORKBOOK.ipynb\r\n",
      "11-Web-Scraping-Part2.ipynb\r\n",
      "11.5-Web-Scraping-Part2-Workbook.ipynb\r\n",
      "12-Git-GitHub.ipynb\r\n",
      "13-What-Is-API.ipynb\r\n",
      "13.5-APIs-WORKBOOK.ipynb\r\n",
      "14-Song-Genius.ipynb\r\n",
      "15-Genius-API.ipynb\r\n",
      "16-Collect-Genius-Lyrics.ipynb\r\n",
      "17-Lyrics-Analysis.ipynb\r\n",
      "18-Twitter.ipynb\r\n",
      "19-Twitter-API-Setup.ipynb\r\n",
      "20-Twitter-Data.ipynb\r\n",
      "21-Twitter-Data-Sharing.ipynb\r\n",
      "22-Reddit-Data.ipynb\r\n",
      "Bellevue-professions_pie-chart.pdf\r\n",
      "Bellevue.png\r\n",
      "Bellevue_women.csv\r\n",
      "Missy-Elliott-Lyrics.txt\r\n",
      "Trans-Atlantic-Slave-Trade_Gender-Info.png\r\n",
      "top20_women.png\r\n"
     ]
    }
   ],
   "source": [
    "ls"
   ]
  }
 ],
 "metadata": {
  "kernelspec": {
   "display_name": "Python 3 (ipykernel)",
   "language": "python",
   "name": "python3"
  },
  "language_info": {
   "codemirror_mode": {
    "name": "ipython",
    "version": 3
   },
   "file_extension": ".py",
   "mimetype": "text/x-python",
   "name": "python",
   "nbconvert_exporter": "python",
   "pygments_lexer": "ipython3",
   "version": "3.8.2"
  },
  "toc": {
   "base_numbering": 1,
   "nav_menu": {},
   "number_sections": true,
   "sideBar": true,
   "skip_h1_title": false,
   "title_cell": "Table of Contents",
   "title_sidebar": "Contents",
   "toc_cell": false,
   "toc_position": {},
   "toc_section_display": true,
   "toc_window_display": false
  },
  "varInspector": {
   "cols": {
    "lenName": 16,
    "lenType": 16,
    "lenVar": 40
   },
   "kernels_config": {
    "python": {
     "delete_cmd_postfix": "",
     "delete_cmd_prefix": "del ",
     "library": "var_list.py",
     "varRefreshCmd": "print(var_dic_list())"
    },
    "r": {
     "delete_cmd_postfix": ") ",
     "delete_cmd_prefix": "rm(",
     "library": "var_list.r",
     "varRefreshCmd": "cat(var_dic_list()) "
    }
   },
   "types_to_exclude": [
    "module",
    "function",
    "builtin_function_or_method",
    "instance",
    "_Feature"
   ],
   "window_display": false
  }
 },
 "nbformat": 4,
 "nbformat_minor": 4
}
