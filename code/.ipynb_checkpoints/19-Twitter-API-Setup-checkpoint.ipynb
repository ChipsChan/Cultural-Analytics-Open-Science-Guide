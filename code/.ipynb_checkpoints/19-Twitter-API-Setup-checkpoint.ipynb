{
 "cells": [
  {
   "cell_type": "markdown",
   "metadata": {},
   "source": [
    "# Twitter API Setup"
   ]
  },
  {
   "cell_type": "markdown",
   "metadata": {},
   "source": [
    "To collect Twitter data, we're going to work with the [Twitter API](https://developer.twitter.com/en/docs/basics/getting-started) and [twarc2](https://twarc-project.readthedocs.io/en/latest/twarc2/), a Python package for collecting Twitter data through the Twitter API.\n",
    "\n",
    "To use the Twitter API and twarc, we first need to complete the following steps:\n",
    "\n",
    "1. Apply for a Twitter developer account, which also requires making or already having a regular Twitter account\n",
    "\n",
    "2. Get Twitter API keys\n",
    "\n",
    "3. Install twarc\n",
    "\n",
    "4. Configure/set up twarc\n",
    "\n",
    "The following instructions will help guide you through this process."
   ]
  },
  {
   "cell_type": "markdown",
   "metadata": {},
   "source": [
    "## Apply for a Twitter Developer Account"
   ]
  },
  {
   "cell_type": "markdown",
   "metadata": {},
   "source": [
    "If you are an academic researcher (e.g., \"post-doc, professor, fellow, master's student working on a thesis, PhD candidate, or affiliated with an academic institution AND have a clearly defined project\"), you can apply for [the Academic Research track]( https://developer.twitter.com/en/portal/petition/academic/is-it-right-for-you) of the Twitter API, which enables access to all Twitter data.\n",
    "\n",
    "If you are an undergraduate student or not affiliated with an academic institution, you can apply for [a standard developer account](https://developer.twitter.com/en/apply-for-access), which enables access to tweets from the last week as well as tweets in real time. "
   ]
  },
  {
   "cell_type": "markdown",
   "metadata": {},
   "source": [
    "## Get API Keys and Bearer Token"
   ]
  },
  {
   "cell_type": "markdown",
   "metadata": {},
   "source": [
    "Once you've applied for a developer account and had it approved by Twitter, you need to generate your API keys and bearer token — the special passwords that will allow you to work with the Twitter API. To generate your API keys and bearer token, you can follow [these instructions](https://github.com/twitterdev/getting-started-with-the-twitter-api-v2-for-academic-research/blob/main/modules/4-getting-your-keys-and-token.md) from Suhem Parack, the Developer Advocate for Academic Research at Twitter.\n",
    "\n",
    "After you generate your API keys and bearer token, you should record them in a secure location on your computer (do not share them on the internet because these are private like passwords!)."
   ]
  },
  {
   "cell_type": "markdown",
   "metadata": {},
   "source": [
    "## Install twarc2"
   ]
  },
  {
   "cell_type": "markdown",
   "metadata": {},
   "source": [
    "To install twarc2, you can run the following from command line:"
   ]
  },
  {
   "cell_type": "code",
   "execution_count": 1,
   "metadata": {
    "ExecuteTime": {
     "end_time": "2022-11-07T11:10:29.526532Z",
     "start_time": "2022-11-07T11:10:26.607342Z"
    },
    "tags": [
     "command_line"
    ]
   },
   "outputs": [
    {
     "name": "stdout",
     "output_type": "stream",
     "text": [
      "Requirement already satisfied: twarc in /Users/paschalis/opt/anaconda3/lib/python3.8/site-packages (2.8.2)\n",
      "Collecting twarc\n",
      "  Downloading twarc-2.12.0-py3-none-any.whl (60 kB)\n",
      "\u001b[2K     \u001b[90m━━━━━━━━━━━━━━━━━━━━━━━━━━━━━━━━━━━━━━━━\u001b[0m \u001b[32m60.1/60.1 kB\u001b[0m \u001b[31m4.3 MB/s\u001b[0m eta \u001b[36m0:00:00\u001b[0m\n",
      "\u001b[?25hRequirement already satisfied: click-plugins>=1 in /Users/paschalis/opt/anaconda3/lib/python3.8/site-packages (from twarc) (1.1.1)\n",
      "Requirement already satisfied: python-dateutil>=2.8 in /Users/paschalis/opt/anaconda3/lib/python3.8/site-packages (from twarc) (2.8.2)\n",
      "Requirement already satisfied: requests-oauthlib>=1.3 in /Users/paschalis/opt/anaconda3/lib/python3.8/site-packages (from twarc) (1.3.1)\n",
      "Requirement already satisfied: click<9,>=7 in /Users/paschalis/opt/anaconda3/lib/python3.8/site-packages (from twarc) (8.1.3)\n",
      "Requirement already satisfied: tqdm>=4.62 in /Users/paschalis/opt/anaconda3/lib/python3.8/site-packages (from twarc) (4.64.0)\n",
      "Requirement already satisfied: click-config-file>=0.6 in /Users/paschalis/opt/anaconda3/lib/python3.8/site-packages (from twarc) (0.6.0)\n",
      "Requirement already satisfied: humanize>=3.9 in /Users/paschalis/opt/anaconda3/lib/python3.8/site-packages (from twarc) (3.13.1)\n",
      "Requirement already satisfied: configobj>=5.0.6 in /Users/paschalis/opt/anaconda3/lib/python3.8/site-packages (from click-config-file>=0.6->twarc) (5.0.6)\n",
      "Requirement already satisfied: six>=1.5 in /Users/paschalis/opt/anaconda3/lib/python3.8/site-packages (from python-dateutil>=2.8->twarc) (1.16.0)\n",
      "Requirement already satisfied: requests>=2.0.0 in /Users/paschalis/opt/anaconda3/lib/python3.8/site-packages (from requests-oauthlib>=1.3->twarc) (2.28.1)\n",
      "Requirement already satisfied: oauthlib>=3.0.0 in /Users/paschalis/opt/anaconda3/lib/python3.8/site-packages (from requests-oauthlib>=1.3->twarc) (3.2.0)\n",
      "Requirement already satisfied: certifi>=2017.4.17 in /Users/paschalis/opt/anaconda3/lib/python3.8/site-packages (from requests>=2.0.0->requests-oauthlib>=1.3->twarc) (2022.9.24)\n",
      "Requirement already satisfied: urllib3<1.27,>=1.21.1 in /Users/paschalis/opt/anaconda3/lib/python3.8/site-packages (from requests>=2.0.0->requests-oauthlib>=1.3->twarc) (1.26.11)\n",
      "Requirement already satisfied: charset-normalizer<3,>=2 in /Users/paschalis/opt/anaconda3/lib/python3.8/site-packages (from requests>=2.0.0->requests-oauthlib>=1.3->twarc) (2.0.12)\n",
      "Requirement already satisfied: idna<4,>=2.5 in /Users/paschalis/opt/anaconda3/lib/python3.8/site-packages (from requests>=2.0.0->requests-oauthlib>=1.3->twarc) (3.3)\n",
      "Installing collected packages: twarc\n",
      "  Attempting uninstall: twarc\n",
      "    Found existing installation: twarc 2.8.2\n",
      "    Uninstalling twarc-2.8.2:\n",
      "      Successfully uninstalled twarc-2.8.2\n",
      "Successfully installed twarc-2.12.0\n"
     ]
    }
   ],
   "source": [
    "!pip install twarc --upgrade"
   ]
  },
  {
   "cell_type": "markdown",
   "metadata": {},
   "source": [
    "## Configure/Set up Twarc"
   ]
  },
  {
   "cell_type": "markdown",
   "metadata": {},
   "source": [
    "Once twarc is installed, you need to configure it with your API keys and/or bearer token so that you can actually access the API."
   ]
  },
  {
   "cell_type": "markdown",
   "metadata": {},
   "source": [
    "To configure twarc, you can run the following from the command line:"
   ]
  },
  {
   "cell_type": "code",
   "execution_count": 4,
   "metadata": {
    "ExecuteTime": {
     "end_time": "2022-11-07T11:10:58.887360Z",
     "start_time": "2022-11-07T11:10:58.882263Z"
    },
    "tags": [
     "command_line"
    ]
   },
   "outputs": [],
   "source": [
    "# !twarc2 configure"
   ]
  },
  {
   "cell_type": "markdown",
   "metadata": {},
   "source": [
    "Twarc will ask for your bearer token, which you can copy and paste into the blank after the colon, and then press enter. You can optionally enter your API keys, as well."
   ]
  },
  {
   "cell_type": "markdown",
   "metadata": {},
   "source": [
    "If you've entered your information correctly, you should get a congratulatory message that looks something like this:"
   ]
  },
  {
   "cell_type": "code",
   "execution_count": 6,
   "metadata": {
    "ExecuteTime": {
     "end_time": "2022-11-07T11:11:05.436201Z",
     "start_time": "2022-11-07T11:11:05.433039Z"
    },
    "tags": [
     "command_line"
    ]
   },
   "outputs": [],
   "source": [
    "# Your keys have been written to /Users/melwalsh/Library/Application Support/twarc/config\n",
    "\n",
    "\n",
    "# ✨ ✨ ✨  Happy twarcing! ✨ ✨ ✨"
   ]
  },
  {
   "cell_type": "markdown",
   "metadata": {},
   "source": [
    "Now you're ready to collect and analyze tweets!"
   ]
  }
 ],
 "metadata": {
  "kernelspec": {
   "display_name": "Python 3 (ipykernel)",
   "language": "python",
   "name": "python3"
  },
  "language_info": {
   "codemirror_mode": {
    "name": "ipython",
    "version": 3
   },
   "file_extension": ".py",
   "mimetype": "text/x-python",
   "name": "python",
   "nbconvert_exporter": "python",
   "pygments_lexer": "ipython3",
   "version": "3.8.2"
  },
  "toc": {
   "base_numbering": 1,
   "nav_menu": {},
   "number_sections": true,
   "sideBar": true,
   "skip_h1_title": false,
   "title_cell": "Table of Contents",
   "title_sidebar": "Contents",
   "toc_cell": false,
   "toc_position": {},
   "toc_section_display": true,
   "toc_window_display": false
  },
  "varInspector": {
   "cols": {
    "lenName": 16,
    "lenType": 16,
    "lenVar": 40
   },
   "kernels_config": {
    "python": {
     "delete_cmd_postfix": "",
     "delete_cmd_prefix": "del ",
     "library": "var_list.py",
     "varRefreshCmd": "print(var_dic_list())"
    },
    "r": {
     "delete_cmd_postfix": ") ",
     "delete_cmd_prefix": "rm(",
     "library": "var_list.r",
     "varRefreshCmd": "cat(var_dic_list()) "
    }
   },
   "types_to_exclude": [
    "module",
    "function",
    "builtin_function_or_method",
    "instance",
    "_Feature"
   ],
   "window_display": false
  }
 },
 "nbformat": 4,
 "nbformat_minor": 4
}
