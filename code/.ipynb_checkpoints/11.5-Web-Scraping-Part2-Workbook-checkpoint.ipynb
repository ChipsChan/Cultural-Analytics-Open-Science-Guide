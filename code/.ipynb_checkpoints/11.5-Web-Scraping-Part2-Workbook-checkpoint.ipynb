{
 "cells": [
  {
   "cell_type": "markdown",
   "metadata": {},
   "source": [
    "# Web Scraping — Part 2 — Workbook"
   ]
  },
  {
   "cell_type": "markdown",
   "metadata": {},
   "source": [
    "In this lesson, we're going to introduce how to scrape multiple web pages from the internet with the Python libraries requests and BeautifulSoup."
   ]
  },
  {
   "cell_type": "markdown",
   "metadata": {},
   "source": [
    "---"
   ]
  },
  {
   "cell_type": "markdown",
   "metadata": {},
   "source": [
    "## Quick Demonstration of Image Scraping — NYT Front Page"
   ]
  },
  {
   "cell_type": "markdown",
   "metadata": {},
   "source": [
    "### Import Requests and BeautifulSoup"
   ]
  },
  {
   "cell_type": "markdown",
   "metadata": {},
   "source": [
    "Once again, we're going to use the `requests` library and the `BeautifulSoup` library to scrape data."
   ]
  },
  {
   "cell_type": "code",
   "execution_count": 1,
   "metadata": {
    "ExecuteTime": {
     "end_time": "2022-11-07T10:59:53.004623Z",
     "start_time": "2022-11-07T10:59:52.832984Z"
    }
   },
   "outputs": [],
   "source": [
    "import requests\n",
    "from bs4 import BeautifulSoup"
   ]
  },
  {
   "cell_type": "markdown",
   "metadata": {},
   "source": [
    "### Get HTML Data and Extract Text"
   ]
  },
  {
   "cell_type": "markdown",
   "metadata": {},
   "source": [
    "*The New York Times* Front Page: https://nytimes.com"
   ]
  },
  {
   "cell_type": "markdown",
   "metadata": {},
   "source": [
    "Here we're going to request the url for *The New York Times* front page, extract the text of the web page, then transform it into BeautifulSoup document."
   ]
  },
  {
   "cell_type": "code",
   "execution_count": 2,
   "metadata": {
    "ExecuteTime": {
     "end_time": "2022-11-07T10:59:54.222610Z",
     "start_time": "2022-11-07T10:59:53.754117Z"
    }
   },
   "outputs": [],
   "source": [
    "response = requests.get(\"https://nytimes.com\")\n",
    "html_string = response.text\n",
    "document = BeautifulSoup(html_string, \"html.parser\")"
   ]
  },
  {
   "cell_type": "markdown",
   "metadata": {},
   "source": [
    "Here we search through the HTML code to find all the `<img>` tags:"
   ]
  },
  {
   "cell_type": "code",
   "execution_count": 3,
   "metadata": {
    "ExecuteTime": {
     "end_time": "2022-11-07T10:59:54.275422Z",
     "start_time": "2022-11-07T10:59:54.262478Z"
    },
    "scrolled": true
   },
   "outputs": [
    {
     "data": {
      "text/plain": [
       "[<img alt=\"President Biden faces left at a lectern, holding a microphone.\" class=\"css-hdqqnp\" src=\"https://static01.nyt.com/images/2022/11/06/multimedia/06dc-biden-lead-1-860e/06dc-biden-lead-1-860e-threeByTwoSmallAt2X.jpg?format=pjpg&amp;quality=75&amp;auto=webp&amp;disable=upscale\"/>,\n",
       " <img alt=\"President Biden faces left at a lectern, holding a microphone.\" class=\"css-122y91a\" src=\"https://static01.nyt.com/images/2022/11/06/multimedia/06dc-biden-lead-1-860e/06dc-biden-lead-1-860e-threeByTwoSmallAt2X.jpg?format=pjpg&amp;quality=75&amp;auto=webp&amp;disable=upscale\"/>,\n",
       " <img alt=\"On Saturday in Pennsylvania, Donald J. Trump held a rally for Republicans. On Sunday in Florida, Mr. Trump and Ron DeSantis held separate campaign rallies.\" class=\"css-dzl7b5\" loading=\"lazy\"/>,\n",
       " <img alt=\"On Saturday in Pennsylvania, Donald J. Trump held a rally for Republicans. On Sunday in Florida, Mr. Trump and Ron DeSantis held separate campaign rallies.\" class=\"css-122y91a\" src=\"https://static01.nyt.com/images/2022/11/06/multimedia/06pol-trump-desantis-1-2e67/06pol-trump-desantis-1-2e67-threeByTwoSmallAt2X.jpg?format=pjpg&amp;quality=75&amp;auto=webp&amp;disable=upscale\"/>,\n",
       " <img alt=\"John Fetterman with supporters at an event in Harrisburg, Pa., on Sunday.\" class=\"css-dzl7b5\" loading=\"lazy\"/>,\n",
       " <img alt=\"John Fetterman with supporters at an event in Harrisburg, Pa., on Sunday.\" class=\"css-122y91a\" src=\"https://static01.nyt.com/images/2022/11/06/multimedia/00pol-fetterman-photo01-1-f506/00pol-fetterman-photo01-1-f506-threeByTwoSmallAt2X.jpg?format=pjpg&amp;quality=75&amp;auto=webp&amp;disable=upscale\"/>,\n",
       " <img alt=\"\" class=\"slideshow-animate css-3kzcvh\" loading=\"lazy\"/>,\n",
       " <img alt=\"\" class=\"css-122y91a\" src=\"https://static01.nyt.com/images/2022/11/06/multimedia/06nycm-fashion-fader-1/-1-3dc2-square640.jpg?format=pjpg&amp;quality=75&amp;auto=webp&amp;disable=upscale\"/>,\n",
       " <img alt=\"\" class=\"slideshow-animate css-3kzcvh\" loading=\"lazy\"/>,\n",
       " <img alt=\"\" class=\"css-122y91a\" src=\"https://static01.nyt.com/images/2022/11/06/multimedia/06nycm-fashion-fader-6-1-c4d2/06nycm-fashion-fader-6-1-c4d2-square640.jpg?format=pjpg&amp;quality=75&amp;auto=webp&amp;disable=upscale\"/>,\n",
       " <img alt=\"\" class=\"slideshow-animate css-3kzcvh\" loading=\"lazy\"/>,\n",
       " <img alt=\"\" class=\"css-122y91a\" src=\"https://static01.nyt.com/images/2022/11/06/multimedia/06nycm-fashion-fader-7-1-6338/06nycm-fashion-fader-7-1-6338-square640.jpg?format=pjpg&amp;quality=75&amp;auto=webp&amp;disable=upscale\"/>,\n",
       " <img alt=\"\" class=\"slideshow-animate css-3kzcvh\" loading=\"lazy\"/>,\n",
       " <img alt=\"\" class=\"css-122y91a\" src=\"https://static01.nyt.com/images/2022/11/06/multimedia/06nycm-fashion-fader-4/06nycm-fashion-grid3-1-0f56-square640.jpg?format=pjpg&amp;quality=75&amp;auto=webp&amp;disable=upscale\"/>,\n",
       " <img alt=\"\" class=\"slideshow-animate css-3kzcvh\" loading=\"lazy\"/>,\n",
       " <img alt=\"\" class=\"css-122y91a\" src=\"https://static01.nyt.com/images/2022/11/06/multimedia/06nycm-fashion-fader-2/06nycm-fashion-fader-2-square640.jpg?format=pjpg&amp;quality=75&amp;auto=webp&amp;disable=upscale\"/>,\n",
       " <img alt=\"\" class=\"slideshow-animate css-3kzcvh\" loading=\"lazy\"/>,\n",
       " <img alt=\"\" class=\"css-122y91a\" src=\"https://static01.nyt.com/images/2022/11/06/multimedia/06nycm-fashion-fader-3/06nycm-fashion-grid4-1-c973-square640.jpg?format=pjpg&amp;quality=75&amp;auto=webp&amp;disable=upscale\"/>,\n",
       " <img alt=\"\" class=\"slideshow-animate css-3kzcvh\" loading=\"lazy\"/>,\n",
       " <img alt=\"\" class=\"css-122y91a\" src=\"https://static01.nyt.com/images/2022/11/06/multimedia/06nycm-fashion-fader-5/06nycm-fashion-grid1-1-ced0-square640.jpg?format=pjpg&amp;quality=75&amp;auto=webp&amp;disable=upscale\"/>,\n",
       " <img alt=\"\" class=\"css-dzl7b5\" loading=\"lazy\"/>,\n",
       " <img alt=\"\" class=\"css-122y91a\" src=\"https://static01.nyt.com/images/2022/11/06/business/00MOLLY-Lede/00MOLLY-Lede-threeByTwoSmallAt2X.jpg?format=pjpg&amp;quality=75&amp;auto=webp&amp;disable=upscale\"/>,\n",
       " <img alt=\"A man in a black basketball jersey and black shorts hunches over.\" class=\"css-dzl7b5\" loading=\"lazy\"/>,\n",
       " <img alt=\"A man in a black basketball jersey and black shorts hunches over.\" class=\"css-122y91a\" src=\"https://static01.nyt.com/images/2022/11/06/business/06nike-irving/merlin_215808777_cb994196-0a10-4748-b39e-6b5ea57e38b9-threeByTwoSmallAt2X.jpg?format=pjpg&amp;quality=75&amp;auto=webp&amp;disable=upscale\"/>,\n",
       " <img alt=\"An undulating landscape of white sand dunes in the foreground, with a backdrop of surrounding rocky mountains and clouds in the sky.\" class=\"css-dzl7b5\" loading=\"lazy\"/>,\n",
       " <img alt=\"An undulating landscape of white sand dunes in the foreground, with a backdrop of surrounding rocky mountains and clouds in the sky.\" class=\"css-122y91a\" src=\"https://static01.nyt.com/images/2022/11/04/realestate/04-atomic-new-mexico-alamogorda3/04-atomic-new-mexico-alamogorda3-square640.jpg?format=pjpg&amp;quality=75&amp;auto=webp&amp;disable=upscale\"/>,\n",
       " <img alt=\"\" class=\"css-dzl7b5\" loading=\"lazy\"/>,\n",
       " <img alt=\"\" class=\"css-122y91a\" src=\"https://static01.nyt.com/images/2022/11/03/multimedia/nyc-salary-quiz-1-29fa/nyc-salary-quiz-1-29fa-threeByTwoSmallAt2X.jpg?format=pjpg&amp;quality=75&amp;auto=webp&amp;disable=upscale\"/>,\n",
       " <img alt=\"In “Whatever Weighs You Down,” a screen showed the artist Chisato Minamimura using sign language to mirror the pianist Zubin Kanga’s gestures, which he made onstage while wearing sensor gloves.\" class=\"css-dzl7b5\" loading=\"lazy\"/>,\n",
       " <img alt=\"In “Whatever Weighs You Down,” a screen showed the artist Chisato Minamimura using sign language to mirror the pianist Zubin Kanga’s gestures, which he made onstage while wearing sensor gloves.\" class=\"css-122y91a\" src=\"https://static01.nyt.com/images/2022/11/03/arts/03experimental01/03experimental01-threeByTwoSmallAt2X.jpg?format=pjpg&amp;quality=75&amp;auto=webp&amp;disable=upscale\"/>,\n",
       " <img alt=\"Pamela Paul\" class=\"css-1ii2lp6\" loading=\"lazy\"/>,\n",
       " <img alt=\"Pamela Paul\" class=\"css-122y91a\" src=\"https://static01.nyt.com/images/2022/07/12/opinion/pamela-paul-new/pamela-paul-new-thumbLarge-v2.png?format=pjpg&amp;quality=75&amp;auto=webp&amp;disable=upscale\"/>,\n",
       " <img alt=\"Ezra Klein\" class=\"css-1ii2lp6\" loading=\"lazy\"/>,\n",
       " <img alt=\"Ezra Klein\" class=\"css-122y91a\" src=\"https://static01.nyt.com/images/2021/01/06/opinion/ezra-klein/ezra-klein-thumbLarge-v3.png?format=pjpg&amp;quality=75&amp;auto=webp&amp;disable=upscale\"/>,\n",
       " <img alt=\"Margaret Renkl\" class=\"css-1ii2lp6\" loading=\"lazy\"/>,\n",
       " <img alt=\"Margaret Renkl\" class=\"css-122y91a\" src=\"https://static01.nyt.com/images/2017/04/08/opinion/margaret-renkl/margaret-renkl-thumbLarge-v2.png?format=pjpg&amp;quality=75&amp;auto=webp&amp;disable=upscale\"/>,\n",
       " <img alt=\"\" class=\"css-dzl7b5\" loading=\"lazy\"/>,\n",
       " <img alt=\"\" class=\"css-122y91a\" src=\"https://static01.nyt.com/images/2022/11/07/opinion/07renkl-1/merlin_157863966_af54805c-431b-4da4-bf08-fbaf189967f5-threeByTwoSmallAt2X.jpg?format=pjpg&amp;quality=75&amp;auto=webp&amp;disable=upscale\"/>,\n",
       " <img alt=\"Katherine Miller\" class=\"css-1ii2lp6\" loading=\"lazy\"/>,\n",
       " <img alt=\"Katherine Miller\" class=\"css-122y91a\" src=\"https://static01.nyt.com/images/2022/09/09/opinion/katherine-miller/katherine-miller-thumbLarge.png?format=pjpg&amp;quality=75&amp;auto=webp&amp;disable=upscale\"/>,\n",
       " <img alt=\"\" class=\"css-dzl7b5\" loading=\"lazy\"/>,\n",
       " <img alt=\"\" class=\"css-122y91a\" src=\"https://static01.nyt.com/images/2022/11/03/podcasts/03-RunUp-left-image/03-RunUp-left-image-square320-v3.jpg?format=pjpg&amp;quality=75&amp;auto=webp&amp;disable=upscale\"/>,\n",
       " <img alt=\"\" class=\"css-dzl7b5\" loading=\"lazy\"/>,\n",
       " <img alt=\"\" class=\"css-122y91a\" src=\"https://static01.nyt.com/images/2022/11/04/climate/04cli-newsletter-illo/04cli-newsletter-illo-square320.jpg?format=pjpg&amp;quality=75&amp;auto=webp&amp;disable=upscale\"/>,\n",
       " <img alt=\"\" class=\"css-dzl7b5\" loading=\"lazy\"/>,\n",
       " <img alt=\"\" class=\"css-122y91a\" src=\"https://static01.nyt.com/images/2016/09/04/fashion/02Modernlove-podcast-miscarriage-image/04LOVE-square320.jpg?format=pjpg&amp;quality=75&amp;auto=webp&amp;disable=upscale\"/>,\n",
       " <img alt=\"\" class=\"css-dzl7b5\" loading=\"lazy\"/>,\n",
       " <img alt=\"\" class=\"css-122y91a\" src=\"https://static01.nyt.com/images/2022/11/03/well/03Well-NL-Boredom/03Well-NL-Boredom-square320-v2.jpg?format=pjpg&amp;quality=75&amp;auto=webp&amp;disable=upscale\"/>,\n",
       " <img alt=\"A bunker that has been converted into a temple in Keelung, Taiwan.\" class=\"css-dzl7b5\" loading=\"lazy\"/>,\n",
       " <img alt=\"A bunker that has been converted into a temple in Keelung, Taiwan.\" class=\"css-122y91a\" src=\"https://static01.nyt.com/images/2022/10/31/world/00keelung-dispatch-07/merlin_215584809_3dc0644b-96cc-4ae0-b154-f7a2bd0501d7-threeByTwoSmallAt2X.jpg?format=pjpg&amp;quality=75&amp;auto=webp&amp;disable=upscale\"/>,\n",
       " <img class=\"svelte-1xus8y6\" src=\"https://static01.nyt.com/newsgraphics/2021/coronavirus-tracking/images/svg/timeseries/USA/USA-cases-two-weeks.svg\"/>,\n",
       " <img class=\"svelte-1xus8y6\" src=\"https://static01.nyt.com/newsgraphics/2021/coronavirus-tracking/images/svg/timeseries/USA/USA-deaths-two-weeks.svg\"/>,\n",
       " <img class=\"svelte-1xus8y6\" src=\"https://static01.nyt.com/newsgraphics/2021/coronavirus-tracking/images/svg/timeseries/NYT-World/NYT-World-cases-two-weeks.svg\"/>,\n",
       " <img class=\"svelte-1xus8y6\" src=\"https://static01.nyt.com/newsgraphics/2021/coronavirus-tracking/images/svg/timeseries/NYT-World/NYT-World-deaths-two-weeks.svg\"/>,\n",
       " <img alt=\"US coronavirus cases\" class=\"svelte-14oieza\" loading=\"lazy\" src=\"https://static01.nyt.com/newsgraphics/2021/coronavirus-tracking/images/maps/USA/hotspots-state.png\"/>,\n",
       " <img alt=\"Global coronavirus cases\" class=\"svelte-14oieza\" loading=\"lazy\" src=\"https://static01.nyt.com/newsgraphics/2021/coronavirus-tracking/images/maps/NYT-World/hotspots.png\"/>,\n",
       " <img alt=\"Gabrielle Blair, 48, also known as Design Mom, sits in her study at home in Argentan, France. Her family has been restoring the 17th century house since 2019. \" class=\"css-dzl7b5\" loading=\"lazy\"><noscript><img alt=\"Gabrielle Blair, 48, also known as Design Mom, sits in her study at home in Argentan, France. Her family has been restoring the 17th century house since 2019. \" class=\"css-122y91a\" src=\"https://static01.nyt.com/images/2022/10/21/multimedia/21WELL-DESIGN-MOM1-1-f7de/21WELL-DESIGN-MOM1-1-f7de-threeByTwoSmallAt2X.jpg?format=pjpg&amp;quality=75&amp;auto=webp&amp;disable=upscale\"/></noscript></img>,\n",
       " <img alt=\"Gabrielle Blair, 48, also known as Design Mom, sits in her study at home in Argentan, France. Her family has been restoring the 17th century house since 2019. \" class=\"css-122y91a\" src=\"https://static01.nyt.com/images/2022/10/21/multimedia/21WELL-DESIGN-MOM1-1-f7de/21WELL-DESIGN-MOM1-1-f7de-threeByTwoSmallAt2X.jpg?format=pjpg&amp;quality=75&amp;auto=webp&amp;disable=upscale\"/>,\n",
       " <img alt=\"\" class=\"css-dzl7b5\" loading=\"lazy\"><noscript><img alt=\"\" class=\"css-122y91a\" src=\"https://static01.nyt.com/images/2022/11/04/well/04WELL-NIGHTMARE-VARIANT/04WELL-NIGHTMARE-VARIANT-threeByTwoSmallAt2X.jpg?format=pjpg&amp;quality=75&amp;auto=webp&amp;disable=upscale\"/></noscript></img>,\n",
       " <img alt=\"\" class=\"css-122y91a\" src=\"https://static01.nyt.com/images/2022/11/04/well/04WELL-NIGHTMARE-VARIANT/04WELL-NIGHTMARE-VARIANT-threeByTwoSmallAt2X.jpg?format=pjpg&amp;quality=75&amp;auto=webp&amp;disable=upscale\"/>,\n",
       " <img alt=\"\" class=\"css-dzl7b5\" loading=\"lazy\"><noscript><img alt=\"\" class=\"css-122y91a\" src=\"https://static01.nyt.com/images/2022/03/09/well/00well-daylight-saving-time/00well-daylight-saving-time-threeByTwoSmallAt2X.jpg?format=pjpg&amp;quality=75&amp;auto=webp&amp;disable=upscale\"/></noscript></img>,\n",
       " <img alt=\"\" class=\"css-122y91a\" src=\"https://static01.nyt.com/images/2022/03/09/well/00well-daylight-saving-time/00well-daylight-saving-time-threeByTwoSmallAt2X.jpg?format=pjpg&amp;quality=75&amp;auto=webp&amp;disable=upscale\"/>,\n",
       " <img alt=\"\" class=\"css-dzl7b5\" loading=\"lazy\"/>,\n",
       " <img alt=\"\" class=\"css-122y91a\" src=\"https://static01.nyt.com/images/2022/11/01/multimedia/25ASKWELL-STATINS1-1-a328/25ASKWELL-STATINS1-1-a328-threeByTwoSmallAt2X-v3.jpg?format=pjpg&amp;quality=75&amp;auto=webp&amp;disable=upscale\"/>,\n",
       " <img alt=\"\" class=\"css-dzl7b5\" loading=\"lazy\"/>,\n",
       " <img alt=\"\" class=\"css-122y91a\" src=\"https://static01.nyt.com/images/2022/11/03/well/03-Burst-Hold-It-Together-Patia/03-Burst-Hold-It-Together-Patia-threeByTwoSmallAt2X.jpg?format=pjpg&amp;quality=75&amp;auto=webp&amp;disable=upscale\"/>,\n",
       " <img alt=\"The home of Thomas and Kathleen Dennis in Truro, Mass., part of the Cape Cod National Seashore. The couple has had to move the house twice as the sand dunes near it erode.\" class=\"css-dzl7b5\" loading=\"lazy\"/>,\n",
       " <img alt=\"The home of Thomas and Kathleen Dennis in Truro, Mass., part of the Cape Cod National Seashore. The couple has had to move the house twice as the sand dunes near it erode.\" class=\"css-122y91a\" src=\"https://static01.nyt.com/images/2022/11/05/multimedia/05sp-water-move-inyt1/merlin_215839311_67692910-1869-4380-9553-5494761411c9-square640.jpg?format=pjpg&amp;quality=75&amp;auto=webp&amp;disable=upscale\"/>,\n",
       " <img alt=\"From “The Blue Scarf.”\" class=\"css-dzl7b5\" loading=\"lazy\"/>,\n",
       " <img alt=\"From “The Blue Scarf.”\" class=\"css-122y91a\" src=\"https://static01.nyt.com/images/2022/10/30/books/review/30Jones-CHILDRENS/30Jones-CHILDRENS-threeByTwoSmallAt2X.jpg?format=pjpg&amp;quality=75&amp;auto=webp&amp;disable=upscale\"/>,\n",
       " <img alt=\"From left, Mei Mac, Ami Okumura Jones and Dai Tabuchi in the Royal Shakespeare Company production of “My Neighbour Totoro” at the Barbican Theater.\" class=\"css-dzl7b5\" loading=\"lazy\"/>,\n",
       " <img alt=\"From left, Mei Mac, Ami Okumura Jones and Dai Tabuchi in the Royal Shakespeare Company production of “My Neighbour Totoro” at the Barbican Theater.\" class=\"css-122y91a\" src=\"https://static01.nyt.com/images/2022/11/03/world/03londontheater1/merlin_215506701_c9ee9efa-012d-4b75-b373-7ec6931e9587-threeByTwoSmallAt2X.jpg?format=pjpg&amp;quality=75&amp;auto=webp&amp;disable=upscale\"/>,\n",
       " <img alt=\"A singer wearing all black pauses in front of a piano onstage at a recital hall, with the word “benedictus” projected on the wall.\" class=\"css-dzl7b5\" loading=\"lazy\"/>,\n",
       " <img alt=\"A singer wearing all black pauses in front of a piano onstage at a recital hall, with the word “benedictus” projected on the wall.\" class=\"css-122y91a\" src=\"https://static01.nyt.com/images/2022/11/07/multimedia/04davone-tines/04davone-tines-threeByTwoSmallAt2X.jpg?format=pjpg&amp;quality=75&amp;auto=webp&amp;disable=upscale\"/>,\n",
       " <img alt=\"Millie Bobby Brown in “Enola Holmes 2.”\" class=\"css-dzl7b5\" loading=\"lazy\"/>,\n",
       " <img alt=\"Millie Bobby Brown in “Enola Holmes 2.”\" class=\"css-122y91a\" src=\"https://static01.nyt.com/images/2022/11/03/multimedia/03enolaholmes-review-1-2378/03enolaholmes-review-1-2378-threeByTwoSmallAt2X.jpg?format=pjpg&amp;quality=75&amp;auto=webp&amp;disable=upscale\"/>,\n",
       " <img alt=\"\" class=\"css-dzl7b5\" loading=\"lazy\"/>,\n",
       " <img alt=\"\" class=\"css-122y91a\" src=\"https://static01.nyt.com/images/2022/11/06/multimedia/https---theathletic-com-3768577-2022-11-06-nfl-week-9-takeaways/https---theathletic-com-3768577-2022-11-06-nfl-week-9-takeaways--threeByTwoSmallAt2X.jpg?format=pjpg&amp;quality=75&amp;auto=webp&amp;disable=upscale\"/>,\n",
       " <img alt=\"\" class=\"css-dzl7b5\" loading=\"lazy\"/>,\n",
       " <img alt=\"\" class=\"css-122y91a\" src=\"https://static01.nyt.com/images/2019/04/18/homepage/spelling-bee-logo-bulletin/spelling-bee-logo-bulletin-square320-v5.png?format=pjpg&amp;quality=75&amp;auto=webp&amp;disable=upscale\"/>,\n",
       " <img alt=\"\" class=\"css-dzl7b5\" loading=\"lazy\"/>,\n",
       " <img alt=\"\" class=\"css-122y91a\" src=\"https://static01.nyt.com/images/2020/03/23/crosswords/crossword-logo-nytgames-hires/crossword-logo-nytgames-hires-square320-v3.png?format=pjpg&amp;quality=75&amp;auto=webp&amp;disable=upscale\"/>,\n",
       " <img alt=\"\" class=\"css-dzl7b5\" loading=\"lazy\"/>,\n",
       " <img alt=\"\" class=\"css-122y91a\" src=\"https://static01.nyt.com/images/2022/03/02/crosswords/alpha-wordle-icon-new/alpha-wordle-icon-new-square320-v3.png?format=pjpg&amp;quality=75&amp;auto=webp&amp;disable=upscale\"/>,\n",
       " <img alt=\"Wordle gives players six tries to guess the daily word. Only a small number of people go in with a plan.\" class=\"css-dzl7b5\" loading=\"lazy\"/>,\n",
       " <img alt=\"Wordle gives players six tries to guess the daily word. Only a small number of people go in with a plan.\" class=\"css-122y91a\" src=\"https://static01.nyt.com/images/2022/08/25/crosswords/wordle-top/wordle-top-square320.jpg?format=pjpg&amp;quality=75&amp;auto=webp&amp;disable=upscale\"/>,\n",
       " <img alt=\"\" class=\"css-dzl7b5\" loading=\"lazy\"/>,\n",
       " <img alt=\"\" class=\"css-122y91a\" src=\"https://static01.nyt.com/images/2021/05/27/multimedia/alpha-letterboxed-promo-1622145789727/alpha-letterboxed-promo-1622145789727-square320.png?format=pjpg&amp;quality=75&amp;auto=webp&amp;disable=upscale\"/>,\n",
       " <img alt=\"\" class=\"css-dzl7b5\" loading=\"lazy\"/>,\n",
       " <img alt=\"\" class=\"css-122y91a\" src=\"https://static01.nyt.com/images/2020/03/23/crosswords/tiles-logo-nytgames-hi-res/tiles-logo-nytgames-hi-res-square320-v4.png?format=pjpg&amp;quality=75&amp;auto=webp&amp;disable=upscale\"/>]"
      ]
     },
     "execution_count": 3,
     "metadata": {},
     "output_type": "execute_result"
    }
   ],
   "source": [
    "document.find_all('img')"
   ]
  },
  {
   "cell_type": "markdown",
   "metadata": {},
   "source": [
    "To display these images in our Jupyter notebook, we're going to import the Python modules `Markdown` and `display`, which allow us to transform code output into Markdown and thus display the images in this notebook"
   ]
  },
  {
   "cell_type": "code",
   "execution_count": 4,
   "metadata": {
    "ExecuteTime": {
     "end_time": "2022-11-07T10:59:54.781986Z",
     "start_time": "2022-11-07T10:59:54.595854Z"
    },
    "scrolled": true
   },
   "outputs": [
    {
     "data": {
      "text/markdown": [
       "<img alt=\"President Biden faces left at a lectern, holding a microphone.\" class=\"css-hdqqnp\" src=\"https://static01.nyt.com/images/2022/11/06/multimedia/06dc-biden-lead-1-860e/06dc-biden-lead-1-860e-threeByTwoSmallAt2X.jpg?format=pjpg&amp;quality=75&amp;auto=webp&amp;disable=upscale\"/>"
      ],
      "text/plain": [
       "<IPython.core.display.Markdown object>"
      ]
     },
     "metadata": {},
     "output_type": "display_data"
    },
    {
     "data": {
      "text/markdown": [
       "<img alt=\"President Biden faces left at a lectern, holding a microphone.\" class=\"css-122y91a\" src=\"https://static01.nyt.com/images/2022/11/06/multimedia/06dc-biden-lead-1-860e/06dc-biden-lead-1-860e-threeByTwoSmallAt2X.jpg?format=pjpg&amp;quality=75&amp;auto=webp&amp;disable=upscale\"/>"
      ],
      "text/plain": [
       "<IPython.core.display.Markdown object>"
      ]
     },
     "metadata": {},
     "output_type": "display_data"
    },
    {
     "data": {
      "text/markdown": [
       "<img alt=\"On Saturday in Pennsylvania, Donald J. Trump held a rally for Republicans. On Sunday in Florida, Mr. Trump and Ron DeSantis held separate campaign rallies.\" class=\"css-dzl7b5\" loading=\"lazy\"/>"
      ],
      "text/plain": [
       "<IPython.core.display.Markdown object>"
      ]
     },
     "metadata": {},
     "output_type": "display_data"
    },
    {
     "data": {
      "text/markdown": [
       "<img alt=\"On Saturday in Pennsylvania, Donald J. Trump held a rally for Republicans. On Sunday in Florida, Mr. Trump and Ron DeSantis held separate campaign rallies.\" class=\"css-122y91a\" src=\"https://static01.nyt.com/images/2022/11/06/multimedia/06pol-trump-desantis-1-2e67/06pol-trump-desantis-1-2e67-threeByTwoSmallAt2X.jpg?format=pjpg&amp;quality=75&amp;auto=webp&amp;disable=upscale\"/>"
      ],
      "text/plain": [
       "<IPython.core.display.Markdown object>"
      ]
     },
     "metadata": {},
     "output_type": "display_data"
    },
    {
     "data": {
      "text/markdown": [
       "<img alt=\"John Fetterman with supporters at an event in Harrisburg, Pa., on Sunday.\" class=\"css-dzl7b5\" loading=\"lazy\"/>"
      ],
      "text/plain": [
       "<IPython.core.display.Markdown object>"
      ]
     },
     "metadata": {},
     "output_type": "display_data"
    },
    {
     "data": {
      "text/markdown": [
       "<img alt=\"John Fetterman with supporters at an event in Harrisburg, Pa., on Sunday.\" class=\"css-122y91a\" src=\"https://static01.nyt.com/images/2022/11/06/multimedia/00pol-fetterman-photo01-1-f506/00pol-fetterman-photo01-1-f506-threeByTwoSmallAt2X.jpg?format=pjpg&amp;quality=75&amp;auto=webp&amp;disable=upscale\"/>"
      ],
      "text/plain": [
       "<IPython.core.display.Markdown object>"
      ]
     },
     "metadata": {},
     "output_type": "display_data"
    },
    {
     "data": {
      "text/markdown": [
       "<img alt=\"\" class=\"slideshow-animate css-3kzcvh\" loading=\"lazy\"/>"
      ],
      "text/plain": [
       "<IPython.core.display.Markdown object>"
      ]
     },
     "metadata": {},
     "output_type": "display_data"
    },
    {
     "data": {
      "text/markdown": [
       "<img alt=\"\" class=\"css-122y91a\" src=\"https://static01.nyt.com/images/2022/11/06/multimedia/06nycm-fashion-fader-1/-1-3dc2-square640.jpg?format=pjpg&amp;quality=75&amp;auto=webp&amp;disable=upscale\"/>"
      ],
      "text/plain": [
       "<IPython.core.display.Markdown object>"
      ]
     },
     "metadata": {},
     "output_type": "display_data"
    },
    {
     "data": {
      "text/markdown": [
       "<img alt=\"\" class=\"slideshow-animate css-3kzcvh\" loading=\"lazy\"/>"
      ],
      "text/plain": [
       "<IPython.core.display.Markdown object>"
      ]
     },
     "metadata": {},
     "output_type": "display_data"
    },
    {
     "data": {
      "text/markdown": [
       "<img alt=\"\" class=\"css-122y91a\" src=\"https://static01.nyt.com/images/2022/11/06/multimedia/06nycm-fashion-fader-6-1-c4d2/06nycm-fashion-fader-6-1-c4d2-square640.jpg?format=pjpg&amp;quality=75&amp;auto=webp&amp;disable=upscale\"/>"
      ],
      "text/plain": [
       "<IPython.core.display.Markdown object>"
      ]
     },
     "metadata": {},
     "output_type": "display_data"
    },
    {
     "data": {
      "text/markdown": [
       "<img alt=\"\" class=\"slideshow-animate css-3kzcvh\" loading=\"lazy\"/>"
      ],
      "text/plain": [
       "<IPython.core.display.Markdown object>"
      ]
     },
     "metadata": {},
     "output_type": "display_data"
    },
    {
     "data": {
      "text/markdown": [
       "<img alt=\"\" class=\"css-122y91a\" src=\"https://static01.nyt.com/images/2022/11/06/multimedia/06nycm-fashion-fader-7-1-6338/06nycm-fashion-fader-7-1-6338-square640.jpg?format=pjpg&amp;quality=75&amp;auto=webp&amp;disable=upscale\"/>"
      ],
      "text/plain": [
       "<IPython.core.display.Markdown object>"
      ]
     },
     "metadata": {},
     "output_type": "display_data"
    },
    {
     "data": {
      "text/markdown": [
       "<img alt=\"\" class=\"slideshow-animate css-3kzcvh\" loading=\"lazy\"/>"
      ],
      "text/plain": [
       "<IPython.core.display.Markdown object>"
      ]
     },
     "metadata": {},
     "output_type": "display_data"
    },
    {
     "data": {
      "text/markdown": [
       "<img alt=\"\" class=\"css-122y91a\" src=\"https://static01.nyt.com/images/2022/11/06/multimedia/06nycm-fashion-fader-4/06nycm-fashion-grid3-1-0f56-square640.jpg?format=pjpg&amp;quality=75&amp;auto=webp&amp;disable=upscale\"/>"
      ],
      "text/plain": [
       "<IPython.core.display.Markdown object>"
      ]
     },
     "metadata": {},
     "output_type": "display_data"
    },
    {
     "data": {
      "text/markdown": [
       "<img alt=\"\" class=\"slideshow-animate css-3kzcvh\" loading=\"lazy\"/>"
      ],
      "text/plain": [
       "<IPython.core.display.Markdown object>"
      ]
     },
     "metadata": {},
     "output_type": "display_data"
    },
    {
     "data": {
      "text/markdown": [
       "<img alt=\"\" class=\"css-122y91a\" src=\"https://static01.nyt.com/images/2022/11/06/multimedia/06nycm-fashion-fader-2/06nycm-fashion-fader-2-square640.jpg?format=pjpg&amp;quality=75&amp;auto=webp&amp;disable=upscale\"/>"
      ],
      "text/plain": [
       "<IPython.core.display.Markdown object>"
      ]
     },
     "metadata": {},
     "output_type": "display_data"
    },
    {
     "data": {
      "text/markdown": [
       "<img alt=\"\" class=\"slideshow-animate css-3kzcvh\" loading=\"lazy\"/>"
      ],
      "text/plain": [
       "<IPython.core.display.Markdown object>"
      ]
     },
     "metadata": {},
     "output_type": "display_data"
    },
    {
     "data": {
      "text/markdown": [
       "<img alt=\"\" class=\"css-122y91a\" src=\"https://static01.nyt.com/images/2022/11/06/multimedia/06nycm-fashion-fader-3/06nycm-fashion-grid4-1-c973-square640.jpg?format=pjpg&amp;quality=75&amp;auto=webp&amp;disable=upscale\"/>"
      ],
      "text/plain": [
       "<IPython.core.display.Markdown object>"
      ]
     },
     "metadata": {},
     "output_type": "display_data"
    },
    {
     "data": {
      "text/markdown": [
       "<img alt=\"\" class=\"slideshow-animate css-3kzcvh\" loading=\"lazy\"/>"
      ],
      "text/plain": [
       "<IPython.core.display.Markdown object>"
      ]
     },
     "metadata": {},
     "output_type": "display_data"
    },
    {
     "data": {
      "text/markdown": [
       "<img alt=\"\" class=\"css-122y91a\" src=\"https://static01.nyt.com/images/2022/11/06/multimedia/06nycm-fashion-fader-5/06nycm-fashion-grid1-1-ced0-square640.jpg?format=pjpg&amp;quality=75&amp;auto=webp&amp;disable=upscale\"/>"
      ],
      "text/plain": [
       "<IPython.core.display.Markdown object>"
      ]
     },
     "metadata": {},
     "output_type": "display_data"
    },
    {
     "data": {
      "text/markdown": [
       "<img alt=\"\" class=\"css-dzl7b5\" loading=\"lazy\"/>"
      ],
      "text/plain": [
       "<IPython.core.display.Markdown object>"
      ]
     },
     "metadata": {},
     "output_type": "display_data"
    },
    {
     "data": {
      "text/markdown": [
       "<img alt=\"\" class=\"css-122y91a\" src=\"https://static01.nyt.com/images/2022/11/06/business/00MOLLY-Lede/00MOLLY-Lede-threeByTwoSmallAt2X.jpg?format=pjpg&amp;quality=75&amp;auto=webp&amp;disable=upscale\"/>"
      ],
      "text/plain": [
       "<IPython.core.display.Markdown object>"
      ]
     },
     "metadata": {},
     "output_type": "display_data"
    },
    {
     "data": {
      "text/markdown": [
       "<img alt=\"A man in a black basketball jersey and black shorts hunches over.\" class=\"css-dzl7b5\" loading=\"lazy\"/>"
      ],
      "text/plain": [
       "<IPython.core.display.Markdown object>"
      ]
     },
     "metadata": {},
     "output_type": "display_data"
    },
    {
     "data": {
      "text/markdown": [
       "<img alt=\"A man in a black basketball jersey and black shorts hunches over.\" class=\"css-122y91a\" src=\"https://static01.nyt.com/images/2022/11/06/business/06nike-irving/merlin_215808777_cb994196-0a10-4748-b39e-6b5ea57e38b9-threeByTwoSmallAt2X.jpg?format=pjpg&amp;quality=75&amp;auto=webp&amp;disable=upscale\"/>"
      ],
      "text/plain": [
       "<IPython.core.display.Markdown object>"
      ]
     },
     "metadata": {},
     "output_type": "display_data"
    },
    {
     "data": {
      "text/markdown": [
       "<img alt=\"An undulating landscape of white sand dunes in the foreground, with a backdrop of surrounding rocky mountains and clouds in the sky.\" class=\"css-dzl7b5\" loading=\"lazy\"/>"
      ],
      "text/plain": [
       "<IPython.core.display.Markdown object>"
      ]
     },
     "metadata": {},
     "output_type": "display_data"
    },
    {
     "data": {
      "text/markdown": [
       "<img alt=\"An undulating landscape of white sand dunes in the foreground, with a backdrop of surrounding rocky mountains and clouds in the sky.\" class=\"css-122y91a\" src=\"https://static01.nyt.com/images/2022/11/04/realestate/04-atomic-new-mexico-alamogorda3/04-atomic-new-mexico-alamogorda3-square640.jpg?format=pjpg&amp;quality=75&amp;auto=webp&amp;disable=upscale\"/>"
      ],
      "text/plain": [
       "<IPython.core.display.Markdown object>"
      ]
     },
     "metadata": {},
     "output_type": "display_data"
    },
    {
     "data": {
      "text/markdown": [
       "<img alt=\"\" class=\"css-dzl7b5\" loading=\"lazy\"/>"
      ],
      "text/plain": [
       "<IPython.core.display.Markdown object>"
      ]
     },
     "metadata": {},
     "output_type": "display_data"
    },
    {
     "data": {
      "text/markdown": [
       "<img alt=\"\" class=\"css-122y91a\" src=\"https://static01.nyt.com/images/2022/11/03/multimedia/nyc-salary-quiz-1-29fa/nyc-salary-quiz-1-29fa-threeByTwoSmallAt2X.jpg?format=pjpg&amp;quality=75&amp;auto=webp&amp;disable=upscale\"/>"
      ],
      "text/plain": [
       "<IPython.core.display.Markdown object>"
      ]
     },
     "metadata": {},
     "output_type": "display_data"
    },
    {
     "data": {
      "text/markdown": [
       "<img alt=\"In “Whatever Weighs You Down,” a screen showed the artist Chisato Minamimura using sign language to mirror the pianist Zubin Kanga’s gestures, which he made onstage while wearing sensor gloves.\" class=\"css-dzl7b5\" loading=\"lazy\"/>"
      ],
      "text/plain": [
       "<IPython.core.display.Markdown object>"
      ]
     },
     "metadata": {},
     "output_type": "display_data"
    },
    {
     "data": {
      "text/markdown": [
       "<img alt=\"In “Whatever Weighs You Down,” a screen showed the artist Chisato Minamimura using sign language to mirror the pianist Zubin Kanga’s gestures, which he made onstage while wearing sensor gloves.\" class=\"css-122y91a\" src=\"https://static01.nyt.com/images/2022/11/03/arts/03experimental01/03experimental01-threeByTwoSmallAt2X.jpg?format=pjpg&amp;quality=75&amp;auto=webp&amp;disable=upscale\"/>"
      ],
      "text/plain": [
       "<IPython.core.display.Markdown object>"
      ]
     },
     "metadata": {},
     "output_type": "display_data"
    },
    {
     "data": {
      "text/markdown": [
       "<img alt=\"Pamela Paul\" class=\"css-1ii2lp6\" loading=\"lazy\"/>"
      ],
      "text/plain": [
       "<IPython.core.display.Markdown object>"
      ]
     },
     "metadata": {},
     "output_type": "display_data"
    },
    {
     "data": {
      "text/markdown": [
       "<img alt=\"Pamela Paul\" class=\"css-122y91a\" src=\"https://static01.nyt.com/images/2022/07/12/opinion/pamela-paul-new/pamela-paul-new-thumbLarge-v2.png?format=pjpg&amp;quality=75&amp;auto=webp&amp;disable=upscale\"/>"
      ],
      "text/plain": [
       "<IPython.core.display.Markdown object>"
      ]
     },
     "metadata": {},
     "output_type": "display_data"
    },
    {
     "data": {
      "text/markdown": [
       "<img alt=\"Ezra Klein\" class=\"css-1ii2lp6\" loading=\"lazy\"/>"
      ],
      "text/plain": [
       "<IPython.core.display.Markdown object>"
      ]
     },
     "metadata": {},
     "output_type": "display_data"
    },
    {
     "data": {
      "text/markdown": [
       "<img alt=\"Ezra Klein\" class=\"css-122y91a\" src=\"https://static01.nyt.com/images/2021/01/06/opinion/ezra-klein/ezra-klein-thumbLarge-v3.png?format=pjpg&amp;quality=75&amp;auto=webp&amp;disable=upscale\"/>"
      ],
      "text/plain": [
       "<IPython.core.display.Markdown object>"
      ]
     },
     "metadata": {},
     "output_type": "display_data"
    },
    {
     "data": {
      "text/markdown": [
       "<img alt=\"Margaret Renkl\" class=\"css-1ii2lp6\" loading=\"lazy\"/>"
      ],
      "text/plain": [
       "<IPython.core.display.Markdown object>"
      ]
     },
     "metadata": {},
     "output_type": "display_data"
    },
    {
     "data": {
      "text/markdown": [
       "<img alt=\"Margaret Renkl\" class=\"css-122y91a\" src=\"https://static01.nyt.com/images/2017/04/08/opinion/margaret-renkl/margaret-renkl-thumbLarge-v2.png?format=pjpg&amp;quality=75&amp;auto=webp&amp;disable=upscale\"/>"
      ],
      "text/plain": [
       "<IPython.core.display.Markdown object>"
      ]
     },
     "metadata": {},
     "output_type": "display_data"
    },
    {
     "data": {
      "text/markdown": [
       "<img alt=\"\" class=\"css-dzl7b5\" loading=\"lazy\"/>"
      ],
      "text/plain": [
       "<IPython.core.display.Markdown object>"
      ]
     },
     "metadata": {},
     "output_type": "display_data"
    },
    {
     "data": {
      "text/markdown": [
       "<img alt=\"\" class=\"css-122y91a\" src=\"https://static01.nyt.com/images/2022/11/07/opinion/07renkl-1/merlin_157863966_af54805c-431b-4da4-bf08-fbaf189967f5-threeByTwoSmallAt2X.jpg?format=pjpg&amp;quality=75&amp;auto=webp&amp;disable=upscale\"/>"
      ],
      "text/plain": [
       "<IPython.core.display.Markdown object>"
      ]
     },
     "metadata": {},
     "output_type": "display_data"
    },
    {
     "data": {
      "text/markdown": [
       "<img alt=\"Katherine Miller\" class=\"css-1ii2lp6\" loading=\"lazy\"/>"
      ],
      "text/plain": [
       "<IPython.core.display.Markdown object>"
      ]
     },
     "metadata": {},
     "output_type": "display_data"
    },
    {
     "data": {
      "text/markdown": [
       "<img alt=\"Katherine Miller\" class=\"css-122y91a\" src=\"https://static01.nyt.com/images/2022/09/09/opinion/katherine-miller/katherine-miller-thumbLarge.png?format=pjpg&amp;quality=75&amp;auto=webp&amp;disable=upscale\"/>"
      ],
      "text/plain": [
       "<IPython.core.display.Markdown object>"
      ]
     },
     "metadata": {},
     "output_type": "display_data"
    },
    {
     "data": {
      "text/markdown": [
       "<img alt=\"\" class=\"css-dzl7b5\" loading=\"lazy\"/>"
      ],
      "text/plain": [
       "<IPython.core.display.Markdown object>"
      ]
     },
     "metadata": {},
     "output_type": "display_data"
    },
    {
     "data": {
      "text/markdown": [
       "<img alt=\"\" class=\"css-122y91a\" src=\"https://static01.nyt.com/images/2022/11/03/podcasts/03-RunUp-left-image/03-RunUp-left-image-square320-v3.jpg?format=pjpg&amp;quality=75&amp;auto=webp&amp;disable=upscale\"/>"
      ],
      "text/plain": [
       "<IPython.core.display.Markdown object>"
      ]
     },
     "metadata": {},
     "output_type": "display_data"
    },
    {
     "data": {
      "text/markdown": [
       "<img alt=\"\" class=\"css-dzl7b5\" loading=\"lazy\"/>"
      ],
      "text/plain": [
       "<IPython.core.display.Markdown object>"
      ]
     },
     "metadata": {},
     "output_type": "display_data"
    },
    {
     "data": {
      "text/markdown": [
       "<img alt=\"\" class=\"css-122y91a\" src=\"https://static01.nyt.com/images/2022/11/04/climate/04cli-newsletter-illo/04cli-newsletter-illo-square320.jpg?format=pjpg&amp;quality=75&amp;auto=webp&amp;disable=upscale\"/>"
      ],
      "text/plain": [
       "<IPython.core.display.Markdown object>"
      ]
     },
     "metadata": {},
     "output_type": "display_data"
    },
    {
     "data": {
      "text/markdown": [
       "<img alt=\"\" class=\"css-dzl7b5\" loading=\"lazy\"/>"
      ],
      "text/plain": [
       "<IPython.core.display.Markdown object>"
      ]
     },
     "metadata": {},
     "output_type": "display_data"
    },
    {
     "data": {
      "text/markdown": [
       "<img alt=\"\" class=\"css-122y91a\" src=\"https://static01.nyt.com/images/2016/09/04/fashion/02Modernlove-podcast-miscarriage-image/04LOVE-square320.jpg?format=pjpg&amp;quality=75&amp;auto=webp&amp;disable=upscale\"/>"
      ],
      "text/plain": [
       "<IPython.core.display.Markdown object>"
      ]
     },
     "metadata": {},
     "output_type": "display_data"
    },
    {
     "data": {
      "text/markdown": [
       "<img alt=\"\" class=\"css-dzl7b5\" loading=\"lazy\"/>"
      ],
      "text/plain": [
       "<IPython.core.display.Markdown object>"
      ]
     },
     "metadata": {},
     "output_type": "display_data"
    },
    {
     "data": {
      "text/markdown": [
       "<img alt=\"\" class=\"css-122y91a\" src=\"https://static01.nyt.com/images/2022/11/03/well/03Well-NL-Boredom/03Well-NL-Boredom-square320-v2.jpg?format=pjpg&amp;quality=75&amp;auto=webp&amp;disable=upscale\"/>"
      ],
      "text/plain": [
       "<IPython.core.display.Markdown object>"
      ]
     },
     "metadata": {},
     "output_type": "display_data"
    },
    {
     "data": {
      "text/markdown": [
       "<img alt=\"A bunker that has been converted into a temple in Keelung, Taiwan.\" class=\"css-dzl7b5\" loading=\"lazy\"/>"
      ],
      "text/plain": [
       "<IPython.core.display.Markdown object>"
      ]
     },
     "metadata": {},
     "output_type": "display_data"
    },
    {
     "data": {
      "text/markdown": [
       "<img alt=\"A bunker that has been converted into a temple in Keelung, Taiwan.\" class=\"css-122y91a\" src=\"https://static01.nyt.com/images/2022/10/31/world/00keelung-dispatch-07/merlin_215584809_3dc0644b-96cc-4ae0-b154-f7a2bd0501d7-threeByTwoSmallAt2X.jpg?format=pjpg&amp;quality=75&amp;auto=webp&amp;disable=upscale\"/>"
      ],
      "text/plain": [
       "<IPython.core.display.Markdown object>"
      ]
     },
     "metadata": {},
     "output_type": "display_data"
    },
    {
     "data": {
      "text/markdown": [
       "<img class=\"svelte-1xus8y6\" src=\"https://static01.nyt.com/newsgraphics/2021/coronavirus-tracking/images/svg/timeseries/USA/USA-cases-two-weeks.svg\"/>"
      ],
      "text/plain": [
       "<IPython.core.display.Markdown object>"
      ]
     },
     "metadata": {},
     "output_type": "display_data"
    },
    {
     "data": {
      "text/markdown": [
       "<img class=\"svelte-1xus8y6\" src=\"https://static01.nyt.com/newsgraphics/2021/coronavirus-tracking/images/svg/timeseries/USA/USA-deaths-two-weeks.svg\"/>"
      ],
      "text/plain": [
       "<IPython.core.display.Markdown object>"
      ]
     },
     "metadata": {},
     "output_type": "display_data"
    },
    {
     "data": {
      "text/markdown": [
       "<img class=\"svelte-1xus8y6\" src=\"https://static01.nyt.com/newsgraphics/2021/coronavirus-tracking/images/svg/timeseries/NYT-World/NYT-World-cases-two-weeks.svg\"/>"
      ],
      "text/plain": [
       "<IPython.core.display.Markdown object>"
      ]
     },
     "metadata": {},
     "output_type": "display_data"
    },
    {
     "data": {
      "text/markdown": [
       "<img class=\"svelte-1xus8y6\" src=\"https://static01.nyt.com/newsgraphics/2021/coronavirus-tracking/images/svg/timeseries/NYT-World/NYT-World-deaths-two-weeks.svg\"/>"
      ],
      "text/plain": [
       "<IPython.core.display.Markdown object>"
      ]
     },
     "metadata": {},
     "output_type": "display_data"
    },
    {
     "data": {
      "text/markdown": [
       "<img alt=\"US coronavirus cases\" class=\"svelte-14oieza\" loading=\"lazy\" src=\"https://static01.nyt.com/newsgraphics/2021/coronavirus-tracking/images/maps/USA/hotspots-state.png\"/>"
      ],
      "text/plain": [
       "<IPython.core.display.Markdown object>"
      ]
     },
     "metadata": {},
     "output_type": "display_data"
    },
    {
     "data": {
      "text/markdown": [
       "<img alt=\"Global coronavirus cases\" class=\"svelte-14oieza\" loading=\"lazy\" src=\"https://static01.nyt.com/newsgraphics/2021/coronavirus-tracking/images/maps/NYT-World/hotspots.png\"/>"
      ],
      "text/plain": [
       "<IPython.core.display.Markdown object>"
      ]
     },
     "metadata": {},
     "output_type": "display_data"
    },
    {
     "data": {
      "text/markdown": [
       "<img alt=\"Gabrielle Blair, 48, also known as Design Mom, sits in her study at home in Argentan, France. Her family has been restoring the 17th century house since 2019. \" class=\"css-dzl7b5\" loading=\"lazy\"><noscript><img alt=\"Gabrielle Blair, 48, also known as Design Mom, sits in her study at home in Argentan, France. Her family has been restoring the 17th century house since 2019. \" class=\"css-122y91a\" src=\"https://static01.nyt.com/images/2022/10/21/multimedia/21WELL-DESIGN-MOM1-1-f7de/21WELL-DESIGN-MOM1-1-f7de-threeByTwoSmallAt2X.jpg?format=pjpg&amp;quality=75&amp;auto=webp&amp;disable=upscale\"/></noscript></img>"
      ],
      "text/plain": [
       "<IPython.core.display.Markdown object>"
      ]
     },
     "metadata": {},
     "output_type": "display_data"
    },
    {
     "data": {
      "text/markdown": [
       "<img alt=\"Gabrielle Blair, 48, also known as Design Mom, sits in her study at home in Argentan, France. Her family has been restoring the 17th century house since 2019. \" class=\"css-122y91a\" src=\"https://static01.nyt.com/images/2022/10/21/multimedia/21WELL-DESIGN-MOM1-1-f7de/21WELL-DESIGN-MOM1-1-f7de-threeByTwoSmallAt2X.jpg?format=pjpg&amp;quality=75&amp;auto=webp&amp;disable=upscale\"/>"
      ],
      "text/plain": [
       "<IPython.core.display.Markdown object>"
      ]
     },
     "metadata": {},
     "output_type": "display_data"
    },
    {
     "data": {
      "text/markdown": [
       "<img alt=\"\" class=\"css-dzl7b5\" loading=\"lazy\"><noscript><img alt=\"\" class=\"css-122y91a\" src=\"https://static01.nyt.com/images/2022/11/04/well/04WELL-NIGHTMARE-VARIANT/04WELL-NIGHTMARE-VARIANT-threeByTwoSmallAt2X.jpg?format=pjpg&amp;quality=75&amp;auto=webp&amp;disable=upscale\"/></noscript></img>"
      ],
      "text/plain": [
       "<IPython.core.display.Markdown object>"
      ]
     },
     "metadata": {},
     "output_type": "display_data"
    },
    {
     "data": {
      "text/markdown": [
       "<img alt=\"\" class=\"css-122y91a\" src=\"https://static01.nyt.com/images/2022/11/04/well/04WELL-NIGHTMARE-VARIANT/04WELL-NIGHTMARE-VARIANT-threeByTwoSmallAt2X.jpg?format=pjpg&amp;quality=75&amp;auto=webp&amp;disable=upscale\"/>"
      ],
      "text/plain": [
       "<IPython.core.display.Markdown object>"
      ]
     },
     "metadata": {},
     "output_type": "display_data"
    },
    {
     "data": {
      "text/markdown": [
       "<img alt=\"\" class=\"css-dzl7b5\" loading=\"lazy\"><noscript><img alt=\"\" class=\"css-122y91a\" src=\"https://static01.nyt.com/images/2022/03/09/well/00well-daylight-saving-time/00well-daylight-saving-time-threeByTwoSmallAt2X.jpg?format=pjpg&amp;quality=75&amp;auto=webp&amp;disable=upscale\"/></noscript></img>"
      ],
      "text/plain": [
       "<IPython.core.display.Markdown object>"
      ]
     },
     "metadata": {},
     "output_type": "display_data"
    },
    {
     "data": {
      "text/markdown": [
       "<img alt=\"\" class=\"css-122y91a\" src=\"https://static01.nyt.com/images/2022/03/09/well/00well-daylight-saving-time/00well-daylight-saving-time-threeByTwoSmallAt2X.jpg?format=pjpg&amp;quality=75&amp;auto=webp&amp;disable=upscale\"/>"
      ],
      "text/plain": [
       "<IPython.core.display.Markdown object>"
      ]
     },
     "metadata": {},
     "output_type": "display_data"
    },
    {
     "data": {
      "text/markdown": [
       "<img alt=\"\" class=\"css-dzl7b5\" loading=\"lazy\"/>"
      ],
      "text/plain": [
       "<IPython.core.display.Markdown object>"
      ]
     },
     "metadata": {},
     "output_type": "display_data"
    },
    {
     "data": {
      "text/markdown": [
       "<img alt=\"\" class=\"css-122y91a\" src=\"https://static01.nyt.com/images/2022/11/01/multimedia/25ASKWELL-STATINS1-1-a328/25ASKWELL-STATINS1-1-a328-threeByTwoSmallAt2X-v3.jpg?format=pjpg&amp;quality=75&amp;auto=webp&amp;disable=upscale\"/>"
      ],
      "text/plain": [
       "<IPython.core.display.Markdown object>"
      ]
     },
     "metadata": {},
     "output_type": "display_data"
    },
    {
     "data": {
      "text/markdown": [
       "<img alt=\"\" class=\"css-dzl7b5\" loading=\"lazy\"/>"
      ],
      "text/plain": [
       "<IPython.core.display.Markdown object>"
      ]
     },
     "metadata": {},
     "output_type": "display_data"
    },
    {
     "data": {
      "text/markdown": [
       "<img alt=\"\" class=\"css-122y91a\" src=\"https://static01.nyt.com/images/2022/11/03/well/03-Burst-Hold-It-Together-Patia/03-Burst-Hold-It-Together-Patia-threeByTwoSmallAt2X.jpg?format=pjpg&amp;quality=75&amp;auto=webp&amp;disable=upscale\"/>"
      ],
      "text/plain": [
       "<IPython.core.display.Markdown object>"
      ]
     },
     "metadata": {},
     "output_type": "display_data"
    },
    {
     "data": {
      "text/markdown": [
       "<img alt=\"The home of Thomas and Kathleen Dennis in Truro, Mass., part of the Cape Cod National Seashore. The couple has had to move the house twice as the sand dunes near it erode.\" class=\"css-dzl7b5\" loading=\"lazy\"/>"
      ],
      "text/plain": [
       "<IPython.core.display.Markdown object>"
      ]
     },
     "metadata": {},
     "output_type": "display_data"
    },
    {
     "data": {
      "text/markdown": [
       "<img alt=\"The home of Thomas and Kathleen Dennis in Truro, Mass., part of the Cape Cod National Seashore. The couple has had to move the house twice as the sand dunes near it erode.\" class=\"css-122y91a\" src=\"https://static01.nyt.com/images/2022/11/05/multimedia/05sp-water-move-inyt1/merlin_215839311_67692910-1869-4380-9553-5494761411c9-square640.jpg?format=pjpg&amp;quality=75&amp;auto=webp&amp;disable=upscale\"/>"
      ],
      "text/plain": [
       "<IPython.core.display.Markdown object>"
      ]
     },
     "metadata": {},
     "output_type": "display_data"
    },
    {
     "data": {
      "text/markdown": [
       "<img alt=\"From “The Blue Scarf.”\" class=\"css-dzl7b5\" loading=\"lazy\"/>"
      ],
      "text/plain": [
       "<IPython.core.display.Markdown object>"
      ]
     },
     "metadata": {},
     "output_type": "display_data"
    },
    {
     "data": {
      "text/markdown": [
       "<img alt=\"From “The Blue Scarf.”\" class=\"css-122y91a\" src=\"https://static01.nyt.com/images/2022/10/30/books/review/30Jones-CHILDRENS/30Jones-CHILDRENS-threeByTwoSmallAt2X.jpg?format=pjpg&amp;quality=75&amp;auto=webp&amp;disable=upscale\"/>"
      ],
      "text/plain": [
       "<IPython.core.display.Markdown object>"
      ]
     },
     "metadata": {},
     "output_type": "display_data"
    },
    {
     "data": {
      "text/markdown": [
       "<img alt=\"From left, Mei Mac, Ami Okumura Jones and Dai Tabuchi in the Royal Shakespeare Company production of “My Neighbour Totoro” at the Barbican Theater.\" class=\"css-dzl7b5\" loading=\"lazy\"/>"
      ],
      "text/plain": [
       "<IPython.core.display.Markdown object>"
      ]
     },
     "metadata": {},
     "output_type": "display_data"
    },
    {
     "data": {
      "text/markdown": [
       "<img alt=\"From left, Mei Mac, Ami Okumura Jones and Dai Tabuchi in the Royal Shakespeare Company production of “My Neighbour Totoro” at the Barbican Theater.\" class=\"css-122y91a\" src=\"https://static01.nyt.com/images/2022/11/03/world/03londontheater1/merlin_215506701_c9ee9efa-012d-4b75-b373-7ec6931e9587-threeByTwoSmallAt2X.jpg?format=pjpg&amp;quality=75&amp;auto=webp&amp;disable=upscale\"/>"
      ],
      "text/plain": [
       "<IPython.core.display.Markdown object>"
      ]
     },
     "metadata": {},
     "output_type": "display_data"
    },
    {
     "data": {
      "text/markdown": [
       "<img alt=\"A singer wearing all black pauses in front of a piano onstage at a recital hall, with the word “benedictus” projected on the wall.\" class=\"css-dzl7b5\" loading=\"lazy\"/>"
      ],
      "text/plain": [
       "<IPython.core.display.Markdown object>"
      ]
     },
     "metadata": {},
     "output_type": "display_data"
    },
    {
     "data": {
      "text/markdown": [
       "<img alt=\"A singer wearing all black pauses in front of a piano onstage at a recital hall, with the word “benedictus” projected on the wall.\" class=\"css-122y91a\" src=\"https://static01.nyt.com/images/2022/11/07/multimedia/04davone-tines/04davone-tines-threeByTwoSmallAt2X.jpg?format=pjpg&amp;quality=75&amp;auto=webp&amp;disable=upscale\"/>"
      ],
      "text/plain": [
       "<IPython.core.display.Markdown object>"
      ]
     },
     "metadata": {},
     "output_type": "display_data"
    },
    {
     "data": {
      "text/markdown": [
       "<img alt=\"Millie Bobby Brown in “Enola Holmes 2.”\" class=\"css-dzl7b5\" loading=\"lazy\"/>"
      ],
      "text/plain": [
       "<IPython.core.display.Markdown object>"
      ]
     },
     "metadata": {},
     "output_type": "display_data"
    },
    {
     "data": {
      "text/markdown": [
       "<img alt=\"Millie Bobby Brown in “Enola Holmes 2.”\" class=\"css-122y91a\" src=\"https://static01.nyt.com/images/2022/11/03/multimedia/03enolaholmes-review-1-2378/03enolaholmes-review-1-2378-threeByTwoSmallAt2X.jpg?format=pjpg&amp;quality=75&amp;auto=webp&amp;disable=upscale\"/>"
      ],
      "text/plain": [
       "<IPython.core.display.Markdown object>"
      ]
     },
     "metadata": {},
     "output_type": "display_data"
    },
    {
     "data": {
      "text/markdown": [
       "<img alt=\"\" class=\"css-dzl7b5\" loading=\"lazy\"/>"
      ],
      "text/plain": [
       "<IPython.core.display.Markdown object>"
      ]
     },
     "metadata": {},
     "output_type": "display_data"
    },
    {
     "data": {
      "text/markdown": [
       "<img alt=\"\" class=\"css-122y91a\" src=\"https://static01.nyt.com/images/2022/11/06/multimedia/https---theathletic-com-3768577-2022-11-06-nfl-week-9-takeaways/https---theathletic-com-3768577-2022-11-06-nfl-week-9-takeaways--threeByTwoSmallAt2X.jpg?format=pjpg&amp;quality=75&amp;auto=webp&amp;disable=upscale\"/>"
      ],
      "text/plain": [
       "<IPython.core.display.Markdown object>"
      ]
     },
     "metadata": {},
     "output_type": "display_data"
    },
    {
     "data": {
      "text/markdown": [
       "<img alt=\"\" class=\"css-dzl7b5\" loading=\"lazy\"/>"
      ],
      "text/plain": [
       "<IPython.core.display.Markdown object>"
      ]
     },
     "metadata": {},
     "output_type": "display_data"
    },
    {
     "data": {
      "text/markdown": [
       "<img alt=\"\" class=\"css-122y91a\" src=\"https://static01.nyt.com/images/2019/04/18/homepage/spelling-bee-logo-bulletin/spelling-bee-logo-bulletin-square320-v5.png?format=pjpg&amp;quality=75&amp;auto=webp&amp;disable=upscale\"/>"
      ],
      "text/plain": [
       "<IPython.core.display.Markdown object>"
      ]
     },
     "metadata": {},
     "output_type": "display_data"
    },
    {
     "data": {
      "text/markdown": [
       "<img alt=\"\" class=\"css-dzl7b5\" loading=\"lazy\"/>"
      ],
      "text/plain": [
       "<IPython.core.display.Markdown object>"
      ]
     },
     "metadata": {},
     "output_type": "display_data"
    },
    {
     "data": {
      "text/markdown": [
       "<img alt=\"\" class=\"css-122y91a\" src=\"https://static01.nyt.com/images/2020/03/23/crosswords/crossword-logo-nytgames-hires/crossword-logo-nytgames-hires-square320-v3.png?format=pjpg&amp;quality=75&amp;auto=webp&amp;disable=upscale\"/>"
      ],
      "text/plain": [
       "<IPython.core.display.Markdown object>"
      ]
     },
     "metadata": {},
     "output_type": "display_data"
    },
    {
     "data": {
      "text/markdown": [
       "<img alt=\"\" class=\"css-dzl7b5\" loading=\"lazy\"/>"
      ],
      "text/plain": [
       "<IPython.core.display.Markdown object>"
      ]
     },
     "metadata": {},
     "output_type": "display_data"
    },
    {
     "data": {
      "text/markdown": [
       "<img alt=\"\" class=\"css-122y91a\" src=\"https://static01.nyt.com/images/2022/03/02/crosswords/alpha-wordle-icon-new/alpha-wordle-icon-new-square320-v3.png?format=pjpg&amp;quality=75&amp;auto=webp&amp;disable=upscale\"/>"
      ],
      "text/plain": [
       "<IPython.core.display.Markdown object>"
      ]
     },
     "metadata": {},
     "output_type": "display_data"
    },
    {
     "data": {
      "text/markdown": [
       "<img alt=\"Wordle gives players six tries to guess the daily word. Only a small number of people go in with a plan.\" class=\"css-dzl7b5\" loading=\"lazy\"/>"
      ],
      "text/plain": [
       "<IPython.core.display.Markdown object>"
      ]
     },
     "metadata": {},
     "output_type": "display_data"
    },
    {
     "data": {
      "text/markdown": [
       "<img alt=\"Wordle gives players six tries to guess the daily word. Only a small number of people go in with a plan.\" class=\"css-122y91a\" src=\"https://static01.nyt.com/images/2022/08/25/crosswords/wordle-top/wordle-top-square320.jpg?format=pjpg&amp;quality=75&amp;auto=webp&amp;disable=upscale\"/>"
      ],
      "text/plain": [
       "<IPython.core.display.Markdown object>"
      ]
     },
     "metadata": {},
     "output_type": "display_data"
    },
    {
     "data": {
      "text/markdown": [
       "<img alt=\"\" class=\"css-dzl7b5\" loading=\"lazy\"/>"
      ],
      "text/plain": [
       "<IPython.core.display.Markdown object>"
      ]
     },
     "metadata": {},
     "output_type": "display_data"
    },
    {
     "data": {
      "text/markdown": [
       "<img alt=\"\" class=\"css-122y91a\" src=\"https://static01.nyt.com/images/2021/05/27/multimedia/alpha-letterboxed-promo-1622145789727/alpha-letterboxed-promo-1622145789727-square320.png?format=pjpg&amp;quality=75&amp;auto=webp&amp;disable=upscale\"/>"
      ],
      "text/plain": [
       "<IPython.core.display.Markdown object>"
      ]
     },
     "metadata": {},
     "output_type": "display_data"
    },
    {
     "data": {
      "text/markdown": [
       "<img alt=\"\" class=\"css-dzl7b5\" loading=\"lazy\"/>"
      ],
      "text/plain": [
       "<IPython.core.display.Markdown object>"
      ]
     },
     "metadata": {},
     "output_type": "display_data"
    },
    {
     "data": {
      "text/markdown": [
       "<img alt=\"\" class=\"css-122y91a\" src=\"https://static01.nyt.com/images/2020/03/23/crosswords/tiles-logo-nytgames-hi-res/tiles-logo-nytgames-hi-res-square320-v4.png?format=pjpg&amp;quality=75&amp;auto=webp&amp;disable=upscale\"/>"
      ],
      "text/plain": [
       "<IPython.core.display.Markdown object>"
      ]
     },
     "metadata": {},
     "output_type": "display_data"
    }
   ],
   "source": [
    "from IPython.display import Markdown, display\n",
    "\n",
    "# Loop through all the images on the NYT front page\n",
    "for image in document.find_all('img'):\n",
    "    \n",
    "    # Convert the image tag to a string\n",
    "    image_string = str(image)\n",
    "    \n",
    "    # Transform the tag to Markdown and then display it as Markdown\n",
    "    display(Markdown(image_string))"
   ]
  },
  {
   "cell_type": "markdown",
   "metadata": {},
   "source": [
    "## Quick Demonstration of Image Scraping — Bill Gates's LinkedIn Page"
   ]
  },
  {
   "cell_type": "markdown",
   "metadata": {},
   "source": [
    "https://www.linkedin.com/in/williamhgates/"
   ]
  },
  {
   "cell_type": "code",
   "execution_count": 5,
   "metadata": {
    "ExecuteTime": {
     "end_time": "2022-11-07T10:59:55.486140Z",
     "start_time": "2022-11-07T10:59:55.219742Z"
    }
   },
   "outputs": [],
   "source": [
    "response = requests.get(\"https://www.linkedin.com/in/williamhgates/\")\n",
    "html_string = response.text\n",
    "document = BeautifulSoup(html_string, \"html.parser\")"
   ]
  },
  {
   "cell_type": "code",
   "execution_count": 6,
   "metadata": {
    "ExecuteTime": {
     "end_time": "2022-11-07T10:59:55.506198Z",
     "start_time": "2022-11-07T10:59:55.501245Z"
    }
   },
   "outputs": [],
   "source": [
    "from IPython.display import Markdown, display\n",
    "\n",
    "# Loop through all the images on the NYT front page\n",
    "for image in document.find_all('img'):\n",
    "    # Convert the image tag to a string\n",
    "    image_string = str(image)\n",
    "    # Transform the tag to Markdown and then display it as Markdown\n",
    "    display(Markdown(image_string))"
   ]
  },
  {
   "cell_type": "markdown",
   "metadata": {},
   "source": [
    "What's going wrong here?"
   ]
  },
  {
   "cell_type": "code",
   "execution_count": 7,
   "metadata": {
    "ExecuteTime": {
     "end_time": "2022-11-07T10:59:55.843046Z",
     "start_time": "2022-11-07T10:59:55.836165Z"
    }
   },
   "outputs": [
    {
     "data": {
      "text/plain": [
       "<Response [999]>"
      ]
     },
     "execution_count": 7,
     "metadata": {},
     "output_type": "execute_result"
    }
   ],
   "source": [
    "response"
   ]
  },
  {
   "cell_type": "markdown",
   "metadata": {},
   "source": [
    "## Scraping Multiple Web Pages At a Time"
   ]
  },
  {
   "cell_type": "markdown",
   "metadata": {},
   "source": [
    "In the last lesson, we figured out how to scrape the lyrics for a single Missy Elliott song."
   ]
  },
  {
   "cell_type": "code",
   "execution_count": 8,
   "metadata": {
    "ExecuteTime": {
     "end_time": "2022-11-07T10:59:56.721749Z",
     "start_time": "2022-11-07T10:59:56.421704Z"
    }
   },
   "outputs": [],
   "source": [
    "response = requests.get(\"https://genius.com/Missy-elliott-work-it-lyrics\")\n",
    "html_string = response.text\n",
    "document = BeautifulSoup(html_string, \"html.parser\")"
   ]
  },
  {
   "cell_type": "code",
   "execution_count": 9,
   "metadata": {
    "ExecuteTime": {
     "end_time": "2022-11-07T10:59:56.750604Z",
     "start_time": "2022-11-07T10:59:56.746153Z"
    },
    "scrolled": true
   },
   "outputs": [
    {
     "data": {
      "text/plain": [
       "'Produced by'"
      ]
     },
     "execution_count": 9,
     "metadata": {},
     "output_type": "execute_result"
    }
   ],
   "source": [
    "document.find('p').text"
   ]
  },
  {
   "cell_type": "markdown",
   "metadata": {},
   "source": [
    "But how can we scrape lyrics for multiple Missy Elliott songs at a time?"
   ]
  },
  {
   "cell_type": "markdown",
   "metadata": {},
   "source": [
    "### Figure Out the Pattern"
   ]
  },
  {
   "cell_type": "markdown",
   "metadata": {},
   "source": [
    "What we need to do is figure out how to progammatically generate the correct Genius web page URL for each song we're interested in:"
   ]
  },
  {
   "cell_type": "markdown",
   "metadata": {},
   "source": [
    "`f\"https://genius.com/Missy-elliott-{formatted_song}-lyrics\"`"
   ]
  },
  {
   "cell_type": "code",
   "execution_count": 10,
   "metadata": {
    "ExecuteTime": {
     "end_time": "2022-11-07T10:59:57.584850Z",
     "start_time": "2022-11-07T10:59:57.578765Z"
    }
   },
   "outputs": [],
   "source": [
    "song_titles = ['Work It', 'WTF (Where They From)', 'The Rain (Supa Dupa Fly)']"
   ]
  },
  {
   "cell_type": "markdown",
   "metadata": {},
   "source": [
    "```\n",
    "for song in song_titles:\n",
    "    formatted_song = ?????\n",
    "    response = requests.get(f\"https://genius.com/Missy-elliott-{formatted_song}-lyrics\")\n",
    "    html_string = response.text\n",
    "    document = BeautifulSoup(html_string, \"html.parser\")\n",
    "    document.find('p').text\n",
    "```"
   ]
  },
  {
   "cell_type": "markdown",
   "metadata": {},
   "source": [
    "Let's inspect the Genius web pages for each of these songs:"
   ]
  },
  {
   "cell_type": "markdown",
   "metadata": {},
   "source": [
    "https://genius.com/Missy-elliott-work-it-lyrics"
   ]
  },
  {
   "cell_type": "markdown",
   "metadata": {},
   "source": [
    "https://genius.com/Missy-elliott-the-rain-supa-dupa-fly-lyrics"
   ]
  },
  {
   "cell_type": "markdown",
   "metadata": {},
   "source": [
    "https://genius.com/Missy-elliott-wtf-where-they-from-lyrics"
   ]
  },
  {
   "cell_type": "markdown",
   "metadata": {},
   "source": [
    "### Make Song Titles Fit Pattern — Your Turn!"
   ]
  },
  {
   "cell_type": "markdown",
   "metadata": {},
   "source": [
    "Create a function called `format_song()` that will take in a song title and then return the song title correctly formatted for its Genius web page.\n",
    "\n",
    "For example, the song `WTF (Where They From)` needs to be converted to `wtf-where-they-from`."
   ]
  },
  {
   "cell_type": "markdown",
   "metadata": {},
   "source": [
    "Hint: You will need to use [string methods](https://info1350.github.io/Intro-CA-SP21/02-Python/06-String-Methods.html#id1)!"
   ]
  },
  {
   "cell_type": "code",
   "execution_count": 11,
   "metadata": {
    "ExecuteTime": {
     "end_time": "2022-11-07T10:59:59.310882Z",
     "start_time": "2022-11-07T10:59:59.305777Z"
    }
   },
   "outputs": [],
   "source": [
    "def format_song(song):\n",
    "    #Your Code Here 👇\n",
    "    \n",
    "    \n",
    "    \n",
    "    \n",
    "    return formatted_song"
   ]
  },
  {
   "cell_type": "markdown",
   "metadata": {},
   "source": [
    "Test of your function on these two song titles to make sure it's working correctly."
   ]
  },
  {
   "cell_type": "code",
   "execution_count": 12,
   "metadata": {
    "ExecuteTime": {
     "end_time": "2022-11-07T11:00:00.165696Z",
     "start_time": "2022-11-07T10:59:59.646457Z"
    }
   },
   "outputs": [
    {
     "ename": "NameError",
     "evalue": "name 'formatted_song' is not defined",
     "output_type": "error",
     "traceback": [
      "\u001b[0;31m---------------------------------------------------------------------------\u001b[0m",
      "\u001b[0;31mNameError\u001b[0m                                 Traceback (most recent call last)",
      "Input \u001b[0;32mIn [12]\u001b[0m, in \u001b[0;36m<cell line: 1>\u001b[0;34m()\u001b[0m\n\u001b[0;32m----> 1\u001b[0m \u001b[43mformat_song\u001b[49m\u001b[43m(\u001b[49m\u001b[38;5;124;43m'\u001b[39;49m\u001b[38;5;124;43mWTF (Where They From)\u001b[39;49m\u001b[38;5;124;43m'\u001b[39;49m\u001b[43m)\u001b[49m\n",
      "Input \u001b[0;32mIn [11]\u001b[0m, in \u001b[0;36mformat_song\u001b[0;34m(song)\u001b[0m\n\u001b[1;32m      1\u001b[0m \u001b[38;5;28;01mdef\u001b[39;00m \u001b[38;5;21mformat_song\u001b[39m(song):\n\u001b[1;32m      2\u001b[0m     \u001b[38;5;66;03m#Your Code Here 👇\u001b[39;00m\n\u001b[0;32m----> 7\u001b[0m     \u001b[38;5;28;01mreturn\u001b[39;00m \u001b[43mformatted_song\u001b[49m\n",
      "\u001b[0;31mNameError\u001b[0m: name 'formatted_song' is not defined"
     ]
    }
   ],
   "source": [
    "# format_song('WTF (Where They From)')"
   ]
  },
  {
   "cell_type": "code",
   "execution_count": null,
   "metadata": {
    "ExecuteTime": {
     "end_time": "2022-11-07T11:00:00.168785Z",
     "start_time": "2022-11-07T11:00:00.168773Z"
    }
   },
   "outputs": [],
   "source": [
    "# format_song('Work It')"
   ]
  },
  {
   "cell_type": "markdown",
   "metadata": {},
   "source": [
    "### Put It All Together"
   ]
  },
  {
   "cell_type": "code",
   "execution_count": 13,
   "metadata": {
    "ExecuteTime": {
     "end_time": "2022-11-07T11:00:00.186790Z",
     "start_time": "2022-11-07T11:00:00.184054Z"
    }
   },
   "outputs": [],
   "source": [
    "# song_titles = ['Work It', 'WTF (Where They From)', 'The Rain (Supa Dupa Fly)']"
   ]
  },
  {
   "cell_type": "markdown",
   "metadata": {},
   "source": [
    "Now use your `format_song()` function to create the variable `formatted_song`, which will allow the code below to work."
   ]
  },
  {
   "cell_type": "code",
   "execution_count": 18,
   "metadata": {
    "ExecuteTime": {
     "end_time": "2022-11-07T11:00:55.084553Z",
     "start_time": "2022-11-07T11:00:55.042789Z"
    }
   },
   "outputs": [
    {
     "ename": "NameError",
     "evalue": "name 'formatted_song' is not defined",
     "output_type": "error",
     "traceback": [
      "\u001b[0;31m---------------------------------------------------------------------------\u001b[0m",
      "\u001b[0;31mNameError\u001b[0m                                 Traceback (most recent call last)",
      "Input \u001b[0;32mIn [18]\u001b[0m, in \u001b[0;36m<cell line: 1>\u001b[0;34m()\u001b[0m\n\u001b[1;32m      1\u001b[0m \u001b[38;5;28;01mfor\u001b[39;00m song \u001b[38;5;129;01min\u001b[39;00m song_titles:\n\u001b[0;32m----> 2\u001b[0m     formatted_song \u001b[38;5;241m=\u001b[39m \u001b[43mformat_song\u001b[49m\u001b[43m(\u001b[49m\u001b[38;5;124;43m\"\u001b[39;49m\u001b[38;5;124;43mWork It\u001b[39;49m\u001b[38;5;124;43m\"\u001b[39;49m\u001b[43m)\u001b[49m\n\u001b[1;32m      3\u001b[0m     response \u001b[38;5;241m=\u001b[39m requests\u001b[38;5;241m.\u001b[39mget(\u001b[38;5;124mf\u001b[39m\u001b[38;5;124m\"\u001b[39m\u001b[38;5;124mhttps://genius.com/Missy-elliott-\u001b[39m\u001b[38;5;132;01m{\u001b[39;00mformatted_song\u001b[38;5;132;01m}\u001b[39;00m\u001b[38;5;124m-lyrics\u001b[39m\u001b[38;5;124m\"\u001b[39m)\n\u001b[1;32m      4\u001b[0m     html_string \u001b[38;5;241m=\u001b[39m response\u001b[38;5;241m.\u001b[39mtext\n",
      "Input \u001b[0;32mIn [11]\u001b[0m, in \u001b[0;36mformat_song\u001b[0;34m(song)\u001b[0m\n\u001b[1;32m      1\u001b[0m \u001b[38;5;28;01mdef\u001b[39;00m \u001b[38;5;21mformat_song\u001b[39m(song):\n\u001b[1;32m      2\u001b[0m     \u001b[38;5;66;03m#Your Code Here 👇\u001b[39;00m\n\u001b[0;32m----> 7\u001b[0m     \u001b[38;5;28;01mreturn\u001b[39;00m \u001b[43mformatted_song\u001b[49m\n",
      "\u001b[0;31mNameError\u001b[0m: name 'formatted_song' is not defined"
     ]
    }
   ],
   "source": [
    "# for song in song_titles:\n",
    "#     formatted_song = format_song(\"Work It\")\n",
    "#     response = requests.get(f\"https://genius.com/Missy-elliott-{formatted_song}-lyrics\")\n",
    "#     html_string = response.text\n",
    "#     document = BeautifulSoup(html_string, \"html.parser\")\n",
    "#     lyrics = document.find('p').text\n",
    "#     print(lyrics)"
   ]
  },
  {
   "cell_type": "markdown",
   "metadata": {},
   "source": [
    "## Write Lyrics to a Text File"
   ]
  },
  {
   "cell_type": "code",
   "execution_count": 19,
   "metadata": {
    "ExecuteTime": {
     "end_time": "2022-11-07T11:01:14.567344Z",
     "start_time": "2022-11-07T11:01:14.561673Z"
    }
   },
   "outputs": [],
   "source": [
    "song_titles = ['Work It', 'WTF (Where They From)', 'The Rain (Supa Dupa Fly)']"
   ]
  },
  {
   "cell_type": "markdown",
   "metadata": {},
   "source": [
    "Here we are writing the lyrics to a text file rather than printing them out.\n",
    "\n",
    "Again, use your `format_song()` function to create the variable `formatted_song`, which will allow the code below to work."
   ]
  },
  {
   "cell_type": "code",
   "execution_count": 22,
   "metadata": {
    "ExecuteTime": {
     "end_time": "2022-11-07T11:01:28.470500Z",
     "start_time": "2022-11-07T11:01:28.466964Z"
    }
   },
   "outputs": [],
   "source": [
    "# with open('Missy-Elliott-Lyrics.txt', mode='w') as file_object:\n",
    "    \n",
    "#     for song in song_titles:\n",
    "#         # formatted_song = format_song(song)  #Use your format_song() function here\n",
    "#         response = requests.get(f\"https://genius.com/Missy-elliott-{formatted_song}-lyrics\")\n",
    "#         html_string = response.text\n",
    "#         document = BeautifulSoup(html_string, \"html.parser\")\n",
    "#         lyrics = document.find('p').text\n",
    "        \n",
    "#         file_object.write(lyrics)"
   ]
  },
  {
   "cell_type": "markdown",
   "metadata": {},
   "source": [
    "## Count Top Words From File"
   ]
  },
  {
   "cell_type": "markdown",
   "metadata": {},
   "source": [
    "If we wanted to find out the most frequent words in Missy Elliott's lyrics, we could use the word counter code that we've used in previous lessons."
   ]
  },
  {
   "cell_type": "code",
   "execution_count": 23,
   "metadata": {
    "ExecuteTime": {
     "end_time": "2022-11-07T11:01:29.637743Z",
     "start_time": "2022-11-07T11:01:29.617325Z"
    }
   },
   "outputs": [],
   "source": [
    "import re\n",
    "from collections import Counter\n",
    "\n",
    "stopwords = ['i', 'me', 'my', 'myself', 'we', 'our', 'ours', 'ourselves', 'you', 'your', 'yours',\n",
    " 'yourself', 'yourselves', 'he', 'him', 'his', 'himself', 'she', 'her', 'hers',\n",
    " 'herself', 'it', 'its', 'itself', 'they', 'them', 'their', 'theirs', 'themselves',\n",
    " 'what', 'which', 'who', 'whom', 'this', 'that', 'these', 'those', 'am', 'is', 'are',\n",
    " 'was', 'were', 'be', 'been', 'being', 'have', 'has', 'had', 'having', 'do', 'does',\n",
    " 'did', 'doing', 'a', 'an', 'the', 'and', 'but', 'if', 'or', 'because', 'as', 'until',\n",
    " 'while', 'of', 'at', 'by', 'for', 'with', 'about', 'against', 'between', 'into',\n",
    " 'through', 'during', 'before', 'after', 'above', 'below', 'to', 'from', 'up', 'down',\n",
    " 'in', 'out', 'on', 'off', 'over', 'under', 'again', 'further', 'then', 'once', 'here',\n",
    " 'there', 'when', 'where', 'why', 'how', 'all', 'any', 'both', 'each', 'few', 'more',\n",
    " 'most', 'other', 'some', 'such', 'no', 'nor', 'not', 'only', 'own', 'same', 'so',\n",
    " 'than', 'too', 'very', 's', 't', 'can', 'will', 'just', 'don', 'should', 'now', 've', 'll', 'amp']\n",
    "\n",
    "\n",
    "def split_into_words(any_chunk_of_text):\n",
    "    lowercase_text = any_chunk_of_text.lower()\n",
    "    split_words = re.split(\"\\W+\", lowercase_text)\n",
    "    return split_words\n",
    "\n",
    "def get_top_words(full_text, number_of_words=20):\n",
    "    all_the_words = split_into_words(full_text)\n",
    "    meaningful_words = [word for word in all_the_words if word not in stopwords]\n",
    "    meaningful_words_tally = Counter(meaningful_words)\n",
    "    most_frequent_meaningful_words = meaningful_words_tally.most_common(number_of_words)\n",
    "    return most_frequent_meaningful_words"
   ]
  },
  {
   "cell_type": "markdown",
   "metadata": {},
   "source": [
    "Let's read in the file that we created and get the top words."
   ]
  },
  {
   "cell_type": "code",
   "execution_count": 24,
   "metadata": {
    "ExecuteTime": {
     "end_time": "2022-11-07T11:01:30.112955Z",
     "start_time": "2022-11-07T11:01:30.102335Z"
    }
   },
   "outputs": [
    {
     "data": {
      "text/plain": [
       "[('', 1)]"
      ]
     },
     "execution_count": 24,
     "metadata": {},
     "output_type": "execute_result"
    }
   ],
   "source": [
    "missy_lyrics = open('Missy-Elliott-Lyrics.txt').read()\n",
    "get_top_words(missy_lyrics)"
   ]
  },
  {
   "cell_type": "markdown",
   "metadata": {},
   "source": [
    "## What patterns do you notice about the top 20 words from these Missy Elliott songs?\n",
    "Feel free to open the text file in the file browser at the left and inspect the lyrics manually"
   ]
  },
  {
   "cell_type": "markdown",
   "metadata": {},
   "source": [
    "## Bonus: If You Wanted to Change the Artist..."
   ]
  },
  {
   "cell_type": "code",
   "execution_count": 26,
   "metadata": {
    "ExecuteTime": {
     "end_time": "2022-11-07T11:01:38.120032Z",
     "start_time": "2022-11-07T11:01:38.115804Z"
    }
   },
   "outputs": [],
   "source": [
    "artist = 'Bts'\n",
    "song_titles = ['Dynamite', 'Euphoria', 'Fake Love']\n",
    "\n",
    "# for song in song_titles:\n",
    "#     formatted_song = ???? #Use your format_song() function here\n",
    "#     response = requests.get(f\"https://genius.com/{artist}-{formatted_song}-lyrics\")\n",
    "#     html_string = response.text\n",
    "#     document = BeautifulSoup(html_string, \"html.parser\")\n",
    "#     lyrics = document.find('p').text\n",
    "#     print(lyrics)"
   ]
  },
  {
   "cell_type": "markdown",
   "metadata": {},
   "source": [
    "## Group Discussion"
   ]
  },
  {
   "cell_type": "markdown",
   "metadata": {},
   "source": [
    "* Do you think scholars should use web scraping in their research? Why or why not?\n",
    "* How would you feel if you found out that one of your social media posts had been included in an academic article without your knowledge?\n",
    "* What are some strategies that you think scholars might use to do web scraping in an ethical way?"
   ]
  }
 ],
 "metadata": {
  "kernelspec": {
   "display_name": "Python 3 (ipykernel)",
   "language": "python",
   "name": "python3"
  },
  "language_info": {
   "codemirror_mode": {
    "name": "ipython",
    "version": 3
   },
   "file_extension": ".py",
   "mimetype": "text/x-python",
   "name": "python",
   "nbconvert_exporter": "python",
   "pygments_lexer": "ipython3",
   "version": "3.8.2"
  },
  "toc": {
   "base_numbering": 1,
   "nav_menu": {},
   "number_sections": true,
   "sideBar": true,
   "skip_h1_title": false,
   "title_cell": "Table of Contents",
   "title_sidebar": "Contents",
   "toc_cell": false,
   "toc_position": {},
   "toc_section_display": true,
   "toc_window_display": false
  },
  "varInspector": {
   "cols": {
    "lenName": 16,
    "lenType": 16,
    "lenVar": 40
   },
   "kernels_config": {
    "python": {
     "delete_cmd_postfix": "",
     "delete_cmd_prefix": "del ",
     "library": "var_list.py",
     "varRefreshCmd": "print(var_dic_list())"
    },
    "r": {
     "delete_cmd_postfix": ") ",
     "delete_cmd_prefix": "rm(",
     "library": "var_list.r",
     "varRefreshCmd": "cat(var_dic_list()) "
    }
   },
   "types_to_exclude": [
    "module",
    "function",
    "builtin_function_or_method",
    "instance",
    "_Feature"
   ],
   "window_display": false
  }
 },
 "nbformat": 4,
 "nbformat_minor": 4
}
