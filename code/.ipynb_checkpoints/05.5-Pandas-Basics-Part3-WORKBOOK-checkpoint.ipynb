{
 "cells": [
  {
   "cell_type": "markdown",
   "metadata": {},
   "source": [
    "# Pandas Basics Part 3 — Workbook"
   ]
  },
  {
   "cell_type": "markdown",
   "metadata": {},
   "source": [
    "___"
   ]
  },
  {
   "cell_type": "markdown",
   "metadata": {},
   "source": [
    "## Dataset\n",
    "### *The Pudding*'s Film Dialogue Data"
   ]
  },
  {
   "cell_type": "markdown",
   "metadata": {},
   "source": [
    "The dataset that we're working with in this lesson is taken from Hannah Andersen and Matt Daniels's *Pudding* essay, [\"Film Dialogue from 2,000 screenplays, Broken Down by Gender and Age\"](https://pudding.cool/2017/03/film-dialogue/). The dataset provides information about 2,000 films from 1925 to 2015, including characters’ names, genders, ages, how many words each character spoke in each film, the release year of each film, and how much money the film grossed. They included character gender information because they wanted to contribute data to a broader conversation about how \"white men dominate movie roles.\""
   ]
  },
  {
   "cell_type": "markdown",
   "metadata": {},
   "source": [
    "___"
   ]
  },
  {
   "cell_type": "markdown",
   "metadata": {},
   "source": [
    "## Import Pandas"
   ]
  },
  {
   "cell_type": "markdown",
   "metadata": {},
   "source": [
    "To use the Pandas library, we first need to `import` it."
   ]
  },
  {
   "cell_type": "code",
   "execution_count": 1,
   "metadata": {
    "ExecuteTime": {
     "end_time": "2022-11-07T10:52:52.494489Z",
     "start_time": "2022-11-07T10:52:52.180698Z"
    }
   },
   "outputs": [],
   "source": [
    "import pandas as pd"
   ]
  },
  {
   "cell_type": "markdown",
   "metadata": {},
   "source": [
    "## Change Display Settings"
   ]
  },
  {
   "cell_type": "markdown",
   "metadata": {},
   "source": [
    "By default, Pandas will display 60 rows and 20 columns. I often change [Pandas' default display settings](https://pandas.pydata.org/pandas-docs/stable/user_guide/options.html) to show more rows or columns."
   ]
  },
  {
   "cell_type": "code",
   "execution_count": 2,
   "metadata": {
    "ExecuteTime": {
     "end_time": "2022-11-07T10:52:52.707435Z",
     "start_time": "2022-11-07T10:52:52.702419Z"
    }
   },
   "outputs": [],
   "source": [
    "pd.options.display.max_rows = 200"
   ]
  },
  {
   "cell_type": "markdown",
   "metadata": {},
   "source": [
    "## Get Data"
   ]
  },
  {
   "cell_type": "code",
   "execution_count": 3,
   "metadata": {
    "ExecuteTime": {
     "end_time": "2022-11-07T10:52:52.990473Z",
     "start_time": "2022-11-07T10:52:52.936445Z"
    }
   },
   "outputs": [],
   "source": [
    "film_df = pd.read_csv('../data/Pudding/Pudding-Film-Dialogue-Clean.csv', delimiter=\",\", encoding='utf-8')"
   ]
  },
  {
   "cell_type": "markdown",
   "metadata": {},
   "source": [
    "This creates a Pandas [DataFrame object](https://pandas.pydata.org/pandas-docs/stable/user_guide/dsintro.html#DataFrame) — often abbreviated as *df*, e.g., *slave_voyages_df*. A DataFrame looks and acts a lot like a spreadsheet. But it has special powers and functions that we will discuss in the next few lessons."
   ]
  },
  {
   "cell_type": "markdown",
   "metadata": {},
   "source": [
    "## Overview\n",
    "\n",
    "To look at a random *n* number of rows in a DataFrame, we can use a method called `.sample()`."
   ]
  },
  {
   "cell_type": "code",
   "execution_count": 4,
   "metadata": {
    "ExecuteTime": {
     "end_time": "2022-11-07T10:52:53.566447Z",
     "start_time": "2022-11-07T10:52:53.533357Z"
    }
   },
   "outputs": [
    {
     "data": {
      "text/html": [
       "<div>\n",
       "<style scoped>\n",
       "    .dataframe tbody tr th:only-of-type {\n",
       "        vertical-align: middle;\n",
       "    }\n",
       "\n",
       "    .dataframe tbody tr th {\n",
       "        vertical-align: top;\n",
       "    }\n",
       "\n",
       "    .dataframe thead th {\n",
       "        text-align: right;\n",
       "    }\n",
       "</style>\n",
       "<table border=\"1\" class=\"dataframe\">\n",
       "  <thead>\n",
       "    <tr style=\"text-align: right;\">\n",
       "      <th></th>\n",
       "      <th>title</th>\n",
       "      <th>release_year</th>\n",
       "      <th>character</th>\n",
       "      <th>gender</th>\n",
       "      <th>words</th>\n",
       "      <th>proportion_of_dialogue</th>\n",
       "      <th>age</th>\n",
       "      <th>gross</th>\n",
       "      <th>script_id</th>\n",
       "    </tr>\n",
       "  </thead>\n",
       "  <tbody>\n",
       "    <tr>\n",
       "      <th>3254</th>\n",
       "      <td>3 Men and a Baby</td>\n",
       "      <td>1987</td>\n",
       "      <td>Mrs. Bretsaws</td>\n",
       "      <td>man</td>\n",
       "      <td>304</td>\n",
       "      <td>0.023388</td>\n",
       "      <td>NaN</td>\n",
       "      <td>373.0</td>\n",
       "      <td>1408</td>\n",
       "    </tr>\n",
       "    <tr>\n",
       "      <th>8310</th>\n",
       "      <td>Life</td>\n",
       "      <td>1999</td>\n",
       "      <td>Hoppin' Bob</td>\n",
       "      <td>man</td>\n",
       "      <td>478</td>\n",
       "      <td>0.016887</td>\n",
       "      <td>NaN</td>\n",
       "      <td>109.0</td>\n",
       "      <td>2762</td>\n",
       "    </tr>\n",
       "    <tr>\n",
       "      <th>12503</th>\n",
       "      <td>Dave</td>\n",
       "      <td>1993</td>\n",
       "      <td>Ellen Mitchell</td>\n",
       "      <td>woman</td>\n",
       "      <td>1068</td>\n",
       "      <td>0.127128</td>\n",
       "      <td>44.0</td>\n",
       "      <td>133.0</td>\n",
       "      <td>4078</td>\n",
       "    </tr>\n",
       "    <tr>\n",
       "      <th>10448</th>\n",
       "      <td>Sleepy Hollow</td>\n",
       "      <td>1999</td>\n",
       "      <td>Lady Van Tassel</td>\n",
       "      <td>woman</td>\n",
       "      <td>982</td>\n",
       "      <td>0.072849</td>\n",
       "      <td>41.0</td>\n",
       "      <td>172.0</td>\n",
       "      <td>3358</td>\n",
       "    </tr>\n",
       "    <tr>\n",
       "      <th>13051</th>\n",
       "      <td>Halloween 4: The Return of Michael Myers</td>\n",
       "      <td>1988</td>\n",
       "      <td>Darlene Carruth</td>\n",
       "      <td>woman</td>\n",
       "      <td>146</td>\n",
       "      <td>0.040477</td>\n",
       "      <td>NaN</td>\n",
       "      <td>37.0</td>\n",
       "      <td>4315</td>\n",
       "    </tr>\n",
       "    <tr>\n",
       "      <th>6467</th>\n",
       "      <td>Fargo</td>\n",
       "      <td>1996</td>\n",
       "      <td>Gaear Grimsrud</td>\n",
       "      <td>man</td>\n",
       "      <td>194</td>\n",
       "      <td>0.011844</td>\n",
       "      <td>43.0</td>\n",
       "      <td>48.0</td>\n",
       "      <td>2267</td>\n",
       "    </tr>\n",
       "    <tr>\n",
       "      <th>9306</th>\n",
       "      <td>Ninja Assassin</td>\n",
       "      <td>2009</td>\n",
       "      <td>Young Kiriko</td>\n",
       "      <td>woman</td>\n",
       "      <td>224</td>\n",
       "      <td>0.030803</td>\n",
       "      <td>NaN</td>\n",
       "      <td>44.0</td>\n",
       "      <td>3014</td>\n",
       "    </tr>\n",
       "    <tr>\n",
       "      <th>2499</th>\n",
       "      <td>The Prophecy</td>\n",
       "      <td>1995</td>\n",
       "      <td>Burrows</td>\n",
       "      <td>man</td>\n",
       "      <td>266</td>\n",
       "      <td>0.031301</td>\n",
       "      <td>55.0</td>\n",
       "      <td>32.0</td>\n",
       "      <td>1252</td>\n",
       "    </tr>\n",
       "    <tr>\n",
       "      <th>11132</th>\n",
       "      <td>Tombstone</td>\n",
       "      <td>1993</td>\n",
       "      <td>Johnny Ringo</td>\n",
       "      <td>man</td>\n",
       "      <td>377</td>\n",
       "      <td>0.054291</td>\n",
       "      <td>37.0</td>\n",
       "      <td>118.0</td>\n",
       "      <td>3572</td>\n",
       "    </tr>\n",
       "    <tr>\n",
       "      <th>8681</th>\n",
       "      <td>Major League</td>\n",
       "      <td>1989</td>\n",
       "      <td>Hal Charles</td>\n",
       "      <td>man</td>\n",
       "      <td>108</td>\n",
       "      <td>0.004314</td>\n",
       "      <td>NaN</td>\n",
       "      <td>109.0</td>\n",
       "      <td>2824</td>\n",
       "    </tr>\n",
       "  </tbody>\n",
       "</table>\n",
       "</div>"
      ],
      "text/plain": [
       "                                          title  release_year  \\\n",
       "3254                           3 Men and a Baby          1987   \n",
       "8310                                       Life          1999   \n",
       "12503                                      Dave          1993   \n",
       "10448                             Sleepy Hollow          1999   \n",
       "13051  Halloween 4: The Return of Michael Myers          1988   \n",
       "6467                                      Fargo          1996   \n",
       "9306                             Ninja Assassin          2009   \n",
       "2499                               The Prophecy          1995   \n",
       "11132                                 Tombstone          1993   \n",
       "8681                               Major League          1989   \n",
       "\n",
       "             character gender  words  proportion_of_dialogue   age  gross  \\\n",
       "3254     Mrs. Bretsaws    man    304                0.023388   NaN  373.0   \n",
       "8310       Hoppin' Bob    man    478                0.016887   NaN  109.0   \n",
       "12503   Ellen Mitchell  woman   1068                0.127128  44.0  133.0   \n",
       "10448  Lady Van Tassel  woman    982                0.072849  41.0  172.0   \n",
       "13051  Darlene Carruth  woman    146                0.040477   NaN   37.0   \n",
       "6467    Gaear Grimsrud    man    194                0.011844  43.0   48.0   \n",
       "9306      Young Kiriko  woman    224                0.030803   NaN   44.0   \n",
       "2499           Burrows    man    266                0.031301  55.0   32.0   \n",
       "11132     Johnny Ringo    man    377                0.054291  37.0  118.0   \n",
       "8681       Hal Charles    man    108                0.004314   NaN  109.0   \n",
       "\n",
       "       script_id  \n",
       "3254        1408  \n",
       "8310        2762  \n",
       "12503       4078  \n",
       "10448       3358  \n",
       "13051       4315  \n",
       "6467        2267  \n",
       "9306        3014  \n",
       "2499        1252  \n",
       "11132       3572  \n",
       "8681        2824  "
      ]
     },
     "execution_count": 4,
     "metadata": {},
     "output_type": "execute_result"
    }
   ],
   "source": [
    "film_df.sample(10)"
   ]
  },
  {
   "cell_type": "markdown",
   "metadata": {},
   "source": [
    "Generate information about all the columns in the data "
   ]
  },
  {
   "cell_type": "code",
   "execution_count": 5,
   "metadata": {
    "ExecuteTime": {
     "end_time": "2022-11-07T10:52:53.842972Z",
     "start_time": "2022-11-07T10:52:53.810616Z"
    }
   },
   "outputs": [
    {
     "name": "stdout",
     "output_type": "stream",
     "text": [
      "<class 'pandas.core.frame.DataFrame'>\n",
      "RangeIndex: 23047 entries, 0 to 23046\n",
      "Data columns (total 9 columns):\n",
      " #   Column                  Non-Null Count  Dtype  \n",
      "---  ------                  --------------  -----  \n",
      " 0   title                   23047 non-null  object \n",
      " 1   release_year            23047 non-null  int64  \n",
      " 2   character               23047 non-null  object \n",
      " 3   gender                  23047 non-null  object \n",
      " 4   words                   23047 non-null  int64  \n",
      " 5   proportion_of_dialogue  23047 non-null  float64\n",
      " 6   age                     18262 non-null  float64\n",
      " 7   gross                   19386 non-null  float64\n",
      " 8   script_id               23047 non-null  int64  \n",
      "dtypes: float64(3), int64(3), object(3)\n",
      "memory usage: 1.6+ MB\n"
     ]
    }
   ],
   "source": [
    "film_df.info()"
   ]
  },
  {
   "cell_type": "markdown",
   "metadata": {},
   "source": [
    "Just like Python has different data types, Pandas has different data types, too. These data types are automatically assigned to columns when we read in a CSV file. We can check these Pandas data types with the [`.dtypes` method](https://pandas.pydata.org/pandas-docs/stable/reference/api/pandas.DataFrame.dtypes.html)."
   ]
  },
  {
   "cell_type": "markdown",
   "metadata": {},
   "source": [
    "\n",
    "\n",
    "| **Pandas Data Type** |  **Explanation**                                                                                   |\n",
    "|:-------------:|:---------------------------------------------------------------------------------------------------:|\n",
    "| `object`         | string                                                                               |\n",
    "| `float64`         | float                                               |\n",
    "| `int64`       | integer                                                        |\n",
    "| `datetime64`       |  date time              "
   ]
  },
  {
   "cell_type": "markdown",
   "metadata": {},
   "source": [
    "Make a histogram of the DataFrame"
   ]
  },
  {
   "cell_type": "code",
   "execution_count": 6,
   "metadata": {
    "ExecuteTime": {
     "end_time": "2022-11-07T10:52:56.077917Z",
     "start_time": "2022-11-07T10:52:54.793047Z"
    }
   },
   "outputs": [
    {
     "data": {
      "text/plain": [
       "array([[<AxesSubplot:title={'center':'release_year'}>,\n",
       "        <AxesSubplot:title={'center':'words'}>],\n",
       "       [<AxesSubplot:title={'center':'proportion_of_dialogue'}>,\n",
       "        <AxesSubplot:title={'center':'age'}>],\n",
       "       [<AxesSubplot:title={'center':'gross'}>,\n",
       "        <AxesSubplot:title={'center':'script_id'}>]], dtype=object)"
      ]
     },
     "execution_count": 6,
     "metadata": {},
     "output_type": "execute_result"
    },
    {
     "data": {
      "image/png": "[encoded data removed]",
      "text/plain": [
       "<Figure size 720x720 with 6 Axes>"
      ]
     },
     "metadata": {
      "needs_background": "light"
     },
     "output_type": "display_data"
    }
   ],
   "source": [
    "film_df.hist(figsize=(10,10))"
   ]
  },
  {
   "cell_type": "markdown",
   "metadata": {},
   "source": [
    "Generate descriptive statistics for all the columns in the data "
   ]
  },
  {
   "cell_type": "code",
   "execution_count": 7,
   "metadata": {
    "ExecuteTime": {
     "end_time": "2022-11-07T10:52:56.133410Z",
     "start_time": "2022-11-07T10:52:56.091841Z"
    }
   },
   "outputs": [
    {
     "data": {
      "text/html": [
       "<div>\n",
       "<style scoped>\n",
       "    .dataframe tbody tr th:only-of-type {\n",
       "        vertical-align: middle;\n",
       "    }\n",
       "\n",
       "    .dataframe tbody tr th {\n",
       "        vertical-align: top;\n",
       "    }\n",
       "\n",
       "    .dataframe thead th {\n",
       "        text-align: right;\n",
       "    }\n",
       "</style>\n",
       "<table border=\"1\" class=\"dataframe\">\n",
       "  <thead>\n",
       "    <tr style=\"text-align: right;\">\n",
       "      <th></th>\n",
       "      <th>title</th>\n",
       "      <th>release_year</th>\n",
       "      <th>character</th>\n",
       "      <th>gender</th>\n",
       "      <th>words</th>\n",
       "      <th>proportion_of_dialogue</th>\n",
       "      <th>age</th>\n",
       "      <th>gross</th>\n",
       "      <th>script_id</th>\n",
       "    </tr>\n",
       "  </thead>\n",
       "  <tbody>\n",
       "    <tr>\n",
       "      <th>count</th>\n",
       "      <td>23047</td>\n",
       "      <td>23047.000000</td>\n",
       "      <td>23047</td>\n",
       "      <td>23047</td>\n",
       "      <td>23047.000000</td>\n",
       "      <td>23047.000000</td>\n",
       "      <td>18262.000000</td>\n",
       "      <td>19386.000000</td>\n",
       "      <td>23047.000000</td>\n",
       "    </tr>\n",
       "    <tr>\n",
       "      <th>unique</th>\n",
       "      <td>1994</td>\n",
       "      <td>NaN</td>\n",
       "      <td>17543</td>\n",
       "      <td>3</td>\n",
       "      <td>NaN</td>\n",
       "      <td>NaN</td>\n",
       "      <td>NaN</td>\n",
       "      <td>NaN</td>\n",
       "      <td>NaN</td>\n",
       "    </tr>\n",
       "    <tr>\n",
       "      <th>top</th>\n",
       "      <td>Lone Star</td>\n",
       "      <td>NaN</td>\n",
       "      <td>Doctor</td>\n",
       "      <td>man</td>\n",
       "      <td>NaN</td>\n",
       "      <td>NaN</td>\n",
       "      <td>NaN</td>\n",
       "      <td>NaN</td>\n",
       "      <td>NaN</td>\n",
       "    </tr>\n",
       "    <tr>\n",
       "      <th>freq</th>\n",
       "      <td>40</td>\n",
       "      <td>NaN</td>\n",
       "      <td>37</td>\n",
       "      <td>16131</td>\n",
       "      <td>NaN</td>\n",
       "      <td>NaN</td>\n",
       "      <td>NaN</td>\n",
       "      <td>NaN</td>\n",
       "      <td>NaN</td>\n",
       "    </tr>\n",
       "    <tr>\n",
       "      <th>mean</th>\n",
       "      <td>NaN</td>\n",
       "      <td>1998.132425</td>\n",
       "      <td>NaN</td>\n",
       "      <td>NaN</td>\n",
       "      <td>907.902634</td>\n",
       "      <td>0.086518</td>\n",
       "      <td>42.275052</td>\n",
       "      <td>106.735428</td>\n",
       "      <td>4194.804486</td>\n",
       "    </tr>\n",
       "    <tr>\n",
       "      <th>std</th>\n",
       "      <td>NaN</td>\n",
       "      <td>14.746052</td>\n",
       "      <td>NaN</td>\n",
       "      <td>NaN</td>\n",
       "      <td>1399.616135</td>\n",
       "      <td>0.107746</td>\n",
       "      <td>57.912595</td>\n",
       "      <td>145.861933</td>\n",
       "      <td>2473.037601</td>\n",
       "    </tr>\n",
       "    <tr>\n",
       "      <th>min</th>\n",
       "      <td>NaN</td>\n",
       "      <td>1929.000000</td>\n",
       "      <td>NaN</td>\n",
       "      <td>NaN</td>\n",
       "      <td>101.000000</td>\n",
       "      <td>0.001537</td>\n",
       "      <td>3.000000</td>\n",
       "      <td>0.000000</td>\n",
       "      <td>280.000000</td>\n",
       "    </tr>\n",
       "    <tr>\n",
       "      <th>25%</th>\n",
       "      <td>NaN</td>\n",
       "      <td>1992.000000</td>\n",
       "      <td>NaN</td>\n",
       "      <td>NaN</td>\n",
       "      <td>193.000000</td>\n",
       "      <td>0.019773</td>\n",
       "      <td>30.000000</td>\n",
       "      <td>22.000000</td>\n",
       "      <td>2095.000000</td>\n",
       "    </tr>\n",
       "    <tr>\n",
       "      <th>50%</th>\n",
       "      <td>NaN</td>\n",
       "      <td>2001.000000</td>\n",
       "      <td>NaN</td>\n",
       "      <td>NaN</td>\n",
       "      <td>396.000000</td>\n",
       "      <td>0.042423</td>\n",
       "      <td>39.000000</td>\n",
       "      <td>56.000000</td>\n",
       "      <td>3694.000000</td>\n",
       "    </tr>\n",
       "    <tr>\n",
       "      <th>75%</th>\n",
       "      <td>NaN</td>\n",
       "      <td>2009.000000</td>\n",
       "      <td>NaN</td>\n",
       "      <td>NaN</td>\n",
       "      <td>980.000000</td>\n",
       "      <td>0.104171</td>\n",
       "      <td>50.000000</td>\n",
       "      <td>136.000000</td>\n",
       "      <td>6224.500000</td>\n",
       "    </tr>\n",
       "    <tr>\n",
       "      <th>max</th>\n",
       "      <td>NaN</td>\n",
       "      <td>2015.000000</td>\n",
       "      <td>NaN</td>\n",
       "      <td>NaN</td>\n",
       "      <td>28102.000000</td>\n",
       "      <td>0.923422</td>\n",
       "      <td>2009.000000</td>\n",
       "      <td>1798.000000</td>\n",
       "      <td>9254.000000</td>\n",
       "    </tr>\n",
       "  </tbody>\n",
       "</table>\n",
       "</div>"
      ],
      "text/plain": [
       "            title  release_year character gender         words  \\\n",
       "count       23047  23047.000000     23047  23047  23047.000000   \n",
       "unique       1994           NaN     17543      3           NaN   \n",
       "top     Lone Star           NaN    Doctor    man           NaN   \n",
       "freq           40           NaN        37  16131           NaN   \n",
       "mean          NaN   1998.132425       NaN    NaN    907.902634   \n",
       "std           NaN     14.746052       NaN    NaN   1399.616135   \n",
       "min           NaN   1929.000000       NaN    NaN    101.000000   \n",
       "25%           NaN   1992.000000       NaN    NaN    193.000000   \n",
       "50%           NaN   2001.000000       NaN    NaN    396.000000   \n",
       "75%           NaN   2009.000000       NaN    NaN    980.000000   \n",
       "max           NaN   2015.000000       NaN    NaN  28102.000000   \n",
       "\n",
       "        proportion_of_dialogue           age         gross     script_id  \n",
       "count             23047.000000  18262.000000  19386.000000  23047.000000  \n",
       "unique                     NaN           NaN           NaN           NaN  \n",
       "top                        NaN           NaN           NaN           NaN  \n",
       "freq                       NaN           NaN           NaN           NaN  \n",
       "mean                  0.086518     42.275052    106.735428   4194.804486  \n",
       "std                   0.107746     57.912595    145.861933   2473.037601  \n",
       "min                   0.001537      3.000000      0.000000    280.000000  \n",
       "25%                   0.019773     30.000000     22.000000   2095.000000  \n",
       "50%                   0.042423     39.000000     56.000000   3694.000000  \n",
       "75%                   0.104171     50.000000    136.000000   6224.500000  \n",
       "max                   0.923422   2009.000000   1798.000000   9254.000000  "
      ]
     },
     "execution_count": 7,
     "metadata": {},
     "output_type": "execute_result"
    }
   ],
   "source": [
    "film_df.describe(include='all')"
   ]
  },
  {
   "cell_type": "markdown",
   "metadata": {},
   "source": [
    "### ❓ What patterns or outliers do you notice?"
   ]
  },
  {
   "cell_type": "markdown",
   "metadata": {},
   "source": [
    "## Drop Rows"
   ]
  },
  {
   "cell_type": "code",
   "execution_count": 8,
   "metadata": {
    "ExecuteTime": {
     "end_time": "2022-11-07T10:52:56.160511Z",
     "start_time": "2022-11-07T10:52:56.147248Z"
    }
   },
   "outputs": [
    {
     "data": {
      "text/html": [
       "<div>\n",
       "<style scoped>\n",
       "    .dataframe tbody tr th:only-of-type {\n",
       "        vertical-align: middle;\n",
       "    }\n",
       "\n",
       "    .dataframe tbody tr th {\n",
       "        vertical-align: top;\n",
       "    }\n",
       "\n",
       "    .dataframe thead th {\n",
       "        text-align: right;\n",
       "    }\n",
       "</style>\n",
       "<table border=\"1\" class=\"dataframe\">\n",
       "  <thead>\n",
       "    <tr style=\"text-align: right;\">\n",
       "      <th></th>\n",
       "      <th>title</th>\n",
       "      <th>release_year</th>\n",
       "      <th>character</th>\n",
       "      <th>gender</th>\n",
       "      <th>words</th>\n",
       "      <th>proportion_of_dialogue</th>\n",
       "      <th>age</th>\n",
       "      <th>gross</th>\n",
       "      <th>script_id</th>\n",
       "    </tr>\n",
       "  </thead>\n",
       "  <tbody>\n",
       "    <tr>\n",
       "      <th>4024</th>\n",
       "      <td>American Psycho</td>\n",
       "      <td>2000</td>\n",
       "      <td>Harold Carnes</td>\n",
       "      <td>man</td>\n",
       "      <td>434</td>\n",
       "      <td>0.025271</td>\n",
       "      <td>2000.0</td>\n",
       "      <td>24.0</td>\n",
       "      <td>1639</td>\n",
       "    </tr>\n",
       "    <tr>\n",
       "      <th>5254</th>\n",
       "      <td>Case 39</td>\n",
       "      <td>2009</td>\n",
       "      <td>Margaret Sulliv</td>\n",
       "      <td>woman</td>\n",
       "      <td>310</td>\n",
       "      <td>0.037944</td>\n",
       "      <td>2009.0</td>\n",
       "      <td>15.0</td>\n",
       "      <td>1962</td>\n",
       "    </tr>\n",
       "    <tr>\n",
       "      <th>5370</th>\n",
       "      <td>Chaos</td>\n",
       "      <td>2005</td>\n",
       "      <td>Bernie Callo</td>\n",
       "      <td>man</td>\n",
       "      <td>244</td>\n",
       "      <td>0.015051</td>\n",
       "      <td>2005.0</td>\n",
       "      <td>NaN</td>\n",
       "      <td>1985</td>\n",
       "    </tr>\n",
       "    <tr>\n",
       "      <th>5950</th>\n",
       "      <td>The Departed</td>\n",
       "      <td>2006</td>\n",
       "      <td>Realtor</td>\n",
       "      <td>man</td>\n",
       "      <td>148</td>\n",
       "      <td>0.005575</td>\n",
       "      <td>2006.0</td>\n",
       "      <td>175.0</td>\n",
       "      <td>2144</td>\n",
       "    </tr>\n",
       "    <tr>\n",
       "      <th>6899</th>\n",
       "      <td>Get Carter</td>\n",
       "      <td>2000</td>\n",
       "      <td>Thorpey</td>\n",
       "      <td>man</td>\n",
       "      <td>133</td>\n",
       "      <td>0.026552</td>\n",
       "      <td>2000.0</td>\n",
       "      <td>24.0</td>\n",
       "      <td>2380</td>\n",
       "    </tr>\n",
       "    <tr>\n",
       "      <th>7787</th>\n",
       "      <td>Into the Wild</td>\n",
       "      <td>2007</td>\n",
       "      <td>Bull</td>\n",
       "      <td>man</td>\n",
       "      <td>188</td>\n",
       "      <td>0.009936</td>\n",
       "      <td>2007.0</td>\n",
       "      <td>23.0</td>\n",
       "      <td>2625</td>\n",
       "    </tr>\n",
       "    <tr>\n",
       "      <th>7968</th>\n",
       "      <td>Jay and Silent Bob Strike Back</td>\n",
       "      <td>2001</td>\n",
       "      <td>Silent Bob'S Mo</td>\n",
       "      <td>woman</td>\n",
       "      <td>224</td>\n",
       "      <td>0.009292</td>\n",
       "      <td>2001.0</td>\n",
       "      <td>46.0</td>\n",
       "      <td>2673</td>\n",
       "    </tr>\n",
       "    <tr>\n",
       "      <th>9233</th>\n",
       "      <td>Never Been Kissed</td>\n",
       "      <td>1999</td>\n",
       "      <td>Monty Malik</td>\n",
       "      <td>man</td>\n",
       "      <td>104</td>\n",
       "      <td>0.005219</td>\n",
       "      <td>1999.0</td>\n",
       "      <td>95.0</td>\n",
       "      <td>2986</td>\n",
       "    </tr>\n",
       "    <tr>\n",
       "      <th>9617</th>\n",
       "      <td>The Piano</td>\n",
       "      <td>1993</td>\n",
       "      <td>Nessie</td>\n",
       "      <td>woman</td>\n",
       "      <td>116</td>\n",
       "      <td>0.012262</td>\n",
       "      <td>1993.0</td>\n",
       "      <td>84.0</td>\n",
       "      <td>3095</td>\n",
       "    </tr>\n",
       "    <tr>\n",
       "      <th>9819</th>\n",
       "      <td>Raging Bull</td>\n",
       "      <td>1980</td>\n",
       "      <td>Reporter</td>\n",
       "      <td>man</td>\n",
       "      <td>300</td>\n",
       "      <td>0.013364</td>\n",
       "      <td>1980.0</td>\n",
       "      <td>NaN</td>\n",
       "      <td>3169</td>\n",
       "    </tr>\n",
       "    <tr>\n",
       "      <th>10151</th>\n",
       "      <td>Se7en</td>\n",
       "      <td>1995</td>\n",
       "      <td>Officer Davis</td>\n",
       "      <td>man</td>\n",
       "      <td>152</td>\n",
       "      <td>0.007366</td>\n",
       "      <td>1995.0</td>\n",
       "      <td>200.0</td>\n",
       "      <td>3288</td>\n",
       "    </tr>\n",
       "    <tr>\n",
       "      <th>13600</th>\n",
       "      <td>Knight Moves</td>\n",
       "      <td>1992</td>\n",
       "      <td>Newscaster</td>\n",
       "      <td>man</td>\n",
       "      <td>120</td>\n",
       "      <td>0.012451</td>\n",
       "      <td>1992.0</td>\n",
       "      <td>1.0</td>\n",
       "      <td>4487</td>\n",
       "    </tr>\n",
       "    <tr>\n",
       "      <th>14384</th>\n",
       "      <td>Only You</td>\n",
       "      <td>1994</td>\n",
       "      <td>Himself       (</td>\n",
       "      <td>man</td>\n",
       "      <td>276</td>\n",
       "      <td>0.023730</td>\n",
       "      <td>102.0</td>\n",
       "      <td>41.0</td>\n",
       "      <td>4758</td>\n",
       "    </tr>\n",
       "    <tr>\n",
       "      <th>14757</th>\n",
       "      <td>Scream</td>\n",
       "      <td>1996</td>\n",
       "      <td>Girl In Bathroo</td>\n",
       "      <td>woman</td>\n",
       "      <td>162</td>\n",
       "      <td>0.018510</td>\n",
       "      <td>1996.0</td>\n",
       "      <td>202.0</td>\n",
       "      <td>4920</td>\n",
       "    </tr>\n",
       "    <tr>\n",
       "      <th>19221</th>\n",
       "      <td>Borderland</td>\n",
       "      <td>2007</td>\n",
       "      <td>Captain Ramirez</td>\n",
       "      <td>man</td>\n",
       "      <td>121</td>\n",
       "      <td>0.017430</td>\n",
       "      <td>2007.0</td>\n",
       "      <td>NaN</td>\n",
       "      <td>7351</td>\n",
       "    </tr>\n",
       "    <tr>\n",
       "      <th>21634</th>\n",
       "      <td>Last Man Standing</td>\n",
       "      <td>1996</td>\n",
       "      <td>Jack Mccool</td>\n",
       "      <td>man</td>\n",
       "      <td>338</td>\n",
       "      <td>0.044491</td>\n",
       "      <td>1996.0</td>\n",
       "      <td>35.0</td>\n",
       "      <td>8412</td>\n",
       "    </tr>\n",
       "  </tbody>\n",
       "</table>\n",
       "</div>"
      ],
      "text/plain": [
       "                                title  release_year        character gender  \\\n",
       "4024                  American Psycho          2000    Harold Carnes    man   \n",
       "5254                          Case 39          2009  Margaret Sulliv  woman   \n",
       "5370                            Chaos          2005     Bernie Callo    man   \n",
       "5950                     The Departed          2006          Realtor    man   \n",
       "6899                       Get Carter          2000          Thorpey    man   \n",
       "7787                    Into the Wild          2007             Bull    man   \n",
       "7968   Jay and Silent Bob Strike Back          2001  Silent Bob'S Mo  woman   \n",
       "9233                Never Been Kissed          1999      Monty Malik    man   \n",
       "9617                        The Piano          1993           Nessie  woman   \n",
       "9819                      Raging Bull          1980         Reporter    man   \n",
       "10151                           Se7en          1995    Officer Davis    man   \n",
       "13600                    Knight Moves          1992       Newscaster    man   \n",
       "14384                        Only You          1994  Himself       (    man   \n",
       "14757                          Scream          1996  Girl In Bathroo  woman   \n",
       "19221                      Borderland          2007  Captain Ramirez    man   \n",
       "21634               Last Man Standing          1996      Jack Mccool    man   \n",
       "\n",
       "       words  proportion_of_dialogue     age  gross  script_id  \n",
       "4024     434                0.025271  2000.0   24.0       1639  \n",
       "5254     310                0.037944  2009.0   15.0       1962  \n",
       "5370     244                0.015051  2005.0    NaN       1985  \n",
       "5950     148                0.005575  2006.0  175.0       2144  \n",
       "6899     133                0.026552  2000.0   24.0       2380  \n",
       "7787     188                0.009936  2007.0   23.0       2625  \n",
       "7968     224                0.009292  2001.0   46.0       2673  \n",
       "9233     104                0.005219  1999.0   95.0       2986  \n",
       "9617     116                0.012262  1993.0   84.0       3095  \n",
       "9819     300                0.013364  1980.0    NaN       3169  \n",
       "10151    152                0.007366  1995.0  200.0       3288  \n",
       "13600    120                0.012451  1992.0    1.0       4487  \n",
       "14384    276                0.023730   102.0   41.0       4758  \n",
       "14757    162                0.018510  1996.0  202.0       4920  \n",
       "19221    121                0.017430  2007.0    NaN       7351  \n",
       "21634    338                0.044491  1996.0   35.0       8412  "
      ]
     },
     "execution_count": 8,
     "metadata": {},
     "output_type": "execute_result"
    }
   ],
   "source": [
    "film_df[film_df['age'] > 100]"
   ]
  },
  {
   "cell_type": "markdown",
   "metadata": {},
   "source": [
    "If you want to double check, you can examine the [data that the Pudding shared here](https://github.com/matthewfdaniels/scripts/blob/graphs/character_list5.csv) (you can control + F to search for specific characters)."
   ]
  },
  {
   "cell_type": "code",
   "execution_count": 9,
   "metadata": {
    "ExecuteTime": {
     "end_time": "2022-11-07T10:52:56.179848Z",
     "start_time": "2022-11-07T10:52:56.173112Z"
    }
   },
   "outputs": [],
   "source": [
    "film_df = film_df.drop(film_df[film_df['age'] > 100].index) "
   ]
  },
  {
   "cell_type": "code",
   "execution_count": 10,
   "metadata": {
    "ExecuteTime": {
     "end_time": "2022-11-07T10:52:56.206050Z",
     "start_time": "2022-11-07T10:52:56.193227Z"
    }
   },
   "outputs": [
    {
     "data": {
      "text/html": [
       "<div>\n",
       "<style scoped>\n",
       "    .dataframe tbody tr th:only-of-type {\n",
       "        vertical-align: middle;\n",
       "    }\n",
       "\n",
       "    .dataframe tbody tr th {\n",
       "        vertical-align: top;\n",
       "    }\n",
       "\n",
       "    .dataframe thead th {\n",
       "        text-align: right;\n",
       "    }\n",
       "</style>\n",
       "<table border=\"1\" class=\"dataframe\">\n",
       "  <thead>\n",
       "    <tr style=\"text-align: right;\">\n",
       "      <th></th>\n",
       "      <th>title</th>\n",
       "      <th>release_year</th>\n",
       "      <th>character</th>\n",
       "      <th>gender</th>\n",
       "      <th>words</th>\n",
       "      <th>proportion_of_dialogue</th>\n",
       "      <th>age</th>\n",
       "      <th>gross</th>\n",
       "      <th>script_id</th>\n",
       "    </tr>\n",
       "  </thead>\n",
       "  <tbody>\n",
       "    <tr>\n",
       "      <th>0</th>\n",
       "      <td>The Bridges of Madison County</td>\n",
       "      <td>1995</td>\n",
       "      <td>Betty</td>\n",
       "      <td>woman</td>\n",
       "      <td>311</td>\n",
       "      <td>0.048639</td>\n",
       "      <td>35.0</td>\n",
       "      <td>142.0</td>\n",
       "      <td>280</td>\n",
       "    </tr>\n",
       "    <tr>\n",
       "      <th>1</th>\n",
       "      <td>The Bridges of Madison County</td>\n",
       "      <td>1995</td>\n",
       "      <td>Carolyn Johnson</td>\n",
       "      <td>woman</td>\n",
       "      <td>873</td>\n",
       "      <td>0.136534</td>\n",
       "      <td>NaN</td>\n",
       "      <td>142.0</td>\n",
       "      <td>280</td>\n",
       "    </tr>\n",
       "    <tr>\n",
       "      <th>2</th>\n",
       "      <td>The Bridges of Madison County</td>\n",
       "      <td>1995</td>\n",
       "      <td>Eleanor</td>\n",
       "      <td>woman</td>\n",
       "      <td>138</td>\n",
       "      <td>0.021583</td>\n",
       "      <td>NaN</td>\n",
       "      <td>142.0</td>\n",
       "      <td>280</td>\n",
       "    </tr>\n",
       "    <tr>\n",
       "      <th>3</th>\n",
       "      <td>The Bridges of Madison County</td>\n",
       "      <td>1995</td>\n",
       "      <td>Francesca Johns</td>\n",
       "      <td>woman</td>\n",
       "      <td>2251</td>\n",
       "      <td>0.352049</td>\n",
       "      <td>46.0</td>\n",
       "      <td>142.0</td>\n",
       "      <td>280</td>\n",
       "    </tr>\n",
       "    <tr>\n",
       "      <th>4</th>\n",
       "      <td>The Bridges of Madison County</td>\n",
       "      <td>1995</td>\n",
       "      <td>Madge</td>\n",
       "      <td>woman</td>\n",
       "      <td>190</td>\n",
       "      <td>0.029715</td>\n",
       "      <td>46.0</td>\n",
       "      <td>142.0</td>\n",
       "      <td>280</td>\n",
       "    </tr>\n",
       "    <tr>\n",
       "      <th>...</th>\n",
       "      <td>...</td>\n",
       "      <td>...</td>\n",
       "      <td>...</td>\n",
       "      <td>...</td>\n",
       "      <td>...</td>\n",
       "      <td>...</td>\n",
       "      <td>...</td>\n",
       "      <td>...</td>\n",
       "      <td>...</td>\n",
       "    </tr>\n",
       "    <tr>\n",
       "      <th>23042</th>\n",
       "      <td>Beauty and the Beast</td>\n",
       "      <td>1991</td>\n",
       "      <td>Lumiere</td>\n",
       "      <td>man</td>\n",
       "      <td>1063</td>\n",
       "      <td>0.104636</td>\n",
       "      <td>56.0</td>\n",
       "      <td>452.0</td>\n",
       "      <td>9254</td>\n",
       "    </tr>\n",
       "    <tr>\n",
       "      <th>23043</th>\n",
       "      <td>Beauty and the Beast</td>\n",
       "      <td>1991</td>\n",
       "      <td>Maurice</td>\n",
       "      <td>man</td>\n",
       "      <td>1107</td>\n",
       "      <td>0.108967</td>\n",
       "      <td>71.0</td>\n",
       "      <td>452.0</td>\n",
       "      <td>9254</td>\n",
       "    </tr>\n",
       "    <tr>\n",
       "      <th>23044</th>\n",
       "      <td>Beauty and the Beast</td>\n",
       "      <td>1991</td>\n",
       "      <td>Monsieur D'Arqu</td>\n",
       "      <td>man</td>\n",
       "      <td>114</td>\n",
       "      <td>0.011222</td>\n",
       "      <td>58.0</td>\n",
       "      <td>452.0</td>\n",
       "      <td>9254</td>\n",
       "    </tr>\n",
       "    <tr>\n",
       "      <th>23045</th>\n",
       "      <td>Beauty and the Beast</td>\n",
       "      <td>1991</td>\n",
       "      <td>Mrs. Potts</td>\n",
       "      <td>woman</td>\n",
       "      <td>564</td>\n",
       "      <td>0.055517</td>\n",
       "      <td>66.0</td>\n",
       "      <td>452.0</td>\n",
       "      <td>9254</td>\n",
       "    </tr>\n",
       "    <tr>\n",
       "      <th>23046</th>\n",
       "      <td>Beauty and the Beast</td>\n",
       "      <td>1991</td>\n",
       "      <td>Wardrobe</td>\n",
       "      <td>woman</td>\n",
       "      <td>121</td>\n",
       "      <td>0.011911</td>\n",
       "      <td>54.0</td>\n",
       "      <td>452.0</td>\n",
       "      <td>9254</td>\n",
       "    </tr>\n",
       "  </tbody>\n",
       "</table>\n",
       "<p>23031 rows × 9 columns</p>\n",
       "</div>"
      ],
      "text/plain": [
       "                               title  release_year        character gender  \\\n",
       "0      The Bridges of Madison County          1995            Betty  woman   \n",
       "1      The Bridges of Madison County          1995  Carolyn Johnson  woman   \n",
       "2      The Bridges of Madison County          1995          Eleanor  woman   \n",
       "3      The Bridges of Madison County          1995  Francesca Johns  woman   \n",
       "4      The Bridges of Madison County          1995            Madge  woman   \n",
       "...                              ...           ...              ...    ...   \n",
       "23042           Beauty and the Beast          1991          Lumiere    man   \n",
       "23043           Beauty and the Beast          1991          Maurice    man   \n",
       "23044           Beauty and the Beast          1991  Monsieur D'Arqu    man   \n",
       "23045           Beauty and the Beast          1991       Mrs. Potts  woman   \n",
       "23046           Beauty and the Beast          1991         Wardrobe  woman   \n",
       "\n",
       "       words  proportion_of_dialogue   age  gross  script_id  \n",
       "0        311                0.048639  35.0  142.0        280  \n",
       "1        873                0.136534   NaN  142.0        280  \n",
       "2        138                0.021583   NaN  142.0        280  \n",
       "3       2251                0.352049  46.0  142.0        280  \n",
       "4        190                0.029715  46.0  142.0        280  \n",
       "...      ...                     ...   ...    ...        ...  \n",
       "23042   1063                0.104636  56.0  452.0       9254  \n",
       "23043   1107                0.108967  71.0  452.0       9254  \n",
       "23044    114                0.011222  58.0  452.0       9254  \n",
       "23045    564                0.055517  66.0  452.0       9254  \n",
       "23046    121                0.011911  54.0  452.0       9254  \n",
       "\n",
       "[23031 rows x 9 columns]"
      ]
     },
     "execution_count": 10,
     "metadata": {},
     "output_type": "execute_result"
    }
   ],
   "source": [
    "film_df"
   ]
  },
  {
   "cell_type": "code",
   "execution_count": 11,
   "metadata": {
    "ExecuteTime": {
     "end_time": "2022-11-07T10:52:56.390630Z",
     "start_time": "2022-11-07T10:52:56.383708Z"
    }
   },
   "outputs": [
    {
     "data": {
      "text/html": [
       "<div>\n",
       "<style scoped>\n",
       "    .dataframe tbody tr th:only-of-type {\n",
       "        vertical-align: middle;\n",
       "    }\n",
       "\n",
       "    .dataframe tbody tr th {\n",
       "        vertical-align: top;\n",
       "    }\n",
       "\n",
       "    .dataframe thead th {\n",
       "        text-align: right;\n",
       "    }\n",
       "</style>\n",
       "<table border=\"1\" class=\"dataframe\">\n",
       "  <thead>\n",
       "    <tr style=\"text-align: right;\">\n",
       "      <th></th>\n",
       "      <th>title</th>\n",
       "      <th>release_year</th>\n",
       "      <th>character</th>\n",
       "      <th>gender</th>\n",
       "      <th>words</th>\n",
       "      <th>proportion_of_dialogue</th>\n",
       "      <th>age</th>\n",
       "      <th>gross</th>\n",
       "      <th>script_id</th>\n",
       "    </tr>\n",
       "  </thead>\n",
       "  <tbody>\n",
       "  </tbody>\n",
       "</table>\n",
       "</div>"
      ],
      "text/plain": [
       "Empty DataFrame\n",
       "Columns: [title, release_year, character, gender, words, proportion_of_dialogue, age, gross, script_id]\n",
       "Index: []"
      ]
     },
     "execution_count": 11,
     "metadata": {},
     "output_type": "execute_result"
    }
   ],
   "source": [
    "film_df[film_df['age'] > 100]"
   ]
  },
  {
   "cell_type": "markdown",
   "metadata": {},
   "source": [
    "## Rename Columns"
   ]
  },
  {
   "cell_type": "code",
   "execution_count": 12,
   "metadata": {
    "ExecuteTime": {
     "end_time": "2022-11-07T10:52:56.965576Z",
     "start_time": "2022-11-07T10:52:56.957284Z"
    }
   },
   "outputs": [],
   "source": [
    "film_df = film_df.rename(columns={'imdb_character_name': 'character', 'year': 'release_year'})"
   ]
  },
  {
   "cell_type": "code",
   "execution_count": 13,
   "metadata": {
    "ExecuteTime": {
     "end_time": "2022-11-07T10:52:57.207060Z",
     "start_time": "2022-11-07T10:52:57.183576Z"
    },
    "tags": [
     "full-width"
    ]
   },
   "outputs": [
    {
     "data": {
      "text/html": [
       "<div>\n",
       "<style scoped>\n",
       "    .dataframe tbody tr th:only-of-type {\n",
       "        vertical-align: middle;\n",
       "    }\n",
       "\n",
       "    .dataframe tbody tr th {\n",
       "        vertical-align: top;\n",
       "    }\n",
       "\n",
       "    .dataframe thead th {\n",
       "        text-align: right;\n",
       "    }\n",
       "</style>\n",
       "<table border=\"1\" class=\"dataframe\">\n",
       "  <thead>\n",
       "    <tr style=\"text-align: right;\">\n",
       "      <th></th>\n",
       "      <th>title</th>\n",
       "      <th>release_year</th>\n",
       "      <th>character</th>\n",
       "      <th>gender</th>\n",
       "      <th>words</th>\n",
       "      <th>proportion_of_dialogue</th>\n",
       "      <th>age</th>\n",
       "      <th>gross</th>\n",
       "      <th>script_id</th>\n",
       "    </tr>\n",
       "  </thead>\n",
       "  <tbody>\n",
       "    <tr>\n",
       "      <th>0</th>\n",
       "      <td>The Bridges of Madison County</td>\n",
       "      <td>1995</td>\n",
       "      <td>Betty</td>\n",
       "      <td>woman</td>\n",
       "      <td>311</td>\n",
       "      <td>0.048639</td>\n",
       "      <td>35.0</td>\n",
       "      <td>142.0</td>\n",
       "      <td>280</td>\n",
       "    </tr>\n",
       "    <tr>\n",
       "      <th>1</th>\n",
       "      <td>The Bridges of Madison County</td>\n",
       "      <td>1995</td>\n",
       "      <td>Carolyn Johnson</td>\n",
       "      <td>woman</td>\n",
       "      <td>873</td>\n",
       "      <td>0.136534</td>\n",
       "      <td>NaN</td>\n",
       "      <td>142.0</td>\n",
       "      <td>280</td>\n",
       "    </tr>\n",
       "    <tr>\n",
       "      <th>2</th>\n",
       "      <td>The Bridges of Madison County</td>\n",
       "      <td>1995</td>\n",
       "      <td>Eleanor</td>\n",
       "      <td>woman</td>\n",
       "      <td>138</td>\n",
       "      <td>0.021583</td>\n",
       "      <td>NaN</td>\n",
       "      <td>142.0</td>\n",
       "      <td>280</td>\n",
       "    </tr>\n",
       "    <tr>\n",
       "      <th>3</th>\n",
       "      <td>The Bridges of Madison County</td>\n",
       "      <td>1995</td>\n",
       "      <td>Francesca Johns</td>\n",
       "      <td>woman</td>\n",
       "      <td>2251</td>\n",
       "      <td>0.352049</td>\n",
       "      <td>46.0</td>\n",
       "      <td>142.0</td>\n",
       "      <td>280</td>\n",
       "    </tr>\n",
       "    <tr>\n",
       "      <th>4</th>\n",
       "      <td>The Bridges of Madison County</td>\n",
       "      <td>1995</td>\n",
       "      <td>Madge</td>\n",
       "      <td>woman</td>\n",
       "      <td>190</td>\n",
       "      <td>0.029715</td>\n",
       "      <td>46.0</td>\n",
       "      <td>142.0</td>\n",
       "      <td>280</td>\n",
       "    </tr>\n",
       "  </tbody>\n",
       "</table>\n",
       "</div>"
      ],
      "text/plain": [
       "                           title  release_year        character gender  words  \\\n",
       "0  The Bridges of Madison County          1995            Betty  woman    311   \n",
       "1  The Bridges of Madison County          1995  Carolyn Johnson  woman    873   \n",
       "2  The Bridges of Madison County          1995          Eleanor  woman    138   \n",
       "3  The Bridges of Madison County          1995  Francesca Johns  woman   2251   \n",
       "4  The Bridges of Madison County          1995            Madge  woman    190   \n",
       "\n",
       "   proportion_of_dialogue   age  gross  script_id  \n",
       "0                0.048639  35.0  142.0        280  \n",
       "1                0.136534   NaN  142.0        280  \n",
       "2                0.021583   NaN  142.0        280  \n",
       "3                0.352049  46.0  142.0        280  \n",
       "4                0.029715  46.0  142.0        280  "
      ]
     },
     "execution_count": 13,
     "metadata": {},
     "output_type": "execute_result"
    }
   ],
   "source": [
    "film_df.head()"
   ]
  },
  {
   "cell_type": "markdown",
   "metadata": {},
   "source": [
    "## Filter"
   ]
  },
  {
   "cell_type": "markdown",
   "metadata": {},
   "source": [
    "<div class=\"admonition note\" name=\"html-admonition\" style=\"background: lightblue; padding: 10px\">\n",
    "Group work!\n",
    "</div>"
   ]
  },
  {
   "cell_type": "markdown",
   "metadata": {},
   "source": [
    "Find a specific film that you're intersted and then filter the DataFrame for only rows relevant to that film. \n",
    "\n",
    "If you want to search for films by decade and genre, you can [search the with the Pudding's handy data viz here](https://pudding.cool/2017/03/film-dialogue/embed.html)."
   ]
  },
  {
   "cell_type": "code",
   "execution_count": 40,
   "metadata": {
    "ExecuteTime": {
     "end_time": "2022-11-07T10:53:29.680549Z",
     "start_time": "2022-11-07T10:53:29.676884Z"
    }
   },
   "outputs": [],
   "source": [
    "film_filter = ..."
   ]
  },
  {
   "cell_type": "markdown",
   "metadata": {},
   "source": [
    "If you want to sort by characters who speak the most, feel free to add `.sort_values(by='words', ascending=False)`"
   ]
  },
  {
   "cell_type": "code",
   "execution_count": 41,
   "metadata": {
    "ExecuteTime": {
     "end_time": "2022-11-07T10:53:45.002196Z",
     "start_time": "2022-11-07T10:53:44.999032Z"
    }
   },
   "outputs": [],
   "source": [
    "# film_df[film_filter]"
   ]
  },
  {
   "cell_type": "markdown",
   "metadata": {},
   "source": [
    "Now pick a character from this film (or another character) and filter the DataFrame by character."
   ]
  },
  {
   "cell_type": "code",
   "execution_count": 42,
   "metadata": {
    "ExecuteTime": {
     "end_time": "2022-11-07T10:53:47.151284Z",
     "start_time": "2022-11-07T10:53:47.146193Z"
    }
   },
   "outputs": [],
   "source": [
    "character_filter = ..."
   ]
  },
  {
   "cell_type": "code",
   "execution_count": 43,
   "metadata": {
    "ExecuteTime": {
     "end_time": "2022-11-07T10:53:49.217658Z",
     "start_time": "2022-11-07T10:53:49.213348Z"
    }
   },
   "outputs": [],
   "source": [
    "# film_df[character_filter]"
   ]
  },
  {
   "cell_type": "markdown",
   "metadata": {},
   "source": [
    "### ❓ How does this data align with your experience/knowledge of the film?\n",
    "### ❓ How do these specific examples influence your thoughts about the data collection and categorization process? What would you have done differently (if anything)?"
   ]
  },
  {
   "cell_type": "markdown",
   "metadata": {},
   "source": [
    "## Sort Values"
   ]
  },
  {
   "cell_type": "markdown",
   "metadata": {},
   "source": [
    "<div class=\"admonition note\" name=\"html-admonition\" style=\"background: lightblue; padding: 10px\">\n",
    "Group work!\n",
    "</div>"
   ]
  },
  {
   "cell_type": "markdown",
   "metadata": {},
   "source": [
    "Sort the DataFrame from the character who has the highest `proportion_of_dialogue` to the lowest.  Then examine the first 20 rows with `.head(20)` or `[:20]`."
   ]
  },
  {
   "cell_type": "code",
   "execution_count": 44,
   "metadata": {
    "ExecuteTime": {
     "end_time": "2022-11-07T10:53:52.618482Z",
     "start_time": "2022-11-07T10:53:52.612937Z"
    }
   },
   "outputs": [
    {
     "ename": "SyntaxError",
     "evalue": "invalid syntax (2380906246.py, line 1)",
     "output_type": "error",
     "traceback": [
      "\u001b[0;36m  Input \u001b[0;32mIn [44]\u001b[0;36m\u001b[0m\n\u001b[0;31m    film_df...\u001b[0m\n\u001b[0m           ^\u001b[0m\n\u001b[0;31mSyntaxError\u001b[0m\u001b[0;31m:\u001b[0m invalid syntax\n"
     ]
    }
   ],
   "source": [
    "# film_df..."
   ]
  },
  {
   "cell_type": "markdown",
   "metadata": {},
   "source": [
    "Sort the DataFrame from the character who has the lowest `proportion_of_dialogue` to the highest. Then examine the first 20 rows with `.head(20)` or `[:20]`."
   ]
  },
  {
   "cell_type": "code",
   "execution_count": 45,
   "metadata": {
    "ExecuteTime": {
     "end_time": "2022-11-07T10:54:02.089138Z",
     "start_time": "2022-11-07T10:54:02.085812Z"
    }
   },
   "outputs": [],
   "source": [
    "#film_df..."
   ]
  },
  {
   "cell_type": "markdown",
   "metadata": {},
   "source": [
    "Sort the DataFrame from the character who speaks the least number of `words` to the character who speaks the most number of words. Then examine the first 20 rows with `.head(20)` or `[:20]`."
   ]
  },
  {
   "cell_type": "code",
   "execution_count": 46,
   "metadata": {
    "ExecuteTime": {
     "end_time": "2022-11-07T10:54:07.043950Z",
     "start_time": "2022-11-07T10:54:07.040373Z"
    }
   },
   "outputs": [],
   "source": [
    "# film_df..."
   ]
  },
  {
   "cell_type": "markdown",
   "metadata": {},
   "source": [
    "### ❓ What patterns do you notice here? What surprises you or doesn't surprise you?"
   ]
  },
  {
   "cell_type": "markdown",
   "metadata": {},
   "source": [
    "## Groupby"
   ]
  },
  {
   "cell_type": "markdown",
   "metadata": {},
   "source": [
    "Group by film and then calculate the sum total for every column."
   ]
  },
  {
   "cell_type": "code",
   "execution_count": 47,
   "metadata": {
    "ExecuteTime": {
     "end_time": "2022-11-07T10:54:11.366222Z",
     "start_time": "2022-11-07T10:54:11.361766Z"
    }
   },
   "outputs": [],
   "source": [
    "# film_df.groupby..."
   ]
  },
  {
   "cell_type": "markdown",
   "metadata": {},
   "source": [
    "Group by film, isolate the `words` column, and then calculate the sum total for every column."
   ]
  },
  {
   "cell_type": "code",
   "execution_count": 48,
   "metadata": {
    "ExecuteTime": {
     "end_time": "2022-11-07T10:54:13.828863Z",
     "start_time": "2022-11-07T10:54:13.825749Z"
    }
   },
   "outputs": [],
   "source": [
    "# film_df.groupby..."
   ]
  },
  {
   "cell_type": "markdown",
   "metadata": {},
   "source": [
    "Group by film AND gender, isolate the column `words`, and then calculate the sum total for every column.\n",
    "\n",
    "*Note: Remember that to group by multiple columns, you need to put the column names in square brackets `[]`.*"
   ]
  },
  {
   "cell_type": "code",
   "execution_count": 50,
   "metadata": {
    "ExecuteTime": {
     "end_time": "2022-11-07T10:54:20.645884Z",
     "start_time": "2022-11-07T10:54:20.640640Z"
    }
   },
   "outputs": [],
   "source": [
    "# film_df.groupby..."
   ]
  },
  {
   "cell_type": "markdown",
   "metadata": {},
   "source": [
    "## Filter, Then Groupby"
   ]
  },
  {
   "cell_type": "markdown",
   "metadata": {},
   "source": [
    "<div class=\"admonition note\" name=\"html-admonition\" style=\"background: lightblue; padding: 10px\">\n",
    "Group work!\n",
    "</div>"
   ]
  },
  {
   "cell_type": "markdown",
   "metadata": {},
   "source": [
    "Filter the DataFrame for only characters labeled as `woman`"
   ]
  },
  {
   "cell_type": "code",
   "execution_count": 51,
   "metadata": {
    "ExecuteTime": {
     "end_time": "2022-11-07T10:54:22.307878Z",
     "start_time": "2022-11-07T10:54:22.297895Z"
    }
   },
   "outputs": [],
   "source": [
    "women_filter = film_df['gender'] == 'woman'"
   ]
  },
  {
   "cell_type": "code",
   "execution_count": 52,
   "metadata": {
    "ExecuteTime": {
     "end_time": "2022-11-07T10:54:22.818710Z",
     "start_time": "2022-11-07T10:54:22.808914Z"
    }
   },
   "outputs": [],
   "source": [
    "women_film_df = film_df[women_filter]"
   ]
  },
  {
   "cell_type": "markdown",
   "metadata": {},
   "source": [
    "Filter the DataFrame for only characters labeled as `man`"
   ]
  },
  {
   "cell_type": "code",
   "execution_count": 53,
   "metadata": {
    "ExecuteTime": {
     "end_time": "2022-11-07T10:54:23.759380Z",
     "start_time": "2022-11-07T10:54:23.748963Z"
    }
   },
   "outputs": [],
   "source": [
    "men_filter = film_df['gender'] == 'man'"
   ]
  },
  {
   "cell_type": "code",
   "execution_count": 54,
   "metadata": {
    "ExecuteTime": {
     "end_time": "2022-11-07T10:54:23.992036Z",
     "start_time": "2022-11-07T10:54:23.983910Z"
    }
   },
   "outputs": [],
   "source": [
    "men_film_df = film_df[men_filter]"
   ]
  },
  {
   "cell_type": "markdown",
   "metadata": {},
   "source": [
    "Now group `women_film_df` by film, isolate the `words` column, and sum the `words` spoken by women."
   ]
  },
  {
   "cell_type": "code",
   "execution_count": 55,
   "metadata": {
    "ExecuteTime": {
     "end_time": "2022-11-07T10:54:24.460542Z",
     "start_time": "2022-11-07T10:54:24.441327Z"
    }
   },
   "outputs": [
    {
     "data": {
      "text/plain": [
       "title\n",
       "(500) Days of Summer          5738\n",
       "10 Things I Hate About You    8992\n",
       "12 Years a Slave              3452\n",
       "12 and Holding                5324\n",
       "127 Hours                      809\n",
       "                              ... \n",
       "Zero Effect                   2216\n",
       "Zerophilia                    4612\n",
       "Zodiac                        1421\n",
       "eXistenZ                      3752\n",
       "xXx                            998\n",
       "Name: words, Length: 1940, dtype: int64"
      ]
     },
     "execution_count": 55,
     "metadata": {},
     "output_type": "execute_result"
    }
   ],
   "source": [
    "women_film_df.groupby('title')['words'].sum()"
   ]
  },
  {
   "cell_type": "markdown",
   "metadata": {},
   "source": [
    "Assign this Series to a new variable `women_by_film`"
   ]
  },
  {
   "cell_type": "code",
   "execution_count": 56,
   "metadata": {
    "ExecuteTime": {
     "end_time": "2022-11-07T10:54:24.999747Z",
     "start_time": "2022-11-07T10:54:24.985116Z"
    }
   },
   "outputs": [],
   "source": [
    "women_by_film = women_film_df.groupby('title')['words'].sum()"
   ]
  },
  {
   "cell_type": "markdown",
   "metadata": {},
   "source": [
    "Using the same construction, make a new another new variable `men_by_film`"
   ]
  },
  {
   "cell_type": "code",
   "execution_count": 57,
   "metadata": {
    "ExecuteTime": {
     "end_time": "2022-11-07T10:54:25.411068Z",
     "start_time": "2022-11-07T10:54:25.397182Z"
    }
   },
   "outputs": [],
   "source": [
    "men_by_film = men_film_df.groupby('title')['words'].sum()"
   ]
  },
  {
   "cell_type": "markdown",
   "metadata": {},
   "source": [
    "Sort `women_by_film` from the film with the most words to the film with the least words. Then examine the top 20 values."
   ]
  },
  {
   "cell_type": "code",
   "execution_count": 58,
   "metadata": {
    "ExecuteTime": {
     "end_time": "2022-11-07T10:54:26.730847Z",
     "start_time": "2022-11-07T10:54:26.718954Z"
    }
   },
   "outputs": [
    {
     "data": {
      "text/plain": [
       "title\n",
       "Sex and the City               25184\n",
       "Stepmom                        25014\n",
       "Sense and Sensibility          23922\n",
       "The Help                       21540\n",
       "Beloved                        19594\n",
       "Ghost World                    18692\n",
       "Precious                       17536\n",
       "Juno                           17534\n",
       "Music of the Heart             17274\n",
       "Drag Me to Hell                17236\n",
       "Margaret                       17229\n",
       "Amelia                         17014\n",
       "The Horse Whisperer            16920\n",
       "Copycat                        16078\n",
       "Frances                        15978\n",
       "Agnes of God                   15732\n",
       "He's Just Not That Into You    15708\n",
       "An Education                   14330\n",
       "The Birds                      14284\n",
       "Wild at Heart                  14014\n",
       "Name: words, dtype: int64"
      ]
     },
     "execution_count": 58,
     "metadata": {},
     "output_type": "execute_result"
    }
   ],
   "source": [
    "women_by_film.sort_values(ascending=False)[:20]"
   ]
  },
  {
   "cell_type": "markdown",
   "metadata": {},
   "source": [
    "Assign this sorted list of movies to the variable `top20_women`"
   ]
  },
  {
   "cell_type": "code",
   "execution_count": 59,
   "metadata": {
    "ExecuteTime": {
     "end_time": "2022-11-07T10:54:27.026408Z",
     "start_time": "2022-11-07T10:54:27.019378Z"
    }
   },
   "outputs": [],
   "source": [
    "top20_women = women_by_film.sort_values(ascending=False)[:20]"
   ]
  },
  {
   "cell_type": "markdown",
   "metadata": {},
   "source": [
    "Using the same construction, make a new variable `top20_men`"
   ]
  },
  {
   "cell_type": "code",
   "execution_count": 60,
   "metadata": {
    "ExecuteTime": {
     "end_time": "2022-11-07T10:54:27.353777Z",
     "start_time": "2022-11-07T10:54:27.345354Z"
    }
   },
   "outputs": [],
   "source": [
    "top20_men = men_by_film.sort_values(ascending=False)[:20]"
   ]
  },
  {
   "cell_type": "markdown",
   "metadata": {},
   "source": [
    "### ❓ What patterns do you notice here? What surprises you or doesn't surprise you?"
   ]
  },
  {
   "cell_type": "markdown",
   "metadata": {},
   "source": [
    "## Saving Plots"
   ]
  },
  {
   "cell_type": "markdown",
   "metadata": {},
   "source": [
    "<div class=\"admonition note\" name=\"html-admonition\" style=\"background: lightblue; padding: 10px\">\n",
    "Group work!\n",
    "</div>"
   ]
  },
  {
   "cell_type": "markdown",
   "metadata": {},
   "source": [
    "Make a bar chart of `top20_women`. Give the chart a title, and specify a color."
   ]
  },
  {
   "cell_type": "code",
   "execution_count": 61,
   "metadata": {
    "ExecuteTime": {
     "end_time": "2022-11-07T10:54:28.483913Z",
     "start_time": "2022-11-07T10:54:28.310380Z"
    }
   },
   "outputs": [
    {
     "data": {
      "text/plain": [
       "<AxesSubplot:xlabel='title'>"
      ]
     },
     "execution_count": 61,
     "metadata": {},
     "output_type": "execute_result"
    },
    {
     "data": {
      "image/png": "[encoded data removed]",
      "text/plain": [
       "<Figure size 432x288 with 1 Axes>"
      ]
     },
     "metadata": {
      "needs_background": "light"
     },
     "output_type": "display_data"
    }
   ],
   "source": [
    "top20_women.plot(kind='bar')"
   ]
  },
  {
   "cell_type": "markdown",
   "metadata": {},
   "source": [
    "To save the plot, you can use `ax.figure.savefig()` and the name of the file in quotation marks."
   ]
  },
  {
   "cell_type": "code",
   "execution_count": 62,
   "metadata": {
    "ExecuteTime": {
     "end_time": "2022-11-07T10:54:28.828455Z",
     "start_time": "2022-11-07T10:54:28.633611Z"
    }
   },
   "outputs": [
    {
     "data": {
      "image/png": "[encoded data removed]",
      "text/plain": [
       "<Figure size 432x288 with 1 Axes>"
      ]
     },
     "metadata": {
      "needs_background": "light"
     },
     "output_type": "display_data"
    }
   ],
   "source": [
    "ax = top20_women.plot(kind='bar')\n",
    "ax.figure.savefig('top20_women.png')"
   ]
  },
  {
   "cell_type": "markdown",
   "metadata": {},
   "source": [
    "Look in the file browser on the left and double click the PNG file. How does it look? Uh oh!\n",
    "\n",
    "Sometimes parts of a plot will get cut off when you save it. To fix this issue, you can use a function from the Matplotlib library called `plt.tight_layout()`, which will adjust the plot before you save it.\n",
    "\n",
    "To use this function, you need to `import matplotlib.pyplot as plt`."
   ]
  },
  {
   "cell_type": "code",
   "execution_count": 63,
   "metadata": {
    "ExecuteTime": {
     "end_time": "2022-11-07T10:54:29.168832Z",
     "start_time": "2022-11-07T10:54:28.964468Z"
    }
   },
   "outputs": [
    {
     "data": {
      "image/png": "[encoded data removed]",
      "text/plain": [
       "<Figure size 432x288 with 1 Axes>"
      ]
     },
     "metadata": {
      "needs_background": "light"
     },
     "output_type": "display_data"
    }
   ],
   "source": [
    "import matplotlib.pyplot as plt\n",
    "\n",
    "ax = top20_women.plot(kind='bar')\n",
    "plt.tight_layout()\n",
    "ax.figure.savefig('top20_women.png')"
   ]
  },
  {
   "cell_type": "markdown",
   "metadata": {},
   "source": [
    "## Scatter Plots and Line Plots"
   ]
  },
  {
   "cell_type": "markdown",
   "metadata": {},
   "source": [
    "Let's make a scatter plot that shows how many words women and men speak based on their age."
   ]
  },
  {
   "cell_type": "code",
   "execution_count": 64,
   "metadata": {
    "ExecuteTime": {
     "end_time": "2022-11-07T10:54:29.444534Z",
     "start_time": "2022-11-07T10:54:29.427474Z"
    },
    "scrolled": true
   },
   "outputs": [
    {
     "data": {
      "text/html": [
       "<div>\n",
       "<style scoped>\n",
       "    .dataframe tbody tr th:only-of-type {\n",
       "        vertical-align: middle;\n",
       "    }\n",
       "\n",
       "    .dataframe tbody tr th {\n",
       "        vertical-align: top;\n",
       "    }\n",
       "\n",
       "    .dataframe thead th {\n",
       "        text-align: right;\n",
       "    }\n",
       "</style>\n",
       "<table border=\"1\" class=\"dataframe\">\n",
       "  <thead>\n",
       "    <tr style=\"text-align: right;\">\n",
       "      <th></th>\n",
       "      <th>age</th>\n",
       "      <th>words</th>\n",
       "    </tr>\n",
       "  </thead>\n",
       "  <tbody>\n",
       "    <tr>\n",
       "      <th>0</th>\n",
       "      <td>4.0</td>\n",
       "      <td>272</td>\n",
       "    </tr>\n",
       "    <tr>\n",
       "      <th>1</th>\n",
       "      <td>5.0</td>\n",
       "      <td>132</td>\n",
       "    </tr>\n",
       "    <tr>\n",
       "      <th>2</th>\n",
       "      <td>6.0</td>\n",
       "      <td>2406</td>\n",
       "    </tr>\n",
       "    <tr>\n",
       "      <th>3</th>\n",
       "      <td>7.0</td>\n",
       "      <td>8158</td>\n",
       "    </tr>\n",
       "    <tr>\n",
       "      <th>4</th>\n",
       "      <td>8.0</td>\n",
       "      <td>3260</td>\n",
       "    </tr>\n",
       "    <tr>\n",
       "      <th>5</th>\n",
       "      <td>9.0</td>\n",
       "      <td>6540</td>\n",
       "    </tr>\n",
       "    <tr>\n",
       "      <th>6</th>\n",
       "      <td>10.0</td>\n",
       "      <td>11771</td>\n",
       "    </tr>\n",
       "    <tr>\n",
       "      <th>7</th>\n",
       "      <td>11.0</td>\n",
       "      <td>11462</td>\n",
       "    </tr>\n",
       "    <tr>\n",
       "      <th>8</th>\n",
       "      <td>12.0</td>\n",
       "      <td>17316</td>\n",
       "    </tr>\n",
       "    <tr>\n",
       "      <th>9</th>\n",
       "      <td>13.0</td>\n",
       "      <td>12580</td>\n",
       "    </tr>\n",
       "    <tr>\n",
       "      <th>10</th>\n",
       "      <td>14.0</td>\n",
       "      <td>30978</td>\n",
       "    </tr>\n",
       "    <tr>\n",
       "      <th>11</th>\n",
       "      <td>15.0</td>\n",
       "      <td>16753</td>\n",
       "    </tr>\n",
       "    <tr>\n",
       "      <th>12</th>\n",
       "      <td>16.0</td>\n",
       "      <td>15125</td>\n",
       "    </tr>\n",
       "    <tr>\n",
       "      <th>13</th>\n",
       "      <td>17.0</td>\n",
       "      <td>51960</td>\n",
       "    </tr>\n",
       "    <tr>\n",
       "      <th>14</th>\n",
       "      <td>18.0</td>\n",
       "      <td>65895</td>\n",
       "    </tr>\n",
       "    <tr>\n",
       "      <th>15</th>\n",
       "      <td>19.0</td>\n",
       "      <td>75581</td>\n",
       "    </tr>\n",
       "    <tr>\n",
       "      <th>16</th>\n",
       "      <td>20.0</td>\n",
       "      <td>91191</td>\n",
       "    </tr>\n",
       "    <tr>\n",
       "      <th>17</th>\n",
       "      <td>21.0</td>\n",
       "      <td>88340</td>\n",
       "    </tr>\n",
       "    <tr>\n",
       "      <th>18</th>\n",
       "      <td>22.0</td>\n",
       "      <td>119782</td>\n",
       "    </tr>\n",
       "    <tr>\n",
       "      <th>19</th>\n",
       "      <td>23.0</td>\n",
       "      <td>189543</td>\n",
       "    </tr>\n",
       "    <tr>\n",
       "      <th>20</th>\n",
       "      <td>24.0</td>\n",
       "      <td>156862</td>\n",
       "    </tr>\n",
       "    <tr>\n",
       "      <th>21</th>\n",
       "      <td>25.0</td>\n",
       "      <td>200371</td>\n",
       "    </tr>\n",
       "    <tr>\n",
       "      <th>22</th>\n",
       "      <td>26.0</td>\n",
       "      <td>212245</td>\n",
       "    </tr>\n",
       "    <tr>\n",
       "      <th>23</th>\n",
       "      <td>27.0</td>\n",
       "      <td>196433</td>\n",
       "    </tr>\n",
       "    <tr>\n",
       "      <th>24</th>\n",
       "      <td>28.0</td>\n",
       "      <td>214608</td>\n",
       "    </tr>\n",
       "    <tr>\n",
       "      <th>25</th>\n",
       "      <td>29.0</td>\n",
       "      <td>229375</td>\n",
       "    </tr>\n",
       "    <tr>\n",
       "      <th>26</th>\n",
       "      <td>30.0</td>\n",
       "      <td>215189</td>\n",
       "    </tr>\n",
       "    <tr>\n",
       "      <th>27</th>\n",
       "      <td>31.0</td>\n",
       "      <td>199967</td>\n",
       "    </tr>\n",
       "    <tr>\n",
       "      <th>28</th>\n",
       "      <td>32.0</td>\n",
       "      <td>202468</td>\n",
       "    </tr>\n",
       "    <tr>\n",
       "      <th>29</th>\n",
       "      <td>33.0</td>\n",
       "      <td>257087</td>\n",
       "    </tr>\n",
       "    <tr>\n",
       "      <th>30</th>\n",
       "      <td>34.0</td>\n",
       "      <td>212368</td>\n",
       "    </tr>\n",
       "    <tr>\n",
       "      <th>31</th>\n",
       "      <td>35.0</td>\n",
       "      <td>192014</td>\n",
       "    </tr>\n",
       "    <tr>\n",
       "      <th>32</th>\n",
       "      <td>36.0</td>\n",
       "      <td>150284</td>\n",
       "    </tr>\n",
       "    <tr>\n",
       "      <th>33</th>\n",
       "      <td>37.0</td>\n",
       "      <td>191203</td>\n",
       "    </tr>\n",
       "    <tr>\n",
       "      <th>34</th>\n",
       "      <td>38.0</td>\n",
       "      <td>143804</td>\n",
       "    </tr>\n",
       "    <tr>\n",
       "      <th>35</th>\n",
       "      <td>39.0</td>\n",
       "      <td>120319</td>\n",
       "    </tr>\n",
       "    <tr>\n",
       "      <th>36</th>\n",
       "      <td>40.0</td>\n",
       "      <td>127718</td>\n",
       "    </tr>\n",
       "    <tr>\n",
       "      <th>37</th>\n",
       "      <td>41.0</td>\n",
       "      <td>108122</td>\n",
       "    </tr>\n",
       "    <tr>\n",
       "      <th>38</th>\n",
       "      <td>42.0</td>\n",
       "      <td>83821</td>\n",
       "    </tr>\n",
       "    <tr>\n",
       "      <th>39</th>\n",
       "      <td>43.0</td>\n",
       "      <td>116319</td>\n",
       "    </tr>\n",
       "    <tr>\n",
       "      <th>40</th>\n",
       "      <td>44.0</td>\n",
       "      <td>84057</td>\n",
       "    </tr>\n",
       "    <tr>\n",
       "      <th>41</th>\n",
       "      <td>45.0</td>\n",
       "      <td>81205</td>\n",
       "    </tr>\n",
       "    <tr>\n",
       "      <th>42</th>\n",
       "      <td>46.0</td>\n",
       "      <td>93950</td>\n",
       "    </tr>\n",
       "    <tr>\n",
       "      <th>43</th>\n",
       "      <td>47.0</td>\n",
       "      <td>50311</td>\n",
       "    </tr>\n",
       "    <tr>\n",
       "      <th>44</th>\n",
       "      <td>48.0</td>\n",
       "      <td>73903</td>\n",
       "    </tr>\n",
       "    <tr>\n",
       "      <th>45</th>\n",
       "      <td>49.0</td>\n",
       "      <td>41492</td>\n",
       "    </tr>\n",
       "    <tr>\n",
       "      <th>46</th>\n",
       "      <td>50.0</td>\n",
       "      <td>53645</td>\n",
       "    </tr>\n",
       "    <tr>\n",
       "      <th>47</th>\n",
       "      <td>51.0</td>\n",
       "      <td>35212</td>\n",
       "    </tr>\n",
       "    <tr>\n",
       "      <th>48</th>\n",
       "      <td>52.0</td>\n",
       "      <td>49020</td>\n",
       "    </tr>\n",
       "    <tr>\n",
       "      <th>49</th>\n",
       "      <td>53.0</td>\n",
       "      <td>36588</td>\n",
       "    </tr>\n",
       "    <tr>\n",
       "      <th>50</th>\n",
       "      <td>54.0</td>\n",
       "      <td>51797</td>\n",
       "    </tr>\n",
       "    <tr>\n",
       "      <th>51</th>\n",
       "      <td>55.0</td>\n",
       "      <td>23539</td>\n",
       "    </tr>\n",
       "    <tr>\n",
       "      <th>52</th>\n",
       "      <td>56.0</td>\n",
       "      <td>22243</td>\n",
       "    </tr>\n",
       "    <tr>\n",
       "      <th>53</th>\n",
       "      <td>57.0</td>\n",
       "      <td>23712</td>\n",
       "    </tr>\n",
       "    <tr>\n",
       "      <th>54</th>\n",
       "      <td>58.0</td>\n",
       "      <td>23403</td>\n",
       "    </tr>\n",
       "    <tr>\n",
       "      <th>55</th>\n",
       "      <td>59.0</td>\n",
       "      <td>22437</td>\n",
       "    </tr>\n",
       "    <tr>\n",
       "      <th>56</th>\n",
       "      <td>60.0</td>\n",
       "      <td>26981</td>\n",
       "    </tr>\n",
       "    <tr>\n",
       "      <th>57</th>\n",
       "      <td>61.0</td>\n",
       "      <td>20807</td>\n",
       "    </tr>\n",
       "    <tr>\n",
       "      <th>58</th>\n",
       "      <td>62.0</td>\n",
       "      <td>27634</td>\n",
       "    </tr>\n",
       "    <tr>\n",
       "      <th>59</th>\n",
       "      <td>63.0</td>\n",
       "      <td>15480</td>\n",
       "    </tr>\n",
       "    <tr>\n",
       "      <th>60</th>\n",
       "      <td>64.0</td>\n",
       "      <td>20937</td>\n",
       "    </tr>\n",
       "    <tr>\n",
       "      <th>61</th>\n",
       "      <td>65.0</td>\n",
       "      <td>10651</td>\n",
       "    </tr>\n",
       "    <tr>\n",
       "      <th>62</th>\n",
       "      <td>66.0</td>\n",
       "      <td>17886</td>\n",
       "    </tr>\n",
       "    <tr>\n",
       "      <th>63</th>\n",
       "      <td>67.0</td>\n",
       "      <td>12602</td>\n",
       "    </tr>\n",
       "    <tr>\n",
       "      <th>64</th>\n",
       "      <td>68.0</td>\n",
       "      <td>6341</td>\n",
       "    </tr>\n",
       "    <tr>\n",
       "      <th>65</th>\n",
       "      <td>69.0</td>\n",
       "      <td>11874</td>\n",
       "    </tr>\n",
       "    <tr>\n",
       "      <th>66</th>\n",
       "      <td>70.0</td>\n",
       "      <td>13405</td>\n",
       "    </tr>\n",
       "    <tr>\n",
       "      <th>67</th>\n",
       "      <td>71.0</td>\n",
       "      <td>6573</td>\n",
       "    </tr>\n",
       "    <tr>\n",
       "      <th>68</th>\n",
       "      <td>72.0</td>\n",
       "      <td>9110</td>\n",
       "    </tr>\n",
       "    <tr>\n",
       "      <th>69</th>\n",
       "      <td>73.0</td>\n",
       "      <td>3932</td>\n",
       "    </tr>\n",
       "    <tr>\n",
       "      <th>70</th>\n",
       "      <td>74.0</td>\n",
       "      <td>6216</td>\n",
       "    </tr>\n",
       "    <tr>\n",
       "      <th>71</th>\n",
       "      <td>75.0</td>\n",
       "      <td>11816</td>\n",
       "    </tr>\n",
       "    <tr>\n",
       "      <th>72</th>\n",
       "      <td>76.0</td>\n",
       "      <td>6779</td>\n",
       "    </tr>\n",
       "    <tr>\n",
       "      <th>73</th>\n",
       "      <td>77.0</td>\n",
       "      <td>10377</td>\n",
       "    </tr>\n",
       "    <tr>\n",
       "      <th>74</th>\n",
       "      <td>78.0</td>\n",
       "      <td>7750</td>\n",
       "    </tr>\n",
       "    <tr>\n",
       "      <th>75</th>\n",
       "      <td>79.0</td>\n",
       "      <td>7306</td>\n",
       "    </tr>\n",
       "    <tr>\n",
       "      <th>76</th>\n",
       "      <td>80.0</td>\n",
       "      <td>789</td>\n",
       "    </tr>\n",
       "    <tr>\n",
       "      <th>77</th>\n",
       "      <td>81.0</td>\n",
       "      <td>5659</td>\n",
       "    </tr>\n",
       "    <tr>\n",
       "      <th>78</th>\n",
       "      <td>82.0</td>\n",
       "      <td>3613</td>\n",
       "    </tr>\n",
       "    <tr>\n",
       "      <th>79</th>\n",
       "      <td>83.0</td>\n",
       "      <td>535</td>\n",
       "    </tr>\n",
       "    <tr>\n",
       "      <th>80</th>\n",
       "      <td>84.0</td>\n",
       "      <td>2075</td>\n",
       "    </tr>\n",
       "    <tr>\n",
       "      <th>81</th>\n",
       "      <td>85.0</td>\n",
       "      <td>4669</td>\n",
       "    </tr>\n",
       "    <tr>\n",
       "      <th>82</th>\n",
       "      <td>86.0</td>\n",
       "      <td>1307</td>\n",
       "    </tr>\n",
       "    <tr>\n",
       "      <th>83</th>\n",
       "      <td>87.0</td>\n",
       "      <td>2702</td>\n",
       "    </tr>\n",
       "    <tr>\n",
       "      <th>84</th>\n",
       "      <td>88.0</td>\n",
       "      <td>510</td>\n",
       "    </tr>\n",
       "    <tr>\n",
       "      <th>85</th>\n",
       "      <td>90.0</td>\n",
       "      <td>389</td>\n",
       "    </tr>\n",
       "    <tr>\n",
       "      <th>86</th>\n",
       "      <td>92.0</td>\n",
       "      <td>359</td>\n",
       "    </tr>\n",
       "  </tbody>\n",
       "</table>\n",
       "</div>"
      ],
      "text/plain": [
       "     age   words\n",
       "0    4.0     272\n",
       "1    5.0     132\n",
       "2    6.0    2406\n",
       "3    7.0    8158\n",
       "4    8.0    3260\n",
       "5    9.0    6540\n",
       "6   10.0   11771\n",
       "7   11.0   11462\n",
       "8   12.0   17316\n",
       "9   13.0   12580\n",
       "10  14.0   30978\n",
       "11  15.0   16753\n",
       "12  16.0   15125\n",
       "13  17.0   51960\n",
       "14  18.0   65895\n",
       "15  19.0   75581\n",
       "16  20.0   91191\n",
       "17  21.0   88340\n",
       "18  22.0  119782\n",
       "19  23.0  189543\n",
       "20  24.0  156862\n",
       "21  25.0  200371\n",
       "22  26.0  212245\n",
       "23  27.0  196433\n",
       "24  28.0  214608\n",
       "25  29.0  229375\n",
       "26  30.0  215189\n",
       "27  31.0  199967\n",
       "28  32.0  202468\n",
       "29  33.0  257087\n",
       "30  34.0  212368\n",
       "31  35.0  192014\n",
       "32  36.0  150284\n",
       "33  37.0  191203\n",
       "34  38.0  143804\n",
       "35  39.0  120319\n",
       "36  40.0  127718\n",
       "37  41.0  108122\n",
       "38  42.0   83821\n",
       "39  43.0  116319\n",
       "40  44.0   84057\n",
       "41  45.0   81205\n",
       "42  46.0   93950\n",
       "43  47.0   50311\n",
       "44  48.0   73903\n",
       "45  49.0   41492\n",
       "46  50.0   53645\n",
       "47  51.0   35212\n",
       "48  52.0   49020\n",
       "49  53.0   36588\n",
       "50  54.0   51797\n",
       "51  55.0   23539\n",
       "52  56.0   22243\n",
       "53  57.0   23712\n",
       "54  58.0   23403\n",
       "55  59.0   22437\n",
       "56  60.0   26981\n",
       "57  61.0   20807\n",
       "58  62.0   27634\n",
       "59  63.0   15480\n",
       "60  64.0   20937\n",
       "61  65.0   10651\n",
       "62  66.0   17886\n",
       "63  67.0   12602\n",
       "64  68.0    6341\n",
       "65  69.0   11874\n",
       "66  70.0   13405\n",
       "67  71.0    6573\n",
       "68  72.0    9110\n",
       "69  73.0    3932\n",
       "70  74.0    6216\n",
       "71  75.0   11816\n",
       "72  76.0    6779\n",
       "73  77.0   10377\n",
       "74  78.0    7750\n",
       "75  79.0    7306\n",
       "76  80.0     789\n",
       "77  81.0    5659\n",
       "78  82.0    3613\n",
       "79  83.0     535\n",
       "80  84.0    2075\n",
       "81  85.0    4669\n",
       "82  86.0    1307\n",
       "83  87.0    2702\n",
       "84  88.0     510\n",
       "85  90.0     389\n",
       "86  92.0     359"
      ]
     },
     "execution_count": 64,
     "metadata": {},
     "output_type": "execute_result"
    }
   ],
   "source": [
    "women_film_df.groupby('age')['words'].sum().reset_index()"
   ]
  },
  {
   "cell_type": "code",
   "execution_count": 65,
   "metadata": {
    "ExecuteTime": {
     "end_time": "2022-11-07T10:54:29.597158Z",
     "start_time": "2022-11-07T10:54:29.592651Z"
    },
    "scrolled": true
   },
   "outputs": [],
   "source": [
    "women_age_words = women_film_df.groupby('age')['words'].sum().reset_index()"
   ]
  },
  {
   "cell_type": "code",
   "execution_count": 66,
   "metadata": {
    "ExecuteTime": {
     "end_time": "2022-11-07T10:54:29.773950Z",
     "start_time": "2022-11-07T10:54:29.765806Z"
    }
   },
   "outputs": [],
   "source": [
    "men_age_words = men_film_df.groupby('age')['words'].sum().reset_index()"
   ]
  },
  {
   "cell_type": "code",
   "execution_count": 67,
   "metadata": {
    "ExecuteTime": {
     "end_time": "2022-11-07T10:54:30.052284Z",
     "start_time": "2022-11-07T10:54:29.934059Z"
    }
   },
   "outputs": [
    {
     "data": {
      "text/plain": [
       "<AxesSubplot:xlabel='age', ylabel='words'>"
      ]
     },
     "execution_count": 67,
     "metadata": {},
     "output_type": "execute_result"
    },
    {
     "data": {
      "image/png": "[encoded data removed]",
      "text/plain": [
       "<Figure size 432x288 with 1 Axes>"
      ]
     },
     "metadata": {
      "needs_background": "light"
     },
     "output_type": "display_data"
    }
   ],
   "source": [
    "ax = women_age_words.plot(kind='scatter', x='age', y='words', color='red')\n",
    "men_age_words.plot(ax=ax, kind='scatter', x='age', y='words', color='blue')"
   ]
  },
  {
   "cell_type": "markdown",
   "metadata": {},
   "source": [
    "Now let's make a line plot of the exact same data. Copy and paste the code in the cell above and change it to produce a line plot instead of a scatter plot."
   ]
  },
  {
   "cell_type": "markdown",
   "metadata": {},
   "source": [
    "<div class=\"admonition note\" name=\"html-admonition\" style=\"background: lightblue; padding: 10px\">\n",
    "Group work!\n",
    "</div>"
   ]
  },
  {
   "cell_type": "code",
   "execution_count": 68,
   "metadata": {
    "ExecuteTime": {
     "end_time": "2022-11-07T10:54:31.060819Z",
     "start_time": "2022-11-07T10:54:31.056227Z"
    }
   },
   "outputs": [],
   "source": [
    "# Your code here\n",
    "# Your code here"
   ]
  }
 ],
 "metadata": {
  "kernelspec": {
   "display_name": "Python 3 (ipykernel)",
   "language": "python",
   "name": "python3"
  },
  "language_info": {
   "codemirror_mode": {
    "name": "ipython",
    "version": 3
   },
   "file_extension": ".py",
   "mimetype": "text/x-python",
   "name": "python",
   "nbconvert_exporter": "python",
   "pygments_lexer": "ipython3",
   "version": "3.8.2"
  },
  "toc": {
   "base_numbering": 1,
   "nav_menu": {},
   "number_sections": true,
   "sideBar": true,
   "skip_h1_title": false,
   "title_cell": "Table of Contents",
   "title_sidebar": "Contents",
   "toc_cell": false,
   "toc_position": {},
   "toc_section_display": true,
   "toc_window_display": false
  },
  "varInspector": {
   "cols": {
    "lenName": 16,
    "lenType": 16,
    "lenVar": 40
   },
   "kernels_config": {
    "python": {
     "delete_cmd_postfix": "",
     "delete_cmd_prefix": "del ",
     "library": "var_list.py",
     "varRefreshCmd": "print(var_dic_list())"
    },
    "r": {
     "delete_cmd_postfix": ") ",
     "delete_cmd_prefix": "rm(",
     "library": "var_list.r",
     "varRefreshCmd": "cat(var_dic_list()) "
    }
   },
   "types_to_exclude": [
    "module",
    "function",
    "builtin_function_or_method",
    "instance",
    "_Feature"
   ],
   "window_display": false
  }
 },
 "nbformat": 4,
 "nbformat_minor": 4
}
